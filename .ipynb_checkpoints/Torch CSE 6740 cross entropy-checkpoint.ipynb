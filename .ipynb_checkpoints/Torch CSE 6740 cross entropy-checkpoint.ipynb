{
 "cells": [
  {
   "cell_type": "code",
   "execution_count": 1,
   "id": "d882a31c-9b20-4522-848c-b04450b64ce6",
   "metadata": {},
   "outputs": [],
   "source": [
    "import numpy as np\n",
    "import pandas as pd\n",
    "import librosa as lb\n",
    "import librosa.display as lbd\n",
    "import soundfile as sf\n",
    "from soundfile import SoundFile\n",
    "import pandas as pd\n",
    "from IPython.display import Audio\n",
    "from pathlib import Path\n",
    "\n",
    "import matplotlib.pyplot as plt\n",
    "\n",
    "# from tqdm import tqdm\n",
    "\n",
    "import joblib, json, re\n",
    "import noisereduce as nr"
   ]
  },
  {
   "cell_type": "code",
   "execution_count": 2,
   "id": "6e2eaaed-d770-48e0-9787-686316bde3e7",
   "metadata": {},
   "outputs": [],
   "source": [
    "import torch\n",
    "import os\n",
    "import pytorch_lightning as pl\n",
    "from torch.utils.data import Dataset, DataLoader\n",
    "from sklearn import model_selection\n",
    "import torchvision.transforms as transforms\n",
    "import torchvision.io \n",
    "import librosa\n",
    "from PIL import Image\n",
    "import torch.multiprocessing as mp\n",
    "import warnings\n",
    "\n",
    "warnings.filterwarnings('ignore')"
   ]
  },
  {
   "cell_type": "code",
   "execution_count": 3,
   "id": "3c49c88b-24df-47b7-8686-e74be02c677e",
   "metadata": {},
   "outputs": [],
   "source": [
    "PATH = r'C:\\Users\\chase\\Desktop\\Georgia Tech\\CSE 6740\\Project\\BIRDCLEF'"
   ]
  },
  {
   "cell_type": "code",
   "execution_count": 4,
   "id": "fee51169-fc4c-42a4-b31c-bbff83c1599d",
   "metadata": {},
   "outputs": [
    {
     "name": "stdout",
     "output_type": "stream",
     "text": [
      "11.8\n"
     ]
    }
   ],
   "source": [
    "print(torch.version.cuda)"
   ]
  },
  {
   "cell_type": "code",
   "execution_count": 5,
   "id": "42eba6be-29da-4eec-b971-66d0e6fb0b41",
   "metadata": {},
   "outputs": [
    {
     "data": {
      "text/plain": [
       "True"
      ]
     },
     "execution_count": 5,
     "metadata": {},
     "output_type": "execute_result"
    }
   ],
   "source": [
    "torch.cuda.is_available()"
   ]
  },
  {
   "cell_type": "markdown",
   "id": "596051ae-1365-4642-b700-2eab946734d1",
   "metadata": {},
   "source": [
    "## Import Data"
   ]
  },
  {
   "cell_type": "code",
   "execution_count": 7,
   "id": "f52c095f-f992-4dd8-8f2b-c2017d8f910a",
   "metadata": {},
   "outputs": [
    {
     "data": {
      "text/html": [
       "<div>\n",
       "<style scoped>\n",
       "    .dataframe tbody tr th:only-of-type {\n",
       "        vertical-align: middle;\n",
       "    }\n",
       "\n",
       "    .dataframe tbody tr th {\n",
       "        vertical-align: top;\n",
       "    }\n",
       "\n",
       "    .dataframe thead th {\n",
       "        text-align: right;\n",
       "    }\n",
       "</style>\n",
       "<table border=\"1\" class=\"dataframe\">\n",
       "  <thead>\n",
       "    <tr style=\"text-align: right;\">\n",
       "      <th></th>\n",
       "      <th>primary_label</th>\n",
       "      <th>type</th>\n",
       "      <th>latitude</th>\n",
       "      <th>longitude</th>\n",
       "      <th>rating</th>\n",
       "      <th>filename</th>\n",
       "    </tr>\n",
       "    <tr>\n",
       "      <th>filename</th>\n",
       "      <th></th>\n",
       "      <th></th>\n",
       "      <th></th>\n",
       "      <th></th>\n",
       "      <th></th>\n",
       "      <th></th>\n",
       "    </tr>\n",
       "  </thead>\n",
       "  <tbody>\n",
       "    <tr>\n",
       "      <th>asbfly/XC134896.ogg</th>\n",
       "      <td>asbfly</td>\n",
       "      <td>['call']</td>\n",
       "      <td>39.2297</td>\n",
       "      <td>118.1987</td>\n",
       "      <td>5.0</td>\n",
       "      <td>asbfly/XC134896.ogg</td>\n",
       "    </tr>\n",
       "    <tr>\n",
       "      <th>asbfly/XC207738.ogg</th>\n",
       "      <td>asbfly</td>\n",
       "      <td>['call']</td>\n",
       "      <td>21.1697</td>\n",
       "      <td>70.6005</td>\n",
       "      <td>4.0</td>\n",
       "      <td>asbfly/XC207738.ogg</td>\n",
       "    </tr>\n",
       "    <tr>\n",
       "      <th>asbfly/XC209218.ogg</th>\n",
       "      <td>asbfly</td>\n",
       "      <td>['call']</td>\n",
       "      <td>15.5442</td>\n",
       "      <td>73.7733</td>\n",
       "      <td>4.0</td>\n",
       "      <td>asbfly/XC209218.ogg</td>\n",
       "    </tr>\n",
       "    <tr>\n",
       "      <th>asbfly/XC209219.ogg</th>\n",
       "      <td>asbfly</td>\n",
       "      <td>['call']</td>\n",
       "      <td>15.5442</td>\n",
       "      <td>73.7733</td>\n",
       "      <td>4.0</td>\n",
       "      <td>asbfly/XC209219.ogg</td>\n",
       "    </tr>\n",
       "    <tr>\n",
       "      <th>asbfly/XC267680.ogg</th>\n",
       "      <td>asbfly</td>\n",
       "      <td>['call', 'male', 'song']</td>\n",
       "      <td>44.3602</td>\n",
       "      <td>132.7989</td>\n",
       "      <td>4.0</td>\n",
       "      <td>asbfly/XC267680.ogg</td>\n",
       "    </tr>\n",
       "  </tbody>\n",
       "</table>\n",
       "</div>"
      ],
      "text/plain": [
       "                    primary_label                      type  latitude  \\\n",
       "filename                                                                \n",
       "asbfly/XC134896.ogg        asbfly                  ['call']   39.2297   \n",
       "asbfly/XC207738.ogg        asbfly                  ['call']   21.1697   \n",
       "asbfly/XC209218.ogg        asbfly                  ['call']   15.5442   \n",
       "asbfly/XC209219.ogg        asbfly                  ['call']   15.5442   \n",
       "asbfly/XC267680.ogg        asbfly  ['call', 'male', 'song']   44.3602   \n",
       "\n",
       "                     longitude  rating             filename  \n",
       "filename                                                     \n",
       "asbfly/XC134896.ogg   118.1987     5.0  asbfly/XC134896.ogg  \n",
       "asbfly/XC207738.ogg    70.6005     4.0  asbfly/XC207738.ogg  \n",
       "asbfly/XC209218.ogg    73.7733     4.0  asbfly/XC209218.ogg  \n",
       "asbfly/XC209219.ogg    73.7733     4.0  asbfly/XC209219.ogg  \n",
       "asbfly/XC267680.ogg   132.7989     4.0  asbfly/XC267680.ogg  "
      ]
     },
     "execution_count": 7,
     "metadata": {},
     "output_type": "execute_result"
    }
   ],
   "source": [
    "df = pd.read_csv(fr'{PATH}\\filtered_data_with_labels 1.csv').drop(columns = 'y')\n",
    "df[\"filename\"] = df[\"filename\"] .str.split('/').apply(lambda x: '/'.join(x[-2:]))\n",
    "df.index = df[\"filename\"]\n",
    "df.head()"
   ]
  },
  {
   "cell_type": "code",
   "execution_count": 8,
   "id": "4aa5b9f8-f7ae-40ca-b78c-773023b864cf",
   "metadata": {},
   "outputs": [
    {
     "data": {
      "text/plain": [
       "6"
      ]
     },
     "execution_count": 8,
     "metadata": {},
     "output_type": "execute_result"
    }
   ],
   "source": [
    "len(df.columns)"
   ]
  },
  {
   "cell_type": "code",
   "execution_count": 9,
   "id": "729856ba-e4a6-440b-ac6d-547c0a188673",
   "metadata": {},
   "outputs": [
    {
     "data": {
      "text/plain": [
       "array([308, 288, 277, 270, 268, 261, 248, 246, 245, 228, 225, 223, 211,\n",
       "       202, 194, 187, 150, 148, 143, 134, 130, 122, 120, 111, 109, 107,\n",
       "       105, 104, 103,  98,  95,  93,  86,  84,  82,  79,  78,  72,  70,\n",
       "        68,  66,  65,  63,  61,  60,  59,  55,  54,  53,  49,  48,  47,\n",
       "        45,  44,  43,  40,  39,  38,  37,  34,  33,  31,  30,  28,  27],\n",
       "      dtype=int64)"
      ]
     },
     "execution_count": 9,
     "metadata": {},
     "output_type": "execute_result"
    }
   ],
   "source": [
    "df['primary_label'].value_counts().unique()"
   ]
  },
  {
   "cell_type": "code",
   "execution_count": 10,
   "id": "342332ec-f832-44d1-9ed0-dc23d61deced",
   "metadata": {},
   "outputs": [
    {
     "data": {
      "text/plain": [
       "27"
      ]
     },
     "execution_count": 10,
     "metadata": {},
     "output_type": "execute_result"
    }
   ],
   "source": [
    "df.primary_label.value_counts().min()"
   ]
  },
  {
   "cell_type": "code",
   "execution_count": 11,
   "id": "2176d25e-3c6e-4aee-85b5-40d580e7421a",
   "metadata": {},
   "outputs": [
    {
     "data": {
      "text/html": [
       "<div>\n",
       "<style scoped>\n",
       "    .dataframe tbody tr th:only-of-type {\n",
       "        vertical-align: middle;\n",
       "    }\n",
       "\n",
       "    .dataframe tbody tr th {\n",
       "        vertical-align: top;\n",
       "    }\n",
       "\n",
       "    .dataframe thead th {\n",
       "        text-align: right;\n",
       "    }\n",
       "</style>\n",
       "<table border=\"1\" class=\"dataframe\">\n",
       "  <thead>\n",
       "    <tr style=\"text-align: right;\">\n",
       "      <th></th>\n",
       "      <th>primary_label</th>\n",
       "      <th>type</th>\n",
       "      <th>latitude</th>\n",
       "      <th>longitude</th>\n",
       "      <th>rating</th>\n",
       "      <th>filename</th>\n",
       "    </tr>\n",
       "    <tr>\n",
       "      <th>filename</th>\n",
       "      <th></th>\n",
       "      <th></th>\n",
       "      <th></th>\n",
       "      <th></th>\n",
       "      <th></th>\n",
       "      <th></th>\n",
       "    </tr>\n",
       "  </thead>\n",
       "  <tbody>\n",
       "    <tr>\n",
       "      <th>asbfly/XC305518.ogg</th>\n",
       "      <td>asbfly</td>\n",
       "      <td>['call']</td>\n",
       "      <td>20.2864</td>\n",
       "      <td>100.0577</td>\n",
       "      <td>3.0</td>\n",
       "      <td>asbfly/XC305518.ogg</td>\n",
       "    </tr>\n",
       "    <tr>\n",
       "      <th>asbfly/XC647397.ogg</th>\n",
       "      <td>asbfly</td>\n",
       "      <td>['call']</td>\n",
       "      <td>6.8922</td>\n",
       "      <td>80.1728</td>\n",
       "      <td>5.0</td>\n",
       "      <td>asbfly/XC647397.ogg</td>\n",
       "    </tr>\n",
       "    <tr>\n",
       "      <th>asbfly/XC291450.ogg</th>\n",
       "      <td>asbfly</td>\n",
       "      <td>['call']</td>\n",
       "      <td>10.1653</td>\n",
       "      <td>76.5476</td>\n",
       "      <td>3.0</td>\n",
       "      <td>asbfly/XC291450.ogg</td>\n",
       "    </tr>\n",
       "    <tr>\n",
       "      <th>asbfly/XC596043.ogg</th>\n",
       "      <td>asbfly</td>\n",
       "      <td>['call']</td>\n",
       "      <td>17.9361</td>\n",
       "      <td>102.6217</td>\n",
       "      <td>5.0</td>\n",
       "      <td>asbfly/XC596043.ogg</td>\n",
       "    </tr>\n",
       "    <tr>\n",
       "      <th>asbfly/XC134896.ogg</th>\n",
       "      <td>asbfly</td>\n",
       "      <td>['call']</td>\n",
       "      <td>39.2297</td>\n",
       "      <td>118.1987</td>\n",
       "      <td>5.0</td>\n",
       "      <td>asbfly/XC134896.ogg</td>\n",
       "    </tr>\n",
       "  </tbody>\n",
       "</table>\n",
       "</div>"
      ],
      "text/plain": [
       "                    primary_label      type  latitude  longitude  rating  \\\n",
       "filename                                                                   \n",
       "asbfly/XC305518.ogg        asbfly  ['call']   20.2864   100.0577     3.0   \n",
       "asbfly/XC647397.ogg        asbfly  ['call']    6.8922    80.1728     5.0   \n",
       "asbfly/XC291450.ogg        asbfly  ['call']   10.1653    76.5476     3.0   \n",
       "asbfly/XC596043.ogg        asbfly  ['call']   17.9361   102.6217     5.0   \n",
       "asbfly/XC134896.ogg        asbfly  ['call']   39.2297   118.1987     5.0   \n",
       "\n",
       "                                filename  \n",
       "filename                                  \n",
       "asbfly/XC305518.ogg  asbfly/XC305518.ogg  \n",
       "asbfly/XC647397.ogg  asbfly/XC647397.ogg  \n",
       "asbfly/XC291450.ogg  asbfly/XC291450.ogg  \n",
       "asbfly/XC596043.ogg  asbfly/XC596043.ogg  \n",
       "asbfly/XC134896.ogg  asbfly/XC134896.ogg  "
      ]
     },
     "execution_count": 11,
     "metadata": {},
     "output_type": "execute_result"
    }
   ],
   "source": [
    "df_sampled = df.groupby('primary_label').sample(n=df.primary_label.value_counts().min(), random_state=42)\n",
    "df_sampled.head()"
   ]
  },
  {
   "cell_type": "code",
   "execution_count": 12,
   "id": "7a8af8d2-601b-443c-90d0-9550dac5a60f",
   "metadata": {},
   "outputs": [
    {
     "name": "stdout",
     "output_type": "stream",
     "text": [
      "89 89\n",
      "1922 481\n"
     ]
    }
   ],
   "source": [
    "from sklearn.model_selection import train_test_split\n",
    "df_train, df_test = train_test_split(df_sampled, test_size=0.2, stratify=df_sampled['primary_label'], random_state=42)\n",
    "\n",
    "master = pd.read_csv(f\"{PATH}/master.csv\").iloc[:,1:]\n",
    "master.index = master[\"filename\"]\n",
    "df_train = master.loc[df_train.index].reset_index(drop = True)\n",
    "df_test = master.loc[df_test.index].reset_index(drop = True)\n",
    "\n",
    "print(len(df_train['primary_label'].unique()), len(df_train['primary_label'].unique()))\n",
    "print(len(df_train), len(df_test))"
   ]
  },
  {
   "cell_type": "code",
   "execution_count": 13,
   "id": "8852797c-af64-4ad8-9f74-f486a77e9d02",
   "metadata": {},
   "outputs": [
    {
     "name": "stdout",
     "output_type": "stream",
     "text": [
      "primary_label\n",
      "stbkin1    22\n",
      "insbab1    22\n",
      "blakit1    22\n",
      "tibfly3    22\n",
      "grtdro1    22\n",
      "           ..\n",
      "litegr     21\n",
      "eurcoo     21\n",
      "shikra1    21\n",
      "grecou1    21\n",
      "rewbul     21\n",
      "Name: count, Length: 89, dtype: int64\n",
      "primary_label\n",
      "putbab1    6\n",
      "ashdro1    6\n",
      "houspa     6\n",
      "lblwar1    6\n",
      "eurcoo     6\n",
      "          ..\n",
      "gryfra     5\n",
      "barswa     5\n",
      "comsan     5\n",
      "blrwar1    5\n",
      "pursun4    5\n",
      "Name: count, Length: 89, dtype: int64\n"
     ]
    }
   ],
   "source": [
    "print(df_train.primary_label.value_counts())\n",
    "print(df_test.primary_label.value_counts())"
   ]
  },
  {
   "cell_type": "code",
   "execution_count": 14,
   "id": "83d706b8-8eb0-4a94-9559-e0172a2e5601",
   "metadata": {},
   "outputs": [],
   "source": [
    "# df_train.to_csv(f\"{PATH}/df_train.csv\", index = False)\n",
    "# df_test.to_csv(f\"{PATH}/df_test.csv\", index = False)"
   ]
  },
  {
   "cell_type": "markdown",
   "id": "4a282fbb-7ba4-4c21-bca2-3377b16809da",
   "metadata": {},
   "source": [
    "## Training"
   ]
  },
  {
   "cell_type": "code",
   "execution_count": 16,
   "id": "ac115cbb-f814-49b2-9c72-1b0cd1bd4b9e",
   "metadata": {},
   "outputs": [],
   "source": [
    "from pytorch_lightning.callbacks import ModelCheckpoint, BackboneFinetuning, EarlyStopping"
   ]
  },
  {
   "cell_type": "code",
   "execution_count": 17,
   "id": "623957e6-ffc0-495b-940e-d70cbf16ce26",
   "metadata": {},
   "outputs": [],
   "source": [
    "# class Config:\n",
    "#     use_aug = False\n",
    "#     num_classes = len(df_train.primary_label.unique())\n",
    "#     batch_size = 64\n",
    "#     epochs = 10\n",
    "#     PRECISION = 16    \n",
    "#     PATIENCE = 8    \n",
    "#     seed = 42\n",
    "#     model = \"tf_efficientnet_b0_ns\"\n",
    "#     pretrained = True            \n",
    "#     weight_decay = 1e-3\n",
    "#     use_mixup = True\n",
    "#     mixup_alpha = 0.2   \n",
    "#     DEVICE = torch.device('cuda' if torch.cuda.is_available() else 'cpu')    \n",
    "\n",
    "#     train_images = PATH+\"/spectrogram/\"\n",
    "#     test_images = PATH + \"/spectrogram/\"\n",
    "#     train_path = PATH+\"/df_train.csv\"\n",
    "#     test_path = PATH+\"/df_test.csv\"\n",
    "    \n",
    "    \n",
    "#     SR = 32000\n",
    "#     DURATION = 10\n",
    "#     MAX_READ_SAMPLES = 5\n",
    "#     LR = 5e-4"
   ]
  },
  {
   "cell_type": "code",
   "execution_count": 18,
   "id": "84e121e3-bf12-4e07-beae-a527c89db6d5",
   "metadata": {},
   "outputs": [],
   "source": [
    "from config import Config\n",
    "from dataset import BirdDataset"
   ]
  },
  {
   "cell_type": "code",
   "execution_count": 19,
   "id": "63a6cf70-df03-4e95-8a9e-81fb586b14e1",
   "metadata": {},
   "outputs": [
    {
     "name": "stderr",
     "output_type": "stream",
     "text": [
      "Seed set to 42\n"
     ]
    },
    {
     "data": {
      "text/plain": [
       "42"
      ]
     },
     "execution_count": 19,
     "metadata": {},
     "output_type": "execute_result"
    }
   ],
   "source": [
    "pl.seed_everything(Config.seed, workers=True)"
   ]
  },
  {
   "cell_type": "code",
   "execution_count": 20,
   "id": "821a1cfa-3721-44e9-9f59-d7c299c30577",
   "metadata": {},
   "outputs": [],
   "source": [
    "def config_to_dict(cfg):\n",
    "    return dict((name, getattr(cfg, name)) for name in dir(cfg) if not name.startswith('__'))"
   ]
  },
  {
   "cell_type": "code",
   "execution_count": 21,
   "id": "f9a08975-a86e-4055-aa7b-ba247aeb96ce",
   "metadata": {},
   "outputs": [],
   "source": [
    "df_train = pd.read_csv(Config.train_path)\n",
    "df_test = pd.read_csv(Config.test_path)\n",
    "df_train = pd.concat([df_train, pd.get_dummies(df_train['primary_label'])], axis=1)\n",
    "df_test = pd.concat([df_test, pd.get_dummies(df_test['primary_label'])], axis=1)"
   ]
  },
  {
   "cell_type": "code",
   "execution_count": 22,
   "id": "f8dacdec-b030-4fc7-95ec-2b5aa0d13f65",
   "metadata": {},
   "outputs": [],
   "source": [
    "birds = list(df_train.primary_label.unique())"
   ]
  },
  {
   "cell_type": "code",
   "execution_count": 23,
   "id": "e34ab232-4fac-4ce9-8af2-2c044cf08a9d",
   "metadata": {},
   "outputs": [],
   "source": [
    "# class BirdDataset(torch.utils.data.Dataset):\n",
    "\n",
    "#     def __init__(self, df, sr = Config.SR, duration = Config.DURATION, augmentations = None, train = True):\n",
    "\n",
    "#         self.df = df\n",
    "#         self.sr = sr \n",
    "#         self.train = train\n",
    "#         self.duration = duration\n",
    "#         self.augmentations = augmentations\n",
    "#         if train:\n",
    "#             self.img_dir = Config.train_images\n",
    "#         else:\n",
    "#             self.img_dir = Config.test_images\n",
    "\n",
    "#     def __len__(self):\n",
    "#         return len(self.df)\n",
    "\n",
    "#     @staticmethod\n",
    "#     def normalize(image):\n",
    "#         image = image / 255.0\n",
    "#         #image = torch.stack([image, image, image])\n",
    "#         return image\n",
    "\n",
    "#     def __getitem__(self, idx):\n",
    "#         row = self.df.iloc[idx]\n",
    "#         impath = self.img_dir + f\"{row.filename}.npy\"\n",
    "\n",
    "#         image = np.load(str(impath))[:Config.MAX_READ_SAMPLES]\n",
    "        \n",
    "#         ########## RANDOM SAMPLING ################\n",
    "#         if self.train:\n",
    "#             image = image[np.random.choice(len(image))]\n",
    "#         else:\n",
    "#             image = image[0]\n",
    "            \n",
    "#         #####################################################################\n",
    "        \n",
    "#         image = torch.tensor(image).float()\n",
    "\n",
    "#         if self.augmentations:\n",
    "#             image = self.augmentations(image.unsqueeze(0)).squeeze()\n",
    "            \n",
    "#         image.size()\n",
    "        \n",
    "#         image = torch.stack([image, image, image])\n",
    "\n",
    "#         image = self.normalize(image)\n",
    "\n",
    "\n",
    "#         return image, torch.tensor(row[16:]).float()"
   ]
  },
  {
   "cell_type": "code",
   "execution_count": 24,
   "id": "85e9165b-f619-4e57-b72e-17e8b98f0629",
   "metadata": {},
   "outputs": [],
   "source": [
    "def get_fold_dls(df_train, df_test):\n",
    "\n",
    "    ds_train = BirdDataset(\n",
    "        df_train, \n",
    "        sr = Config.SR,\n",
    "        duration = Config.DURATION,\n",
    "        train = True\n",
    "    )\n",
    "    ds_test = BirdDataset(\n",
    "        df_test, \n",
    "        sr = Config.SR,\n",
    "        duration = Config.DURATION,\n",
    "        train = False\n",
    "    )\n",
    "    dl_train = DataLoader(ds_train, batch_size=Config.batch_size , shuffle=True, num_workers = 2)    \n",
    "    dl_test = DataLoader(ds_test, batch_size=Config.batch_size, num_workers = 2)\n",
    "    return dl_train, dl_test, ds_train, ds_test"
   ]
  },
  {
   "cell_type": "code",
   "execution_count": 25,
   "id": "6cb45501-29ce-41f0-a38d-70f5f88d93d2",
   "metadata": {},
   "outputs": [],
   "source": [
    "def show_batch(img_ds, num_items, num_rows, num_cols, predict_arr=None):\n",
    "    fig = plt.figure(figsize=(12, 6))    \n",
    "    img_index = np.random.randint(0, len(img_ds)-1, num_items)\n",
    "    for index, img_index in enumerate(img_index):  # list first 9 images\n",
    "        img, lb = img_ds[img_index]        \n",
    "        ax = fig.add_subplot(num_rows, num_cols, index + 1, xticks=[], yticks=[])\n",
    "        if isinstance(img, torch.Tensor):\n",
    "            img = img.detach().numpy()\n",
    "        if isinstance(img, np.ndarray):\n",
    "            img = img.transpose(1, 2, 0)\n",
    "            ax.imshow(img)        \n",
    "            \n",
    "        title = f\"Spec\"\n",
    "        ax.set_title(title)  "
   ]
  },
  {
   "cell_type": "code",
   "execution_count": 26,
   "id": "f18f8548-099a-44b4-adf6-244d90313d2c",
   "metadata": {},
   "outputs": [
    {
     "data": {
      "image/png": "[encoded data removed]",
      "text/plain": [
       "<Figure size 1200x600 with 8 Axes>"
      ]
     },
     "metadata": {},
     "output_type": "display_data"
    }
   ],
   "source": [
    "dl_train, dl_test, ds_train, ds_test = get_fold_dls(df_train, df_test)\n",
    "show_batch(ds_test, 8, 2, 4)"
   ]
  },
  {
   "cell_type": "code",
   "execution_count": 27,
   "id": "f1aed6b5-739e-437c-abb8-0546c34e475d",
   "metadata": {},
   "outputs": [],
   "source": [
    "from torch.optim.lr_scheduler import CosineAnnealingLR, CosineAnnealingWarmRestarts, ReduceLROnPlateau, OneCycleLR\n",
    "\n",
    "def get_optimizer(lr, params):\n",
    "    model_optimizer = torch.optim.Adam(\n",
    "            filter(lambda p: p.requires_grad, params), \n",
    "            lr=lr,\n",
    "            weight_decay=Config.weight_decay\n",
    "        )\n",
    "    interval = \"epoch\"\n",
    "    \n",
    "    lr_scheduler = CosineAnnealingWarmRestarts(\n",
    "                            model_optimizer, \n",
    "                            T_0=Config.epochs, \n",
    "                            T_mult=1, \n",
    "                            eta_min=1e-6, \n",
    "                            last_epoch=-1\n",
    "                        )\n",
    "\n",
    "    return {\n",
    "        \"optimizer\": model_optimizer, \n",
    "        \"lr_scheduler\": {\n",
    "            \"scheduler\": lr_scheduler,\n",
    "            \"interval\": interval,\n",
    "            \"monitor\": \"val_loss\",\n",
    "            \"frequency\": 1\n",
    "        }\n",
    "    }"
   ]
  },
  {
   "cell_type": "code",
   "execution_count": 28,
   "id": "6d332a63-6bd3-4915-b260-07fbd33b2216",
   "metadata": {},
   "outputs": [],
   "source": [
    "from torchtoolbox.tools import mixup_data, mixup_criterion\n",
    "import torch.nn as nn\n",
    "from torch.nn.functional import cross_entropy\n",
    "import torchmetrics\n",
    "import timm"
   ]
  },
  {
   "cell_type": "code",
   "execution_count": 29,
   "id": "0b92ab86-d17f-49f7-8116-5ae2d503b408",
   "metadata": {},
   "outputs": [],
   "source": [
    "import sklearn.metrics\n",
    "\n",
    "def padded_cmap(solution, submission, padding_factor=5):\n",
    "    solution = solution#.drop(['row_id'], axis=1, errors='ignore')\n",
    "    submission = submission#.drop(['row_id'], axis=1, errors='ignore')\n",
    "    new_rows = []\n",
    "    for i in range(padding_factor):\n",
    "        new_rows.append([1 for i in range(len(solution.columns))])\n",
    "    new_rows = pd.DataFrame(new_rows)\n",
    "    new_rows.columns = solution.columns\n",
    "    padded_solution = pd.concat([solution, new_rows]).reset_index(drop=True).copy()\n",
    "    padded_submission = pd.concat([submission, new_rows]).reset_index(drop=True).copy()\n",
    "    score = sklearn.metrics.average_precision_score(\n",
    "        padded_solution.values,\n",
    "        padded_submission.values,\n",
    "        average='macro',\n",
    "    )\n",
    "    return score"
   ]
  },
  {
   "cell_type": "code",
   "execution_count": 30,
   "id": "a7ae31e1-5f10-4d7e-8881-9c266f9ec4ba",
   "metadata": {},
   "outputs": [],
   "source": [
    "class BirdClefModel(pl.LightningModule):\n",
    "    def __init__(self, model_name=Config.model, num_classes = Config.num_classes, pretrained = Config.pretrained):\n",
    "        super().__init__()\n",
    "        self.num_classes = num_classes\n",
    "\n",
    "        self.backbone = timm.create_model(model_name, pretrained=pretrained)\n",
    "\n",
    "        if 'res' in model_name:\n",
    "            self.in_features = self.backbone.fc.in_features\n",
    "            self.backbone.fc = nn.Linear(self.in_features, num_classes)\n",
    "        elif 'dense' in model_name:\n",
    "            self.in_features = self.backbone.classifier.in_features\n",
    "            self.backbone.classifier = nn.Linear(self.in_features, num_classes)\n",
    "        elif 'efficientnet' in model_name:\n",
    "            self.in_features = self.backbone.classifier.in_features\n",
    "            self.backbone.classifier = nn.Sequential(\n",
    "                nn.Linear(self.in_features, num_classes)\n",
    "            )\n",
    "        \n",
    "        self.loss_function = nn.CrossEntropyLoss() \n",
    "\n",
    "    def forward(self,images):\n",
    "        logits = self.backbone(images)\n",
    "        return logits\n",
    "        \n",
    "    def configure_optimizers(self):\n",
    "        return get_optimizer(lr=Config.LR, params=self.parameters())\n",
    "\n",
    "    def train_with_mixup(self, X, y):\n",
    "        X, y_a, y_b, lam = mixup_data(X, y, alpha=Config.mixup_alpha)\n",
    "        y_pred = self(X)\n",
    "        loss_mixup = mixup_criterion(cross_entropy, y_pred, y_a, y_b, lam)\n",
    "        return loss_mixup\n",
    "\n",
    "    def training_step(self, batch, batch_idx):\n",
    "        image, target = batch        \n",
    "        if Config.use_mixup:\n",
    "            loss = self.train_with_mixup(image, target)\n",
    "        else:\n",
    "            y_pred = self(image)\n",
    "            loss = self.loss_function(y_pred,target)\n",
    "\n",
    "        self.log(\"train_loss\", loss, on_step=True, on_epoch=True, prog_bar=True)\n",
    "        return loss        \n",
    "\n",
    "    def validation_step(self, batch, batch_idx):\n",
    "        image, target = batch     \n",
    "        y_pred = self(image)\n",
    "        val_loss = self.loss_function(y_pred, target)\n",
    "        self.log(\"val_loss\", val_loss, on_step=True, on_epoch=True, logger=True, prog_bar=True)\n",
    "        \n",
    "        return {\"val_loss\": val_loss, \"logits\": y_pred, \"targets\": target}\n",
    "    \n",
    "    def train_dataloader(self):\n",
    "        return self._train_dataloader \n",
    "    \n",
    "    def validation_dataloader(self):\n",
    "        return self._validation_dataloader\n",
    "    \n",
    "    def on_validation_batch_end(self, outputs, batch, batch_idx, dataloader_idx=0):\n",
    "        if batch_idx == 0:\n",
    "            self._logits = []\n",
    "            self._targets = []\n",
    "            self._val_loss = []\n",
    "\n",
    "        self._logits.append(outputs[\"logits\"])\n",
    "        self._targets.append(outputs[\"targets\"])\n",
    "        self._val_loss.append(outputs[\"val_loss\"])\n",
    "\n",
    "    def on_validation_epoch_end(self):\n",
    "        output_val = torch.cat(self._logits, dim=0).cpu().detach().numpy()\n",
    "        target_val = torch.cat(self._targets, dim=0).cpu().detach().numpy()\n",
    "        avg_loss = torch.stack(self._val_loss).mean()\n",
    "\n",
    "        # print(output_val.shape)\n",
    "        val_df = pd.DataFrame(target_val, columns = birds)\n",
    "        pred_df = pd.DataFrame(output_val, columns = birds)\n",
    "        \n",
    "        # avg_score = padded_cmap(val_df, pred_df, padding_factor = 5)\n",
    "        # avg_score2 = padded_cmap(val_df, pred_df, padding_factor = 3)\n",
    "\n",
    "        if len(target_val.shape) > 1:\n",
    "            target_val = np.argmax(target_val, axis=1)\n",
    "\n",
    "        output_val = np.argmax(output_val, axis=1)\n",
    "        avg_score3 = sklearn.metrics.accuracy_score(target_val,output_val)\n",
    "        avg_score4 = sklearn.metrics.f1_score(target_val, output_val, average = 'weighted')\n",
    "        \n",
    "        print(f'epoch {self.current_epoch} validation loss {avg_loss}')\n",
    "        # print(f'epoch {self.current_epoch} validation C-MAP score pad 5 {avg_score}')\n",
    "        # print(f'epoch {self.current_epoch} validation C-MAP score pad 3 {avg_score2}')\n",
    "        print(f'epoch {self.current_epoch} validation accuracy score {avg_score3}')\n",
    "        print(f'epoch {self.current_epoch} validation F1 score {avg_score4}')\n",
    "        \n",
    "        return {'val_loss': avg_loss,'val_accuracy':avg_score3}"
   ]
  },
  {
   "cell_type": "code",
   "execution_count": 31,
   "id": "42ea95d8-421c-4757-b3f8-0c9ff520fd26",
   "metadata": {},
   "outputs": [],
   "source": [
    "from pytorch_lightning.loggers import WandbLogger\n",
    "import gc\n",
    "\n",
    "def run_training():\n",
    "    print(f\"Running training...\")\n",
    "    logger = None\n",
    "    \n",
    "    dl_train, dl_test, ds_train, ds_test = get_fold_dls(df_train, df_test)\n",
    "    \n",
    "    audio_model = BirdClefModel()\n",
    "\n",
    "    early_stop_callback = EarlyStopping(monitor=\"val_loss\", min_delta=0.00, patience=Config.PATIENCE, verbose= True, mode=\"min\")\n",
    "    checkpoint_callback = ModelCheckpoint(monitor='val_loss',\n",
    "                                      dirpath= \"exp1/\",\n",
    "                                      save_top_k=1,\n",
    "                                      save_last= True,\n",
    "                                      save_weights_only=True,\n",
    "                                      filename= f'./{Config.model}_loss',\n",
    "                                      verbose= True,\n",
    "                                      mode='min')\n",
    "    \n",
    "    callbacks_to_use = [checkpoint_callback,early_stop_callback]\n",
    "\n",
    "\n",
    "    trainer = pl.Trainer(\n",
    "        val_check_interval=0.5,\n",
    "        deterministic=True,\n",
    "        max_epochs=Config.epochs,\n",
    "        logger=logger,\n",
    "        callbacks=callbacks_to_use,\n",
    "        precision=Config.PRECISION, accelerator=\"gpu\"\n",
    "    )\n",
    "\n",
    "    print(\"Running trainer.fit\")\n",
    "    trainer.fit(audio_model, train_dataloaders = dl_train, val_dataloaders = dl_test)                \n",
    "\n",
    "    gc.collect()"
   ]
  },
  {
   "cell_type": "code",
   "execution_count": 32,
   "id": "19057772-c27b-4f8d-acd3-c6d112f68abc",
   "metadata": {},
   "outputs": [
    {
     "name": "stdout",
     "output_type": "stream",
     "text": [
      "Running training...\n"
     ]
    },
    {
     "name": "stderr",
     "output_type": "stream",
     "text": [
      "Using 16bit Automatic Mixed Precision (AMP)\n",
      "GPU available: True (cuda), used: True\n",
      "TPU available: False, using: 0 TPU cores\n",
      "HPU available: False, using: 0 HPUs\n",
      "You are using a CUDA device ('NVIDIA GeForce RTX 4060 Laptop GPU') that has Tensor Cores. To properly utilize them, you should set `torch.set_float32_matmul_precision('medium' | 'high')` which will trade-off precision for performance. For more details, read https://pytorch.org/docs/stable/generated/torch.set_float32_matmul_precision.html#torch.set_float32_matmul_precision\n",
      "LOCAL_RANK: 0 - CUDA_VISIBLE_DEVICES: [0]\n"
     ]
    },
    {
     "name": "stdout",
     "output_type": "stream",
     "text": [
      "Running trainer.fit\n"
     ]
    },
    {
     "name": "stderr",
     "output_type": "stream",
     "text": [
      "\n",
      "  | Name          | Type             | Params | Mode \n",
      "-----------------------------------------------------------\n",
      "0 | backbone      | EfficientNet     | 4.1 M  | train\n",
      "1 | loss_function | CrossEntropyLoss | 0      | train\n",
      "-----------------------------------------------------------\n",
      "4.1 M     Trainable params\n",
      "0         Non-trainable params\n",
      "4.1 M     Total params\n",
      "16.486    Total estimated model params size (MB)\n",
      "339       Modules in train mode\n",
      "0         Modules in eval mode\n"
     ]
    },
    {
     "data": {
      "application/vnd.jupyter.widget-view+json": {
       "model_id": "a175e388863f4ea394561db3113aa891",
       "version_major": 2,
       "version_minor": 0
      },
      "text/plain": [
       "Sanity Checking: |                                                                               | 0/? [00:00<…"
      ]
     },
     "metadata": {},
     "output_type": "display_data"
    },
    {
     "name": "stdout",
     "output_type": "stream",
     "text": [
      "epoch 0 validation loss 4.490692138671875\n",
      "epoch 0 validation accuracy score 0.015625\n",
      "epoch 0 validation F1 score 0.0019739029255319146\n"
     ]
    },
    {
     "data": {
      "application/vnd.jupyter.widget-view+json": {
       "model_id": "9cc8a3f99ad640b295952ee5c327af65",
       "version_major": 2,
       "version_minor": 0
      },
      "text/plain": [
       "Training: |                                                                                      | 0/? [00:00<…"
      ]
     },
     "metadata": {},
     "output_type": "display_data"
    },
    {
     "data": {
      "application/vnd.jupyter.widget-view+json": {
       "model_id": "1171aef8893a4509bbf70f0f65deea00",
       "version_major": 2,
       "version_minor": 0
      },
      "text/plain": [
       "Validation: |                                                                                    | 0/? [00:00<…"
      ]
     },
     "metadata": {},
     "output_type": "display_data"
    },
    {
     "name": "stderr",
     "output_type": "stream",
     "text": [
      "Metric val_loss improved. New best score: 4.459\n",
      "Epoch 0, global step 15: 'val_loss' reached 4.45867 (best 4.45867), saving model to 'C:\\\\Users\\\\chase\\\\Desktop\\\\Georgia Tech\\\\CSE 6740\\\\Project\\\\exp1\\\\./tf_efficientnet_b0_ns_loss.ckpt' as top 1\n"
     ]
    },
    {
     "name": "stdout",
     "output_type": "stream",
     "text": [
      "epoch 0 validation loss 4.45756196975708\n",
      "epoch 0 validation accuracy score 0.02286902286902287\n",
      "epoch 0 validation F1 score 0.00531654274969783\n"
     ]
    },
    {
     "data": {
      "application/vnd.jupyter.widget-view+json": {
       "model_id": "96b387dca2b545318cbbbd9fe88db83f",
       "version_major": 2,
       "version_minor": 0
      },
      "text/plain": [
       "Validation: |                                                                                    | 0/? [00:00<…"
      ]
     },
     "metadata": {},
     "output_type": "display_data"
    },
    {
     "name": "stderr",
     "output_type": "stream",
     "text": [
      "Metric val_loss improved by 0.079 >= min_delta = 0.0. New best score: 4.379\n",
      "Epoch 0, global step 30: 'val_loss' reached 4.37941 (best 4.37941), saving model to 'C:\\\\Users\\\\chase\\\\Desktop\\\\Georgia Tech\\\\CSE 6740\\\\Project\\\\exp1\\\\./tf_efficientnet_b0_ns_loss.ckpt' as top 1\n"
     ]
    },
    {
     "name": "stdout",
     "output_type": "stream",
     "text": [
      "epoch 0 validation loss 4.374813556671143\n",
      "epoch 0 validation accuracy score 0.04781704781704782\n",
      "epoch 0 validation F1 score 0.024687527353841325\n"
     ]
    },
    {
     "data": {
      "application/vnd.jupyter.widget-view+json": {
       "model_id": "4c5a5e82dd184e89be6edf0f46899a41",
       "version_major": 2,
       "version_minor": 0
      },
      "text/plain": [
       "Validation: |                                                                                    | 0/? [00:00<…"
      ]
     },
     "metadata": {},
     "output_type": "display_data"
    },
    {
     "name": "stderr",
     "output_type": "stream",
     "text": [
      "Metric val_loss improved by 0.328 >= min_delta = 0.0. New best score: 4.052\n",
      "Epoch 1, global step 46: 'val_loss' reached 4.05180 (best 4.05180), saving model to 'C:\\\\Users\\\\chase\\\\Desktop\\\\Georgia Tech\\\\CSE 6740\\\\Project\\\\exp1\\\\./tf_efficientnet_b0_ns_loss.ckpt' as top 1\n"
     ]
    },
    {
     "name": "stdout",
     "output_type": "stream",
     "text": [
      "epoch 1 validation loss 4.051372528076172\n",
      "epoch 1 validation accuracy score 0.13513513513513514\n",
      "epoch 1 validation F1 score 0.09255303381134303\n"
     ]
    },
    {
     "data": {
      "application/vnd.jupyter.widget-view+json": {
       "model_id": "83266ae7c1d54dbb924bf262c006465e",
       "version_major": 2,
       "version_minor": 0
      },
      "text/plain": [
       "Validation: |                                                                                    | 0/? [00:00<…"
      ]
     },
     "metadata": {},
     "output_type": "display_data"
    },
    {
     "name": "stderr",
     "output_type": "stream",
     "text": [
      "Metric val_loss improved by 0.388 >= min_delta = 0.0. New best score: 3.664\n",
      "Epoch 1, global step 61: 'val_loss' reached 3.66403 (best 3.66403), saving model to 'C:\\\\Users\\\\chase\\\\Desktop\\\\Georgia Tech\\\\CSE 6740\\\\Project\\\\exp1\\\\./tf_efficientnet_b0_ns_loss.ckpt' as top 1\n"
     ]
    },
    {
     "name": "stdout",
     "output_type": "stream",
     "text": [
      "epoch 1 validation loss 3.6657817363739014\n",
      "epoch 1 validation accuracy score 0.1891891891891892\n",
      "epoch 1 validation F1 score 0.1591130801320955\n"
     ]
    },
    {
     "data": {
      "application/vnd.jupyter.widget-view+json": {
       "model_id": "f847c005994f4f4d9a1c032ef816ed5c",
       "version_major": 2,
       "version_minor": 0
      },
      "text/plain": [
       "Validation: |                                                                                    | 0/? [00:00<…"
      ]
     },
     "metadata": {},
     "output_type": "display_data"
    },
    {
     "name": "stderr",
     "output_type": "stream",
     "text": [
      "Metric val_loss improved by 0.304 >= min_delta = 0.0. New best score: 3.360\n",
      "Epoch 2, global step 77: 'val_loss' reached 3.35989 (best 3.35989), saving model to 'C:\\\\Users\\\\chase\\\\Desktop\\\\Georgia Tech\\\\CSE 6740\\\\Project\\\\exp1\\\\./tf_efficientnet_b0_ns_loss.ckpt' as top 1\n"
     ]
    },
    {
     "name": "stdout",
     "output_type": "stream",
     "text": [
      "epoch 2 validation loss 3.3684635162353516\n",
      "epoch 2 validation accuracy score 0.2494802494802495\n",
      "epoch 2 validation F1 score 0.21636309060695819\n"
     ]
    },
    {
     "data": {
      "application/vnd.jupyter.widget-view+json": {
       "model_id": "5b958ad9cda84eccbe77305342e2de03",
       "version_major": 2,
       "version_minor": 0
      },
      "text/plain": [
       "Validation: |                                                                                    | 0/? [00:00<…"
      ]
     },
     "metadata": {},
     "output_type": "display_data"
    },
    {
     "name": "stderr",
     "output_type": "stream",
     "text": [
      "Metric val_loss improved by 0.577 >= min_delta = 0.0. New best score: 2.783\n",
      "Epoch 2, global step 92: 'val_loss' reached 2.78317 (best 2.78317), saving model to 'C:\\\\Users\\\\chase\\\\Desktop\\\\Georgia Tech\\\\CSE 6740\\\\Project\\\\exp1\\\\./tf_efficientnet_b0_ns_loss.ckpt' as top 1\n"
     ]
    },
    {
     "name": "stdout",
     "output_type": "stream",
     "text": [
      "epoch 2 validation loss 2.797243595123291\n",
      "epoch 2 validation accuracy score 0.35343035343035345\n",
      "epoch 2 validation F1 score 0.3150166037341556\n"
     ]
    },
    {
     "data": {
      "application/vnd.jupyter.widget-view+json": {
       "model_id": "597e7c9413114f1f8d970c5394fdf558",
       "version_major": 2,
       "version_minor": 0
      },
      "text/plain": [
       "Validation: |                                                                                    | 0/? [00:00<…"
      ]
     },
     "metadata": {},
     "output_type": "display_data"
    },
    {
     "name": "stderr",
     "output_type": "stream",
     "text": [
      "Metric val_loss improved by 0.303 >= min_delta = 0.0. New best score: 2.480\n",
      "Epoch 3, global step 108: 'val_loss' reached 2.48041 (best 2.48041), saving model to 'C:\\\\Users\\\\chase\\\\Desktop\\\\Georgia Tech\\\\CSE 6740\\\\Project\\\\exp1\\\\./tf_efficientnet_b0_ns_loss.ckpt' as top 1\n"
     ]
    },
    {
     "name": "stdout",
     "output_type": "stream",
     "text": [
      "epoch 3 validation loss 2.4908804893493652\n",
      "epoch 3 validation accuracy score 0.4282744282744283\n",
      "epoch 3 validation F1 score 0.3893470096196936\n"
     ]
    },
    {
     "data": {
      "application/vnd.jupyter.widget-view+json": {
       "model_id": "e800a2e0a9994b80baaf6381bf9dfb48",
       "version_major": 2,
       "version_minor": 0
      },
      "text/plain": [
       "Validation: |                                                                                    | 0/? [00:00<…"
      ]
     },
     "metadata": {},
     "output_type": "display_data"
    },
    {
     "name": "stderr",
     "output_type": "stream",
     "text": [
      "Metric val_loss improved by 0.062 >= min_delta = 0.0. New best score: 2.419\n",
      "Epoch 3, global step 123: 'val_loss' reached 2.41889 (best 2.41889), saving model to 'C:\\\\Users\\\\chase\\\\Desktop\\\\Georgia Tech\\\\CSE 6740\\\\Project\\\\exp1\\\\./tf_efficientnet_b0_ns_loss.ckpt' as top 1\n"
     ]
    },
    {
     "name": "stdout",
     "output_type": "stream",
     "text": [
      "epoch 3 validation loss 2.417717218399048\n",
      "epoch 3 validation accuracy score 0.42411642411642414\n",
      "epoch 3 validation F1 score 0.40697928815622464\n"
     ]
    },
    {
     "data": {
      "application/vnd.jupyter.widget-view+json": {
       "model_id": "1cfb86645d9a4156a4517c4226bb2a21",
       "version_major": 2,
       "version_minor": 0
      },
      "text/plain": [
       "Validation: |                                                                                    | 0/? [00:00<…"
      ]
     },
     "metadata": {},
     "output_type": "display_data"
    },
    {
     "name": "stderr",
     "output_type": "stream",
     "text": [
      "Metric val_loss improved by 0.076 >= min_delta = 0.0. New best score: 2.343\n",
      "Epoch 4, global step 139: 'val_loss' reached 2.34307 (best 2.34307), saving model to 'C:\\\\Users\\\\chase\\\\Desktop\\\\Georgia Tech\\\\CSE 6740\\\\Project\\\\exp1\\\\./tf_efficientnet_b0_ns_loss.ckpt' as top 1\n"
     ]
    },
    {
     "name": "stdout",
     "output_type": "stream",
     "text": [
      "epoch 4 validation loss 2.3532228469848633\n",
      "epoch 4 validation accuracy score 0.46153846153846156\n",
      "epoch 4 validation F1 score 0.4516969605562127\n"
     ]
    },
    {
     "data": {
      "application/vnd.jupyter.widget-view+json": {
       "model_id": "36f3b805ecdd4eabae5c66fa28b6aae9",
       "version_major": 2,
       "version_minor": 0
      },
      "text/plain": [
       "Validation: |                                                                                    | 0/? [00:00<…"
      ]
     },
     "metadata": {},
     "output_type": "display_data"
    },
    {
     "name": "stderr",
     "output_type": "stream",
     "text": [
      "Metric val_loss improved by 0.265 >= min_delta = 0.0. New best score: 2.078\n",
      "Epoch 4, global step 154: 'val_loss' reached 2.07795 (best 2.07795), saving model to 'C:\\\\Users\\\\chase\\\\Desktop\\\\Georgia Tech\\\\CSE 6740\\\\Project\\\\exp1\\\\./tf_efficientnet_b0_ns_loss.ckpt' as top 1\n"
     ]
    },
    {
     "name": "stdout",
     "output_type": "stream",
     "text": [
      "epoch 4 validation loss 2.0881402492523193\n",
      "epoch 4 validation accuracy score 0.5072765072765073\n",
      "epoch 4 validation F1 score 0.49244314278250934\n"
     ]
    },
    {
     "data": {
      "application/vnd.jupyter.widget-view+json": {
       "model_id": "a098ed6abc694648b0de0437e47a3db9",
       "version_major": 2,
       "version_minor": 0
      },
      "text/plain": [
       "Validation: |                                                                                    | 0/? [00:00<…"
      ]
     },
     "metadata": {},
     "output_type": "display_data"
    },
    {
     "name": "stderr",
     "output_type": "stream",
     "text": [
      "Epoch 5, global step 170: 'val_loss' was not in top 1\n"
     ]
    },
    {
     "name": "stdout",
     "output_type": "stream",
     "text": [
      "epoch 5 validation loss 2.100647211074829\n",
      "epoch 5 validation accuracy score 0.5031185031185031\n",
      "epoch 5 validation F1 score 0.49065978149688555\n"
     ]
    },
    {
     "data": {
      "application/vnd.jupyter.widget-view+json": {
       "model_id": "bccb598dd59c49f8bee56b5c2e345d8a",
       "version_major": 2,
       "version_minor": 0
      },
      "text/plain": [
       "Validation: |                                                                                    | 0/? [00:00<…"
      ]
     },
     "metadata": {},
     "output_type": "display_data"
    },
    {
     "name": "stderr",
     "output_type": "stream",
     "text": [
      "Metric val_loss improved by 0.000 >= min_delta = 0.0. New best score: 2.078\n",
      "Epoch 5, global step 185: 'val_loss' reached 2.07752 (best 2.07752), saving model to 'C:\\\\Users\\\\chase\\\\Desktop\\\\Georgia Tech\\\\CSE 6740\\\\Project\\\\exp1\\\\./tf_efficientnet_b0_ns_loss.ckpt' as top 1\n"
     ]
    },
    {
     "name": "stdout",
     "output_type": "stream",
     "text": [
      "epoch 5 validation loss 2.08919620513916\n",
      "epoch 5 validation accuracy score 0.5093555093555093\n",
      "epoch 5 validation F1 score 0.5041816678694507\n"
     ]
    },
    {
     "data": {
      "application/vnd.jupyter.widget-view+json": {
       "model_id": "a9b8256379d94fd5966c7d4f313973ed",
       "version_major": 2,
       "version_minor": 0
      },
      "text/plain": [
       "Validation: |                                                                                    | 0/? [00:00<…"
      ]
     },
     "metadata": {},
     "output_type": "display_data"
    },
    {
     "name": "stderr",
     "output_type": "stream",
     "text": [
      "Metric val_loss improved by 0.146 >= min_delta = 0.0. New best score: 1.932\n",
      "Epoch 6, global step 201: 'val_loss' reached 1.93178 (best 1.93178), saving model to 'C:\\\\Users\\\\chase\\\\Desktop\\\\Georgia Tech\\\\CSE 6740\\\\Project\\\\exp1\\\\./tf_efficientnet_b0_ns_loss.ckpt' as top 1\n"
     ]
    },
    {
     "name": "stdout",
     "output_type": "stream",
     "text": [
      "epoch 6 validation loss 1.9366307258605957\n",
      "epoch 6 validation accuracy score 0.5467775467775468\n",
      "epoch 6 validation F1 score 0.5381306948049029\n"
     ]
    },
    {
     "data": {
      "application/vnd.jupyter.widget-view+json": {
       "model_id": "30d8b6dea43f4be1b12c30d0779ecc69",
       "version_major": 2,
       "version_minor": 0
      },
      "text/plain": [
       "Validation: |                                                                                    | 0/? [00:00<…"
      ]
     },
     "metadata": {},
     "output_type": "display_data"
    },
    {
     "name": "stderr",
     "output_type": "stream",
     "text": [
      "Epoch 6, global step 216: 'val_loss' was not in top 1\n"
     ]
    },
    {
     "name": "stdout",
     "output_type": "stream",
     "text": [
      "epoch 6 validation loss 1.9384653568267822\n",
      "epoch 6 validation accuracy score 0.5426195426195426\n",
      "epoch 6 validation F1 score 0.5421082002529966\n"
     ]
    },
    {
     "data": {
      "application/vnd.jupyter.widget-view+json": {
       "model_id": "a8172a7010f54f28842eb6574efee955",
       "version_major": 2,
       "version_minor": 0
      },
      "text/plain": [
       "Validation: |                                                                                    | 0/? [00:00<…"
      ]
     },
     "metadata": {},
     "output_type": "display_data"
    },
    {
     "name": "stderr",
     "output_type": "stream",
     "text": [
      "Epoch 7, global step 232: 'val_loss' was not in top 1\n"
     ]
    },
    {
     "name": "stdout",
     "output_type": "stream",
     "text": [
      "epoch 7 validation loss 1.936086893081665\n",
      "epoch 7 validation accuracy score 0.5467775467775468\n",
      "epoch 7 validation F1 score 0.5386832074614879\n"
     ]
    },
    {
     "data": {
      "application/vnd.jupyter.widget-view+json": {
       "model_id": "3e2e58a9561f4482822b9c042a502166",
       "version_major": 2,
       "version_minor": 0
      },
      "text/plain": [
       "Validation: |                                                                                    | 0/? [00:00<…"
      ]
     },
     "metadata": {},
     "output_type": "display_data"
    },
    {
     "name": "stderr",
     "output_type": "stream",
     "text": [
      "Metric val_loss improved by 0.029 >= min_delta = 0.0. New best score: 1.902\n",
      "Epoch 7, global step 247: 'val_loss' reached 1.90238 (best 1.90238), saving model to 'C:\\\\Users\\\\chase\\\\Desktop\\\\Georgia Tech\\\\CSE 6740\\\\Project\\\\exp1\\\\./tf_efficientnet_b0_ns_loss.ckpt' as top 1\n"
     ]
    },
    {
     "name": "stdout",
     "output_type": "stream",
     "text": [
      "epoch 7 validation loss 1.8972318172454834\n",
      "epoch 7 validation accuracy score 0.5384615384615384\n",
      "epoch 7 validation F1 score 0.528509521734099\n"
     ]
    },
    {
     "data": {
      "application/vnd.jupyter.widget-view+json": {
       "model_id": "24632ead08b741d19226dc2c4617da2a",
       "version_major": 2,
       "version_minor": 0
      },
      "text/plain": [
       "Validation: |                                                                                    | 0/? [00:00<…"
      ]
     },
     "metadata": {},
     "output_type": "display_data"
    },
    {
     "name": "stderr",
     "output_type": "stream",
     "text": [
      "Epoch 8, global step 263: 'val_loss' was not in top 1\n"
     ]
    },
    {
     "name": "stdout",
     "output_type": "stream",
     "text": [
      "epoch 8 validation loss 1.9334635734558105\n",
      "epoch 8 validation accuracy score 0.5405405405405406\n",
      "epoch 8 validation F1 score 0.5332687409610486\n"
     ]
    },
    {
     "data": {
      "application/vnd.jupyter.widget-view+json": {
       "model_id": "3120df25a4d54ceeaff8dd31d69f3d05",
       "version_major": 2,
       "version_minor": 0
      },
      "text/plain": [
       "Validation: |                                                                                    | 0/? [00:00<…"
      ]
     },
     "metadata": {},
     "output_type": "display_data"
    },
    {
     "name": "stderr",
     "output_type": "stream",
     "text": [
      "Metric val_loss improved by 0.091 >= min_delta = 0.0. New best score: 1.811\n",
      "Epoch 8, global step 278: 'val_loss' reached 1.81125 (best 1.81125), saving model to 'C:\\\\Users\\\\chase\\\\Desktop\\\\Georgia Tech\\\\CSE 6740\\\\Project\\\\exp1\\\\./tf_efficientnet_b0_ns_loss.ckpt' as top 1\n"
     ]
    },
    {
     "name": "stdout",
     "output_type": "stream",
     "text": [
      "epoch 8 validation loss 1.7991280555725098\n",
      "epoch 8 validation accuracy score 0.5738045738045738\n",
      "epoch 8 validation F1 score 0.5705855799985354\n"
     ]
    },
    {
     "data": {
      "application/vnd.jupyter.widget-view+json": {
       "model_id": "368f3b554c2143d0b898c73f8defc396",
       "version_major": 2,
       "version_minor": 0
      },
      "text/plain": [
       "Validation: |                                                                                    | 0/? [00:00<…"
      ]
     },
     "metadata": {},
     "output_type": "display_data"
    },
    {
     "name": "stderr",
     "output_type": "stream",
     "text": [
      "Epoch 9, global step 294: 'val_loss' was not in top 1\n"
     ]
    },
    {
     "name": "stdout",
     "output_type": "stream",
     "text": [
      "epoch 9 validation loss 1.877241611480713\n",
      "epoch 9 validation accuracy score 0.5758835758835759\n",
      "epoch 9 validation F1 score 0.5744131247524912\n"
     ]
    },
    {
     "data": {
      "application/vnd.jupyter.widget-view+json": {
       "model_id": "a7c8257fcfb74e09914f323c5d08abd6",
       "version_major": 2,
       "version_minor": 0
      },
      "text/plain": [
       "Validation: |                                                                                    | 0/? [00:00<…"
      ]
     },
     "metadata": {},
     "output_type": "display_data"
    },
    {
     "name": "stderr",
     "output_type": "stream",
     "text": [
      "Epoch 9, global step 309: 'val_loss' was not in top 1\n"
     ]
    },
    {
     "name": "stdout",
     "output_type": "stream",
     "text": [
      "epoch 9 validation loss 1.8497374057769775\n",
      "epoch 9 validation accuracy score 0.58004158004158\n",
      "epoch 9 validation F1 score 0.5712475039398117\n"
     ]
    },
    {
     "data": {
      "application/vnd.jupyter.widget-view+json": {
       "model_id": "5ff3db236fba4538b206e9c4a08d39d2",
       "version_major": 2,
       "version_minor": 0
      },
      "text/plain": [
       "Validation: |                                                                                    | 0/? [00:00<…"
      ]
     },
     "metadata": {},
     "output_type": "display_data"
    },
    {
     "name": "stderr",
     "output_type": "stream",
     "text": [
      "Epoch 10, global step 325: 'val_loss' was not in top 1\n"
     ]
    },
    {
     "name": "stdout",
     "output_type": "stream",
     "text": [
      "epoch 10 validation loss 1.8636831045150757\n",
      "epoch 10 validation accuracy score 0.58004158004158\n",
      "epoch 10 validation F1 score 0.5811516900883417\n"
     ]
    },
    {
     "data": {
      "application/vnd.jupyter.widget-view+json": {
       "model_id": "e1fb0ad18fb34aba9e0c5dfa7d115e1b",
       "version_major": 2,
       "version_minor": 0
      },
      "text/plain": [
       "Validation: |                                                                                    | 0/? [00:00<…"
      ]
     },
     "metadata": {},
     "output_type": "display_data"
    },
    {
     "name": "stderr",
     "output_type": "stream",
     "text": [
      "Metric val_loss improved by 0.001 >= min_delta = 0.0. New best score: 1.810\n",
      "Epoch 10, global step 340: 'val_loss' reached 1.80999 (best 1.80999), saving model to 'C:\\\\Users\\\\chase\\\\Desktop\\\\Georgia Tech\\\\CSE 6740\\\\Project\\\\exp1\\\\./tf_efficientnet_b0_ns_loss.ckpt' as top 1\n"
     ]
    },
    {
     "name": "stdout",
     "output_type": "stream",
     "text": [
      "epoch 10 validation loss 1.797177791595459\n",
      "epoch 10 validation accuracy score 0.5945945945945946\n",
      "epoch 10 validation F1 score 0.5920602877616452\n"
     ]
    },
    {
     "data": {
      "application/vnd.jupyter.widget-view+json": {
       "model_id": "ca78aa82009d4b149728c2ef0fe8fc86",
       "version_major": 2,
       "version_minor": 0
      },
      "text/plain": [
       "Validation: |                                                                                    | 0/? [00:00<…"
      ]
     },
     "metadata": {},
     "output_type": "display_data"
    },
    {
     "name": "stderr",
     "output_type": "stream",
     "text": [
      "Epoch 11, global step 356: 'val_loss' was not in top 1\n"
     ]
    },
    {
     "name": "stdout",
     "output_type": "stream",
     "text": [
      "epoch 11 validation loss 1.8545587062835693\n",
      "epoch 11 validation accuracy score 0.5862785862785863\n",
      "epoch 11 validation F1 score 0.5805564073663622\n"
     ]
    },
    {
     "data": {
      "application/vnd.jupyter.widget-view+json": {
       "model_id": "0e74897870cb43c9bacf36f6c3318b51",
       "version_major": 2,
       "version_minor": 0
      },
      "text/plain": [
       "Validation: |                                                                                    | 0/? [00:00<…"
      ]
     },
     "metadata": {},
     "output_type": "display_data"
    },
    {
     "name": "stderr",
     "output_type": "stream",
     "text": [
      "Epoch 11, global step 371: 'val_loss' was not in top 1\n"
     ]
    },
    {
     "name": "stdout",
     "output_type": "stream",
     "text": [
      "epoch 11 validation loss 1.8121387958526611\n",
      "epoch 11 validation accuracy score 0.5925155925155925\n",
      "epoch 11 validation F1 score 0.5880425211873177\n"
     ]
    },
    {
     "data": {
      "application/vnd.jupyter.widget-view+json": {
       "model_id": "6713df4574254e6bb6559c236501fe62",
       "version_major": 2,
       "version_minor": 0
      },
      "text/plain": [
       "Validation: |                                                                                    | 0/? [00:00<…"
      ]
     },
     "metadata": {},
     "output_type": "display_data"
    },
    {
     "name": "stderr",
     "output_type": "stream",
     "text": [
      "Epoch 12, global step 387: 'val_loss' was not in top 1\n"
     ]
    },
    {
     "name": "stdout",
     "output_type": "stream",
     "text": [
      "epoch 12 validation loss 1.9409857988357544\n",
      "epoch 12 validation accuracy score 0.5426195426195426\n",
      "epoch 12 validation F1 score 0.5404393164097856\n"
     ]
    },
    {
     "data": {
      "application/vnd.jupyter.widget-view+json": {
       "model_id": "fdefc527bae148e6895a0ac4db5f06ef",
       "version_major": 2,
       "version_minor": 0
      },
      "text/plain": [
       "Validation: |                                                                                    | 0/? [00:00<…"
      ]
     },
     "metadata": {},
     "output_type": "display_data"
    },
    {
     "name": "stderr",
     "output_type": "stream",
     "text": [
      "Epoch 12, global step 402: 'val_loss' was not in top 1\n"
     ]
    },
    {
     "name": "stdout",
     "output_type": "stream",
     "text": [
      "epoch 12 validation loss 1.8636889457702637\n",
      "epoch 12 validation accuracy score 0.5634095634095634\n",
      "epoch 12 validation F1 score 0.5564015414694148\n"
     ]
    },
    {
     "data": {
      "application/vnd.jupyter.widget-view+json": {
       "model_id": "6adf678515cd43919aa25aaff29d4d7b",
       "version_major": 2,
       "version_minor": 0
      },
      "text/plain": [
       "Validation: |                                                                                    | 0/? [00:00<…"
      ]
     },
     "metadata": {},
     "output_type": "display_data"
    },
    {
     "name": "stderr",
     "output_type": "stream",
     "text": [
      "Metric val_loss improved by 0.020 >= min_delta = 0.0. New best score: 1.790\n",
      "Epoch 13, global step 418: 'val_loss' reached 1.78967 (best 1.78967), saving model to 'C:\\\\Users\\\\chase\\\\Desktop\\\\Georgia Tech\\\\CSE 6740\\\\Project\\\\exp1\\\\./tf_efficientnet_b0_ns_loss.ckpt' as top 1\n"
     ]
    },
    {
     "name": "stdout",
     "output_type": "stream",
     "text": [
      "epoch 13 validation loss 1.7767003774642944\n",
      "epoch 13 validation accuracy score 0.6008316008316008\n",
      "epoch 13 validation F1 score 0.5967166901556041\n"
     ]
    },
    {
     "data": {
      "application/vnd.jupyter.widget-view+json": {
       "model_id": "7d18c5f64c1c40da837d391c112ed38a",
       "version_major": 2,
       "version_minor": 0
      },
      "text/plain": [
       "Validation: |                                                                                    | 0/? [00:00<…"
      ]
     },
     "metadata": {},
     "output_type": "display_data"
    },
    {
     "name": "stderr",
     "output_type": "stream",
     "text": [
      "Metric val_loss improved by 0.021 >= min_delta = 0.0. New best score: 1.769\n",
      "Epoch 13, global step 433: 'val_loss' reached 1.76861 (best 1.76861), saving model to 'C:\\\\Users\\\\chase\\\\Desktop\\\\Georgia Tech\\\\CSE 6740\\\\Project\\\\exp1\\\\./tf_efficientnet_b0_ns_loss.ckpt' as top 1\n"
     ]
    },
    {
     "name": "stdout",
     "output_type": "stream",
     "text": [
      "epoch 13 validation loss 1.7555201053619385\n",
      "epoch 13 validation accuracy score 0.6008316008316008\n",
      "epoch 13 validation F1 score 0.5972759775927198\n"
     ]
    },
    {
     "data": {
      "application/vnd.jupyter.widget-view+json": {
       "model_id": "6fbf418a816d46b091f32cd6979d5593",
       "version_major": 2,
       "version_minor": 0
      },
      "text/plain": [
       "Validation: |                                                                                    | 0/? [00:00<…"
      ]
     },
     "metadata": {},
     "output_type": "display_data"
    },
    {
     "name": "stderr",
     "output_type": "stream",
     "text": [
      "Epoch 14, global step 449: 'val_loss' was not in top 1\n"
     ]
    },
    {
     "name": "stdout",
     "output_type": "stream",
     "text": [
      "epoch 14 validation loss 1.7829833030700684\n",
      "epoch 14 validation accuracy score 0.6029106029106029\n",
      "epoch 14 validation F1 score 0.5999487130232546\n"
     ]
    },
    {
     "data": {
      "application/vnd.jupyter.widget-view+json": {
       "model_id": "d33b9bbbb0f5405cb4439606bf4ddb2b",
       "version_major": 2,
       "version_minor": 0
      },
      "text/plain": [
       "Validation: |                                                                                    | 0/? [00:00<…"
      ]
     },
     "metadata": {},
     "output_type": "display_data"
    },
    {
     "name": "stderr",
     "output_type": "stream",
     "text": [
      "Epoch 14, global step 464: 'val_loss' was not in top 1\n"
     ]
    },
    {
     "name": "stdout",
     "output_type": "stream",
     "text": [
      "epoch 14 validation loss 1.8194470405578613\n",
      "epoch 14 validation accuracy score 0.5883575883575883\n",
      "epoch 14 validation F1 score 0.5865446478568651\n"
     ]
    },
    {
     "data": {
      "application/vnd.jupyter.widget-view+json": {
       "model_id": "381eff7ce740408f85081e1179a57b54",
       "version_major": 2,
       "version_minor": 0
      },
      "text/plain": [
       "Validation: |                                                                                    | 0/? [00:00<…"
      ]
     },
     "metadata": {},
     "output_type": "display_data"
    },
    {
     "name": "stderr",
     "output_type": "stream",
     "text": [
      "Epoch 15, global step 480: 'val_loss' was not in top 1\n"
     ]
    },
    {
     "name": "stdout",
     "output_type": "stream",
     "text": [
      "epoch 15 validation loss 1.7998666763305664\n",
      "epoch 15 validation accuracy score 0.5987525987525988\n",
      "epoch 15 validation F1 score 0.5979211418125445\n"
     ]
    },
    {
     "data": {
      "application/vnd.jupyter.widget-view+json": {
       "model_id": "73a49ac5a03a482e86339b1b4cfe4441",
       "version_major": 2,
       "version_minor": 0
      },
      "text/plain": [
       "Validation: |                                                                                    | 0/? [00:00<…"
      ]
     },
     "metadata": {},
     "output_type": "display_data"
    },
    {
     "name": "stderr",
     "output_type": "stream",
     "text": [
      "Epoch 15, global step 495: 'val_loss' was not in top 1\n"
     ]
    },
    {
     "name": "stdout",
     "output_type": "stream",
     "text": [
      "epoch 15 validation loss 1.7562562227249146\n",
      "epoch 15 validation accuracy score 0.6029106029106029\n",
      "epoch 15 validation F1 score 0.607166545628084\n"
     ]
    },
    {
     "data": {
      "application/vnd.jupyter.widget-view+json": {
       "model_id": "ff6901c331d94d219f61e371a2536112",
       "version_major": 2,
       "version_minor": 0
      },
      "text/plain": [
       "Validation: |                                                                                    | 0/? [00:00<…"
      ]
     },
     "metadata": {},
     "output_type": "display_data"
    },
    {
     "name": "stderr",
     "output_type": "stream",
     "text": [
      "Metric val_loss improved by 0.019 >= min_delta = 0.0. New best score: 1.750\n",
      "Epoch 16, global step 511: 'val_loss' reached 1.74952 (best 1.74952), saving model to 'C:\\\\Users\\\\chase\\\\Desktop\\\\Georgia Tech\\\\CSE 6740\\\\Project\\\\exp1\\\\./tf_efficientnet_b0_ns_loss.ckpt' as top 1\n"
     ]
    },
    {
     "name": "stdout",
     "output_type": "stream",
     "text": [
      "epoch 16 validation loss 1.7369095087051392\n",
      "epoch 16 validation accuracy score 0.6112266112266113\n",
      "epoch 16 validation F1 score 0.6131435004738173\n"
     ]
    },
    {
     "data": {
      "application/vnd.jupyter.widget-view+json": {
       "model_id": "341fc4d2a376464ebd4216b2ff27f336",
       "version_major": 2,
       "version_minor": 0
      },
      "text/plain": [
       "Validation: |                                                                                    | 0/? [00:00<…"
      ]
     },
     "metadata": {},
     "output_type": "display_data"
    },
    {
     "name": "stderr",
     "output_type": "stream",
     "text": [
      "Epoch 16, global step 526: 'val_loss' was not in top 1\n"
     ]
    },
    {
     "name": "stdout",
     "output_type": "stream",
     "text": [
      "epoch 16 validation loss 1.7872607707977295\n",
      "epoch 16 validation accuracy score 0.5904365904365905\n",
      "epoch 16 validation F1 score 0.5940714575329961\n"
     ]
    },
    {
     "data": {
      "application/vnd.jupyter.widget-view+json": {
       "model_id": "a24c63c0501c4e76ba7fd69cd9830075",
       "version_major": 2,
       "version_minor": 0
      },
      "text/plain": [
       "Validation: |                                                                                    | 0/? [00:00<…"
      ]
     },
     "metadata": {},
     "output_type": "display_data"
    },
    {
     "name": "stderr",
     "output_type": "stream",
     "text": [
      "Epoch 17, global step 542: 'val_loss' was not in top 1\n"
     ]
    },
    {
     "name": "stdout",
     "output_type": "stream",
     "text": [
      "epoch 17 validation loss 1.8869071006774902\n",
      "epoch 17 validation accuracy score 0.5758835758835759\n",
      "epoch 17 validation F1 score 0.5764399379783995\n"
     ]
    },
    {
     "data": {
      "application/vnd.jupyter.widget-view+json": {
       "model_id": "5285aaada40e4330aa55ae40f721d306",
       "version_major": 2,
       "version_minor": 0
      },
      "text/plain": [
       "Validation: |                                                                                    | 0/? [00:00<…"
      ]
     },
     "metadata": {},
     "output_type": "display_data"
    },
    {
     "name": "stderr",
     "output_type": "stream",
     "text": [
      "Epoch 17, global step 557: 'val_loss' was not in top 1\n"
     ]
    },
    {
     "name": "stdout",
     "output_type": "stream",
     "text": [
      "epoch 17 validation loss 1.7421668767929077\n",
      "epoch 17 validation accuracy score 0.6029106029106029\n",
      "epoch 17 validation F1 score 0.6036727794646346\n"
     ]
    },
    {
     "data": {
      "application/vnd.jupyter.widget-view+json": {
       "model_id": "2c063993dfb944639fe49f0c60caad24",
       "version_major": 2,
       "version_minor": 0
      },
      "text/plain": [
       "Validation: |                                                                                    | 0/? [00:00<…"
      ]
     },
     "metadata": {},
     "output_type": "display_data"
    },
    {
     "name": "stderr",
     "output_type": "stream",
     "text": [
      "Metric val_loss improved by 0.013 >= min_delta = 0.0. New best score: 1.736\n",
      "Epoch 18, global step 573: 'val_loss' reached 1.73605 (best 1.73605), saving model to 'C:\\\\Users\\\\chase\\\\Desktop\\\\Georgia Tech\\\\CSE 6740\\\\Project\\\\exp1\\\\./tf_efficientnet_b0_ns_loss.ckpt' as top 1\n"
     ]
    },
    {
     "name": "stdout",
     "output_type": "stream",
     "text": [
      "epoch 18 validation loss 1.72249174118042\n",
      "epoch 18 validation accuracy score 0.6216216216216216\n",
      "epoch 18 validation F1 score 0.6209626248087786\n"
     ]
    },
    {
     "data": {
      "application/vnd.jupyter.widget-view+json": {
       "model_id": "ee9228461d40466fbfcf7036c53ddcde",
       "version_major": 2,
       "version_minor": 0
      },
      "text/plain": [
       "Validation: |                                                                                    | 0/? [00:00<…"
      ]
     },
     "metadata": {},
     "output_type": "display_data"
    },
    {
     "name": "stderr",
     "output_type": "stream",
     "text": [
      "Epoch 18, global step 588: 'val_loss' was not in top 1\n"
     ]
    },
    {
     "name": "stdout",
     "output_type": "stream",
     "text": [
      "epoch 18 validation loss 1.775622010231018\n",
      "epoch 18 validation accuracy score 0.5945945945945946\n",
      "epoch 18 validation F1 score 0.599010283756652\n"
     ]
    },
    {
     "data": {
      "application/vnd.jupyter.widget-view+json": {
       "model_id": "271f388a8fc648b092d7a7f4329520d0",
       "version_major": 2,
       "version_minor": 0
      },
      "text/plain": [
       "Validation: |                                                                                    | 0/? [00:00<…"
      ]
     },
     "metadata": {},
     "output_type": "display_data"
    },
    {
     "name": "stderr",
     "output_type": "stream",
     "text": [
      "Epoch 19, global step 604: 'val_loss' was not in top 1\n"
     ]
    },
    {
     "name": "stdout",
     "output_type": "stream",
     "text": [
      "epoch 19 validation loss 1.7540374994277954\n",
      "epoch 19 validation accuracy score 0.6029106029106029\n",
      "epoch 19 validation F1 score 0.6039964509421524\n"
     ]
    },
    {
     "data": {
      "application/vnd.jupyter.widget-view+json": {
       "model_id": "98b7bedb7c074a4593b44c8827856b1f",
       "version_major": 2,
       "version_minor": 0
      },
      "text/plain": [
       "Validation: |                                                                                    | 0/? [00:00<…"
      ]
     },
     "metadata": {},
     "output_type": "display_data"
    },
    {
     "name": "stderr",
     "output_type": "stream",
     "text": [
      "Epoch 19, global step 619: 'val_loss' was not in top 1\n"
     ]
    },
    {
     "name": "stdout",
     "output_type": "stream",
     "text": [
      "epoch 19 validation loss 1.7753852605819702\n",
      "epoch 19 validation accuracy score 0.5966735966735967\n",
      "epoch 19 validation F1 score 0.5987010760766419\n"
     ]
    },
    {
     "name": "stderr",
     "output_type": "stream",
     "text": [
      "`Trainer.fit` stopped: `max_epochs=20` reached.\n"
     ]
    }
   ],
   "source": [
    "run_training()"
   ]
  },
  {
   "cell_type": "code",
   "execution_count": null,
   "id": "edb93b4f-f49b-4353-9d23-b9d2bfb8c3f0",
   "metadata": {},
   "outputs": [],
   "source": []
  }
 ],
 "metadata": {
  "kernelspec": {
   "display_name": "birdclef",
   "language": "python",
   "name": "birdclef"
  },
  "language_info": {
   "codemirror_mode": {
    "name": "ipython",
    "version": 3
   },
   "file_extension": ".py",
   "mimetype": "text/x-python",
   "name": "python",
   "nbconvert_exporter": "python",
   "pygments_lexer": "ipython3",
   "version": "3.12.7"
  }
 },
 "nbformat": 4,
 "nbformat_minor": 5
}
