{
 "cells": [
  {
   "cell_type": "code",
   "execution_count": 2,
   "metadata": {},
   "outputs": [
    {
     "name": "stdout",
     "output_type": "stream",
     "text": [
      "/app\n"
     ]
    }
   ],
   "source": [
    "%cd /app"
   ]
  },
  {
   "cell_type": "code",
   "execution_count": 8,
   "metadata": {},
   "outputs": [],
   "source": [
    "import os\n",
    "import torch\n",
    "import pandas as pd\n",
    "from sklearn.model_selection import train_test_split\n",
    "from sklearn.utils.class_weight import compute_class_weight\n",
    "from transformers import AutoFeatureExtractor\n",
    "from src.config import CFG\n",
    "from src.data_loader import create_dataloader\n",
    "from src.model import load_model\n",
    "from src.train import train  # Importing train function from train.py\n",
    "\n",
    "\n",
    "def main():\n",
    "    # Set paths\n",
    "    BASE_PATH = \"/app/birdclef-2024\"\n",
    "    master_path = os.path.join(BASE_PATH, \"master.csv\")\n",
    "    csv_file = os.path.join(BASE_PATH, \"filtered_data_with_labels.csv\")\n",
    "\n",
    "    # Load the feature extractor for AST model\n",
    "    print(\"Loading feature extractor...\")\n",
    "    extractor = AutoFeatureExtractor.from_pretrained(CFG.feature_extractor_name)\n",
    "\n",
    "    # Load and prepare filtered data\n",
    "    print(\"Loading filtered data...\")\n",
    "    df = pd.read_csv(csv_file).drop(columns='y')\n",
    "    df[\"filename\"] = df[\"filename\"].str.split('/').apply(lambda x: '/'.join(x[-2:]))\n",
    "    df.index = df[\"filename\"]\n",
    "\n",
    "    # Balance the number of samples for each class\n",
    "    df_sampled = df.groupby('primary_label').sample(n=df.primary_label.value_counts().min(), random_state=42)\n",
    "\n",
    "    # Split into train and test datasets\n",
    "    print(\"Splitting data into train and test sets...\")\n",
    "    df_train, df_test = train_test_split(df_sampled, test_size=0.2, stratify=df_sampled['primary_label'], random_state=42)\n",
    "\n",
    "    # Load and prepare master data\n",
    "    print(\"Loading master data...\")\n",
    "    master = pd.read_csv(master_path).iloc[:, 1:]\n",
    "    master.index = master[\"filename\"]\n",
    "\n",
    "    # Align train and test sets with master data using their index\n",
    "    df_train = master.loc[df_train.index].reset_index(drop=True)\n",
    "    df_test = master.loc[df_test.index].reset_index(drop=True)\n",
    "\n",
    "    classes = df_train['primary_label'].unique()\n",
    "    class_weights = compute_class_weight(class_weight='balanced', classes=classes, y=df_train['primary_label'])\n",
    "    \n",
    "    # Compute num_labels dynamically based on the unique values in 'primary_label'\n",
    "    num_labels = len(df_train['primary_label'].unique())\n",
    "    print(f\"Number of unique labels: {num_labels}\")\n",
    "\n",
    "    # Load the model with the correct num_labels\n",
    "    print(\"Loading model...\")\n",
    "    device = torch.device('cuda' if torch.cuda.is_available() else 'cpu')\n",
    "    model = load_model(CFG.model_name, num_labels=num_labels, device=device)\n",
    "\n",
    "    # Move model to GPU and convert to float16\n",
    "    model = model.to(device)  # Convert model to float16\n",
    "    print(f\"Model is running on: {device}\")\n",
    "    \n",
    "    # Check train and test sizes and unique labels\n",
    "    print(f\"Train set size: {len(df_train)} samples\")\n",
    "    print(f\"Test set size: {len(df_test)} samples\")\n",
    "    print(f\"Unique labels in train set: {len(df_train['primary_label'].unique())}\")\n",
    "    print(f\"Unique labels in test set: {len(df_test['primary_label'].unique())}\")\n",
    "\n",
    "    # Create DataLoader for training\n",
    "    print(\"Creating DataLoader for training data...\")\n",
    "    train_loader = create_dataloader(csv_file=csv_file, base_path=BASE_PATH, batch_size=CFG.batch_size, extractor=extractor)\n",
    "\n",
    "    # Create DataLoader for testing\n",
    "    print(\"Creating DataLoader for testing data...\")\n",
    "    test_loader = create_dataloader(csv_file=csv_file, base_path=BASE_PATH, batch_size=CFG.batch_size, extractor=extractor, shuffle=False, test=True)\n",
    "\n",
    "\n",
    "    # Convert class weights to a tensor\n",
    "    class_weights_tensor = torch.tensor(class_weights, dtype=torch.float32).to(device) # Ensure it's on the correct device\n",
    "    \n",
    "    # Start training by calling train function from train.py\n",
    "    train(model, train_loader, test_loader, device, CFG, class_weights_tensor)\n"
   ]
  },
  {
   "cell_type": "code",
   "execution_count": 9,
   "metadata": {},
   "outputs": [
    {
     "name": "stdout",
     "output_type": "stream",
     "text": [
      "Loading feature extractor...\n",
      "Loading filtered data...\n",
      "Splitting data into train and test sets...\n",
      "Loading master data...\n",
      "Number of unique labels: 89\n",
      "Loading model...\n",
      "Loading model with num_labels = 89\n",
      "Original classifier structure: ASTMLPHead(\n",
      "  (layernorm): LayerNorm((768,), eps=1e-12, elementwise_affine=True)\n",
      "  (dense): Linear(in_features=768, out_features=527, bias=True)\n",
      ")\n",
      "Classifier input features: 768\n",
      "Model is running on: cuda\n",
      "Train set size: 1922 samples\n",
      "Test set size: 481 samples\n",
      "Unique labels in train set: 89\n",
      "Unique labels in test set: 89\n",
      "Creating DataLoader for training data...\n",
      "Creating DataLoader for testing data...\n"
     ]
    },
    {
     "name": "stderr",
     "output_type": "stream",
     "text": [
      "Epoch 1/30: 100%|██████████| 481/481 [03:51<00:00,  2.07batch/s]\n"
     ]
    },
    {
     "name": "stdout",
     "output_type": "stream",
     "text": [
      "Epoch 1/30 - Training Loss: 4.5019\n"
     ]
    },
    {
     "name": "stderr",
     "output_type": "stream",
     "text": [
      "Evaluating: 100%|██████████| 121/121 [00:16<00:00,  7.54batch/s, accuracy=0.0229, f1_macro=0.0127, f1_weighted=0.02]    \n"
     ]
    },
    {
     "name": "stdout",
     "output_type": "stream",
     "text": [
      "Epoch 1/30\n",
      "Validation Loss: 4.4529\n",
      "Validation Accuracy: 0.0229\n",
      "Validation Macro F1: 0.0127\n",
      "Validation Weighted F1: 0.0200\n",
      "New best model found at epoch 1. Saving model...\n",
      "Model saved to ./saved_models/best_model_epoch_1.pth\n"
     ]
    },
    {
     "name": "stderr",
     "output_type": "stream",
     "text": [
      "Epoch 2/30: 100%|██████████| 481/481 [03:52<00:00,  2.07batch/s]\n"
     ]
    },
    {
     "name": "stdout",
     "output_type": "stream",
     "text": [
      "Epoch 2/30 - Training Loss: 4.4065\n"
     ]
    },
    {
     "name": "stderr",
     "output_type": "stream",
     "text": [
      "Evaluating: 100%|██████████| 121/121 [00:15<00:00,  7.61batch/s, accuracy=0.0478, f1_macro=0.0293, f1_weighted=0.0455]  \n"
     ]
    },
    {
     "name": "stdout",
     "output_type": "stream",
     "text": [
      "Epoch 2/30\n",
      "Validation Loss: 4.3788\n",
      "Validation Accuracy: 0.0478\n",
      "Validation Macro F1: 0.0293\n",
      "Validation Weighted F1: 0.0455\n",
      "New best model found at epoch 2. Saving model...\n",
      "Model saved to ./saved_models/best_model_epoch_2.pth\n"
     ]
    },
    {
     "name": "stderr",
     "output_type": "stream",
     "text": [
      "Epoch 3/30: 100%|██████████| 481/481 [03:50<00:00,  2.09batch/s]\n"
     ]
    },
    {
     "name": "stdout",
     "output_type": "stream",
     "text": [
      "Epoch 3/30 - Training Loss: 4.3178\n"
     ]
    },
    {
     "name": "stderr",
     "output_type": "stream",
     "text": [
      "Evaluating: 100%|██████████| 121/121 [00:15<00:00,  7.61batch/s, accuracy=0.0894, f1_macro=0.0537, f1_weighted=0.0861]\n"
     ]
    },
    {
     "name": "stdout",
     "output_type": "stream",
     "text": [
      "Epoch 3/30\n",
      "Validation Loss: 4.3179\n",
      "Validation Accuracy: 0.0894\n",
      "Validation Macro F1: 0.0537\n",
      "Validation Weighted F1: 0.0861\n",
      "New best model found at epoch 3. Saving model...\n",
      "Model saved to ./saved_models/best_model_epoch_3.pth\n"
     ]
    },
    {
     "name": "stderr",
     "output_type": "stream",
     "text": [
      "Epoch 4/30: 100%|██████████| 481/481 [03:49<00:00,  2.09batch/s]\n"
     ]
    },
    {
     "name": "stdout",
     "output_type": "stream",
     "text": [
      "Epoch 4/30 - Training Loss: 4.2139\n"
     ]
    },
    {
     "name": "stderr",
     "output_type": "stream",
     "text": [
      "Evaluating: 100%|██████████| 121/121 [00:15<00:00,  7.62batch/s, accuracy=0.143, f1_macro=0.0896, f1_weighted=0.138] \n"
     ]
    },
    {
     "name": "stdout",
     "output_type": "stream",
     "text": [
      "Epoch 4/30\n",
      "Validation Loss: 4.2388\n",
      "Validation Accuracy: 0.1435\n",
      "Validation Macro F1: 0.0896\n",
      "Validation Weighted F1: 0.1384\n",
      "New best model found at epoch 4. Saving model...\n",
      "Model saved to ./saved_models/best_model_epoch_4.pth\n"
     ]
    },
    {
     "name": "stderr",
     "output_type": "stream",
     "text": [
      "Epoch 5/30: 100%|██████████| 481/481 [03:50<00:00,  2.09batch/s]\n"
     ]
    },
    {
     "name": "stdout",
     "output_type": "stream",
     "text": [
      "Epoch 5/30 - Training Loss: 4.1082\n"
     ]
    },
    {
     "name": "stderr",
     "output_type": "stream",
     "text": [
      "Evaluating: 100%|██████████| 121/121 [00:15<00:00,  7.59batch/s, accuracy=0.208, f1_macro=0.129, f1_weighted=0.201]\n"
     ]
    },
    {
     "name": "stdout",
     "output_type": "stream",
     "text": [
      "Epoch 5/30\n",
      "Validation Loss: 4.1627\n",
      "Validation Accuracy: 0.2079\n",
      "Validation Macro F1: 0.1288\n",
      "Validation Weighted F1: 0.2011\n",
      "New best model found at epoch 5. Saving model...\n",
      "Model saved to ./saved_models/best_model_epoch_5.pth\n"
     ]
    },
    {
     "name": "stderr",
     "output_type": "stream",
     "text": [
      "Epoch 6/30: 100%|██████████| 481/481 [03:48<00:00,  2.11batch/s]\n"
     ]
    },
    {
     "name": "stdout",
     "output_type": "stream",
     "text": [
      "Epoch 6/30 - Training Loss: 4.0052\n"
     ]
    },
    {
     "name": "stderr",
     "output_type": "stream",
     "text": [
      "Evaluating: 100%|██████████| 121/121 [00:15<00:00,  7.73batch/s, accuracy=0.239, f1_macro=0.161, f1_weighted=0.235]\n"
     ]
    },
    {
     "name": "stdout",
     "output_type": "stream",
     "text": [
      "Epoch 6/30\n",
      "Validation Loss: 4.0763\n",
      "Validation Accuracy: 0.2391\n",
      "Validation Macro F1: 0.1612\n",
      "Validation Weighted F1: 0.2348\n",
      "New best model found at epoch 6. Saving model...\n",
      "Model saved to ./saved_models/best_model_epoch_6.pth\n"
     ]
    },
    {
     "name": "stderr",
     "output_type": "stream",
     "text": [
      "Epoch 7/30: 100%|██████████| 481/481 [03:48<00:00,  2.11batch/s]\n"
     ]
    },
    {
     "name": "stdout",
     "output_type": "stream",
     "text": [
      "Epoch 7/30 - Training Loss: 3.9032\n"
     ]
    },
    {
     "name": "stderr",
     "output_type": "stream",
     "text": [
      "Evaluating: 100%|██████████| 121/121 [00:15<00:00,  7.74batch/s, accuracy=0.262, f1_macro=0.173, f1_weighted=0.255]\n"
     ]
    },
    {
     "name": "stdout",
     "output_type": "stream",
     "text": [
      "Epoch 7/30\n",
      "Validation Loss: 4.0052\n",
      "Validation Accuracy: 0.2620\n",
      "Validation Macro F1: 0.1729\n",
      "Validation Weighted F1: 0.2548\n",
      "New best model found at epoch 7. Saving model...\n",
      "Model saved to ./saved_models/best_model_epoch_7.pth\n"
     ]
    },
    {
     "name": "stderr",
     "output_type": "stream",
     "text": [
      "Epoch 8/30: 100%|██████████| 481/481 [03:48<00:00,  2.11batch/s]\n"
     ]
    },
    {
     "name": "stdout",
     "output_type": "stream",
     "text": [
      "Epoch 8/30 - Training Loss: 3.7948\n"
     ]
    },
    {
     "name": "stderr",
     "output_type": "stream",
     "text": [
      "Evaluating: 100%|██████████| 121/121 [00:15<00:00,  7.72batch/s, accuracy=0.264, f1_macro=0.177, f1_weighted=0.258]\n"
     ]
    },
    {
     "name": "stdout",
     "output_type": "stream",
     "text": [
      "Epoch 8/30\n",
      "Validation Loss: 3.9391\n",
      "Validation Accuracy: 0.2640\n",
      "Validation Macro F1: 0.1770\n",
      "Validation Weighted F1: 0.2583\n",
      "New best model found at epoch 8. Saving model...\n",
      "Model saved to ./saved_models/best_model_epoch_8.pth\n"
     ]
    },
    {
     "name": "stderr",
     "output_type": "stream",
     "text": [
      "Epoch 9/30: 100%|██████████| 481/481 [03:48<00:00,  2.11batch/s]\n"
     ]
    },
    {
     "name": "stdout",
     "output_type": "stream",
     "text": [
      "Epoch 9/30 - Training Loss: 3.6913\n"
     ]
    },
    {
     "name": "stderr",
     "output_type": "stream",
     "text": [
      "Evaluating: 100%|██████████| 121/121 [00:15<00:00,  7.74batch/s, accuracy=0.318, f1_macro=0.218, f1_weighted=0.311]\n"
     ]
    },
    {
     "name": "stdout",
     "output_type": "stream",
     "text": [
      "Epoch 9/30\n",
      "Validation Loss: 3.8442\n",
      "Validation Accuracy: 0.3181\n",
      "Validation Macro F1: 0.2175\n",
      "Validation Weighted F1: 0.3110\n",
      "New best model found at epoch 9. Saving model...\n",
      "Model saved to ./saved_models/best_model_epoch_9.pth\n"
     ]
    },
    {
     "name": "stderr",
     "output_type": "stream",
     "text": [
      "Epoch 10/30: 100%|██████████| 481/481 [03:47<00:00,  2.11batch/s]\n"
     ]
    },
    {
     "name": "stdout",
     "output_type": "stream",
     "text": [
      "Epoch 10/30 - Training Loss: 3.5790\n"
     ]
    },
    {
     "name": "stderr",
     "output_type": "stream",
     "text": [
      "Evaluating: 100%|██████████| 121/121 [00:15<00:00,  7.72batch/s, accuracy=0.356, f1_macro=0.242, f1_weighted=0.348]\n"
     ]
    },
    {
     "name": "stdout",
     "output_type": "stream",
     "text": [
      "Epoch 10/30\n",
      "Validation Loss: 3.7736\n",
      "Validation Accuracy: 0.3555\n",
      "Validation Macro F1: 0.2420\n",
      "Validation Weighted F1: 0.3481\n",
      "New best model found at epoch 10. Saving model...\n",
      "Model saved to ./saved_models/best_model_epoch_10.pth\n"
     ]
    },
    {
     "name": "stderr",
     "output_type": "stream",
     "text": [
      "Epoch 11/30: 100%|██████████| 481/481 [03:48<00:00,  2.11batch/s]\n"
     ]
    },
    {
     "name": "stdout",
     "output_type": "stream",
     "text": [
      "Epoch 11/30 - Training Loss: 3.5106\n"
     ]
    },
    {
     "name": "stderr",
     "output_type": "stream",
     "text": [
      "Evaluating: 100%|██████████| 121/121 [00:15<00:00,  7.75batch/s, accuracy=0.358, f1_macro=0.251, f1_weighted=0.35] \n"
     ]
    },
    {
     "name": "stdout",
     "output_type": "stream",
     "text": [
      "Epoch 11/30\n",
      "Validation Loss: 3.7769\n",
      "Validation Accuracy: 0.3576\n",
      "Validation Macro F1: 0.2511\n",
      "Validation Weighted F1: 0.3499\n"
     ]
    },
    {
     "name": "stderr",
     "output_type": "stream",
     "text": [
      "Epoch 12/30: 100%|██████████| 481/481 [03:47<00:00,  2.11batch/s]\n"
     ]
    },
    {
     "name": "stdout",
     "output_type": "stream",
     "text": [
      "Epoch 12/30 - Training Loss: 3.5010\n"
     ]
    },
    {
     "name": "stderr",
     "output_type": "stream",
     "text": [
      "Evaluating: 100%|██████████| 121/121 [00:15<00:00,  7.74batch/s, accuracy=0.349, f1_macro=0.237, f1_weighted=0.341]\n"
     ]
    },
    {
     "name": "stdout",
     "output_type": "stream",
     "text": [
      "Epoch 12/30\n",
      "Validation Loss: 3.7599\n",
      "Validation Accuracy: 0.3493\n",
      "Validation Macro F1: 0.2375\n",
      "Validation Weighted F1: 0.3409\n",
      "New best model found at epoch 12. Saving model...\n",
      "Model saved to ./saved_models/best_model_epoch_12.pth\n"
     ]
    },
    {
     "name": "stderr",
     "output_type": "stream",
     "text": [
      "Epoch 13/30: 100%|██████████| 481/481 [03:48<00:00,  2.11batch/s]\n"
     ]
    },
    {
     "name": "stdout",
     "output_type": "stream",
     "text": [
      "Epoch 13/30 - Training Loss: 3.4853\n"
     ]
    },
    {
     "name": "stderr",
     "output_type": "stream",
     "text": [
      "Evaluating: 100%|██████████| 121/121 [00:15<00:00,  7.76batch/s, accuracy=0.343, f1_macro=0.23, f1_weighted=0.335] \n"
     ]
    },
    {
     "name": "stdout",
     "output_type": "stream",
     "text": [
      "Epoch 13/30\n",
      "Validation Loss: 3.7582\n",
      "Validation Accuracy: 0.3430\n",
      "Validation Macro F1: 0.2304\n",
      "Validation Weighted F1: 0.3354\n",
      "New best model found at epoch 13. Saving model...\n",
      "Model saved to ./saved_models/best_model_epoch_13.pth\n"
     ]
    },
    {
     "name": "stderr",
     "output_type": "stream",
     "text": [
      "Epoch 14/30: 100%|██████████| 481/481 [03:47<00:00,  2.12batch/s]\n"
     ]
    },
    {
     "name": "stdout",
     "output_type": "stream",
     "text": [
      "Epoch 14/30 - Training Loss: 3.4604\n"
     ]
    },
    {
     "name": "stderr",
     "output_type": "stream",
     "text": [
      "Evaluating: 100%|██████████| 121/121 [00:15<00:00,  7.75batch/s, accuracy=0.37, f1_macro=0.258, f1_weighted=0.361] \n"
     ]
    },
    {
     "name": "stdout",
     "output_type": "stream",
     "text": [
      "Epoch 14/30\n",
      "Validation Loss: 3.7420\n",
      "Validation Accuracy: 0.3701\n",
      "Validation Macro F1: 0.2577\n",
      "Validation Weighted F1: 0.3609\n",
      "New best model found at epoch 14. Saving model...\n",
      "Model saved to ./saved_models/best_model_epoch_14.pth\n"
     ]
    },
    {
     "name": "stderr",
     "output_type": "stream",
     "text": [
      "Epoch 15/30: 100%|██████████| 481/481 [03:47<00:00,  2.12batch/s]\n"
     ]
    },
    {
     "name": "stdout",
     "output_type": "stream",
     "text": [
      "Epoch 15/30 - Training Loss: 3.4576\n"
     ]
    },
    {
     "name": "stderr",
     "output_type": "stream",
     "text": [
      "Evaluating: 100%|██████████| 121/121 [00:15<00:00,  7.73batch/s, accuracy=0.366, f1_macro=0.252, f1_weighted=0.359]\n"
     ]
    },
    {
     "name": "stdout",
     "output_type": "stream",
     "text": [
      "Epoch 15/30\n",
      "Validation Loss: 3.7367\n",
      "Validation Accuracy: 0.3659\n",
      "Validation Macro F1: 0.2524\n",
      "Validation Weighted F1: 0.3588\n",
      "New best model found at epoch 15. Saving model...\n",
      "Model saved to ./saved_models/best_model_epoch_15.pth\n"
     ]
    },
    {
     "name": "stderr",
     "output_type": "stream",
     "text": [
      "Epoch 16/30: 100%|██████████| 481/481 [03:47<00:00,  2.11batch/s]\n"
     ]
    },
    {
     "name": "stdout",
     "output_type": "stream",
     "text": [
      "Epoch 16/30 - Training Loss: 3.4447\n"
     ]
    },
    {
     "name": "stderr",
     "output_type": "stream",
     "text": [
      "Evaluating: 100%|██████████| 121/121 [00:15<00:00,  7.76batch/s, accuracy=0.364, f1_macro=0.252, f1_weighted=0.356]\n"
     ]
    },
    {
     "name": "stdout",
     "output_type": "stream",
     "text": [
      "Epoch 16/30\n",
      "Validation Loss: 3.7250\n",
      "Validation Accuracy: 0.3638\n",
      "Validation Macro F1: 0.2521\n",
      "Validation Weighted F1: 0.3557\n",
      "New best model found at epoch 16. Saving model...\n",
      "Model saved to ./saved_models/best_model_epoch_16.pth\n"
     ]
    },
    {
     "name": "stderr",
     "output_type": "stream",
     "text": [
      "Epoch 17/30: 100%|██████████| 481/481 [03:47<00:00,  2.11batch/s]\n"
     ]
    },
    {
     "name": "stdout",
     "output_type": "stream",
     "text": [
      "Epoch 17/30 - Training Loss: 3.4283\n"
     ]
    },
    {
     "name": "stderr",
     "output_type": "stream",
     "text": [
      "Evaluating: 100%|██████████| 121/121 [00:15<00:00,  7.74batch/s, accuracy=0.337, f1_macro=0.229, f1_weighted=0.326]\n"
     ]
    },
    {
     "name": "stdout",
     "output_type": "stream",
     "text": [
      "Epoch 17/30\n",
      "Validation Loss: 3.7275\n",
      "Validation Accuracy: 0.3368\n",
      "Validation Macro F1: 0.2287\n",
      "Validation Weighted F1: 0.3264\n"
     ]
    },
    {
     "name": "stderr",
     "output_type": "stream",
     "text": [
      "Epoch 18/30: 100%|██████████| 481/481 [03:49<00:00,  2.10batch/s]\n"
     ]
    },
    {
     "name": "stdout",
     "output_type": "stream",
     "text": [
      "Epoch 18/30 - Training Loss: 3.4182\n"
     ]
    },
    {
     "name": "stderr",
     "output_type": "stream",
     "text": [
      "Evaluating: 100%|██████████| 121/121 [00:15<00:00,  7.75batch/s, accuracy=0.345, f1_macro=0.234, f1_weighted=0.337]\n"
     ]
    },
    {
     "name": "stdout",
     "output_type": "stream",
     "text": [
      "Epoch 18/30\n",
      "Validation Loss: 3.7225\n",
      "Validation Accuracy: 0.3451\n",
      "Validation Macro F1: 0.2337\n",
      "Validation Weighted F1: 0.3375\n",
      "New best model found at epoch 18. Saving model...\n",
      "Model saved to ./saved_models/best_model_epoch_18.pth\n"
     ]
    },
    {
     "name": "stderr",
     "output_type": "stream",
     "text": [
      "Epoch 19/30: 100%|██████████| 481/481 [03:49<00:00,  2.10batch/s]\n"
     ]
    },
    {
     "name": "stdout",
     "output_type": "stream",
     "text": [
      "Epoch 19/30 - Training Loss: 3.4166\n"
     ]
    },
    {
     "name": "stderr",
     "output_type": "stream",
     "text": [
      "Evaluating: 100%|██████████| 121/121 [00:15<00:00,  7.75batch/s, accuracy=0.347, f1_macro=0.233, f1_weighted=0.34] \n"
     ]
    },
    {
     "name": "stdout",
     "output_type": "stream",
     "text": [
      "Epoch 19/30\n",
      "Validation Loss: 3.7225\n",
      "Validation Accuracy: 0.3472\n",
      "Validation Macro F1: 0.2332\n",
      "Validation Weighted F1: 0.3395\n",
      "New best model found at epoch 19. Saving model...\n",
      "Model saved to ./saved_models/best_model_epoch_19.pth\n"
     ]
    },
    {
     "name": "stderr",
     "output_type": "stream",
     "text": [
      "Epoch 20/30: 100%|██████████| 481/481 [03:48<00:00,  2.10batch/s]\n"
     ]
    },
    {
     "name": "stdout",
     "output_type": "stream",
     "text": [
      "Epoch 20/30 - Training Loss: 3.4113\n"
     ]
    },
    {
     "name": "stderr",
     "output_type": "stream",
     "text": [
      "Evaluating: 100%|██████████| 121/121 [00:15<00:00,  7.75batch/s, accuracy=0.353, f1_macro=0.24, f1_weighted=0.344] \n"
     ]
    },
    {
     "name": "stdout",
     "output_type": "stream",
     "text": [
      "Epoch 20/30\n",
      "Validation Loss: 3.6962\n",
      "Validation Accuracy: 0.3534\n",
      "Validation Macro F1: 0.2399\n",
      "Validation Weighted F1: 0.3444\n",
      "New best model found at epoch 20. Saving model...\n",
      "Model saved to ./saved_models/best_model_epoch_20.pth\n"
     ]
    },
    {
     "name": "stderr",
     "output_type": "stream",
     "text": [
      "Epoch 21/30: 100%|██████████| 481/481 [03:47<00:00,  2.12batch/s]\n"
     ]
    },
    {
     "name": "stdout",
     "output_type": "stream",
     "text": [
      "Epoch 21/30 - Training Loss: 3.4103\n"
     ]
    },
    {
     "name": "stderr",
     "output_type": "stream",
     "text": [
      "Evaluating: 100%|██████████| 121/121 [00:15<00:00,  7.73batch/s, accuracy=0.349, f1_macro=0.237, f1_weighted=0.341]\n"
     ]
    },
    {
     "name": "stdout",
     "output_type": "stream",
     "text": [
      "Epoch 21/30\n",
      "Validation Loss: 3.6976\n",
      "Validation Accuracy: 0.3493\n",
      "Validation Macro F1: 0.2367\n",
      "Validation Weighted F1: 0.3409\n"
     ]
    },
    {
     "name": "stderr",
     "output_type": "stream",
     "text": [
      "Epoch 22/30: 100%|██████████| 481/481 [03:48<00:00,  2.11batch/s]\n"
     ]
    },
    {
     "name": "stdout",
     "output_type": "stream",
     "text": [
      "Epoch 22/30 - Training Loss: 3.4049\n"
     ]
    },
    {
     "name": "stderr",
     "output_type": "stream",
     "text": [
      "Evaluating: 100%|██████████| 121/121 [00:15<00:00,  7.76batch/s, accuracy=0.347, f1_macro=0.234, f1_weighted=0.34] \n"
     ]
    },
    {
     "name": "stdout",
     "output_type": "stream",
     "text": [
      "Epoch 22/30\n",
      "Validation Loss: 3.6955\n",
      "Validation Accuracy: 0.3472\n",
      "Validation Macro F1: 0.2342\n",
      "Validation Weighted F1: 0.3395\n",
      "New best model found at epoch 22. Saving model...\n",
      "Model saved to ./saved_models/best_model_epoch_22.pth\n"
     ]
    },
    {
     "name": "stderr",
     "output_type": "stream",
     "text": [
      "Epoch 23/30: 100%|██████████| 481/481 [03:47<00:00,  2.11batch/s]\n"
     ]
    },
    {
     "name": "stdout",
     "output_type": "stream",
     "text": [
      "Epoch 23/30 - Training Loss: 3.3884\n"
     ]
    },
    {
     "name": "stderr",
     "output_type": "stream",
     "text": [
      "Evaluating: 100%|██████████| 121/121 [00:15<00:00,  7.74batch/s, accuracy=0.37, f1_macro=0.257, f1_weighted=0.362] \n"
     ]
    },
    {
     "name": "stdout",
     "output_type": "stream",
     "text": [
      "Epoch 23/30\n",
      "Validation Loss: 3.6891\n",
      "Validation Accuracy: 0.3701\n",
      "Validation Macro F1: 0.2571\n",
      "Validation Weighted F1: 0.3623\n",
      "New best model found at epoch 23. Saving model...\n",
      "Model saved to ./saved_models/best_model_epoch_23.pth\n"
     ]
    },
    {
     "name": "stderr",
     "output_type": "stream",
     "text": [
      "Epoch 24/30: 100%|██████████| 481/481 [03:48<00:00,  2.11batch/s]\n"
     ]
    },
    {
     "name": "stdout",
     "output_type": "stream",
     "text": [
      "Epoch 24/30 - Training Loss: 3.4002\n"
     ]
    },
    {
     "name": "stderr",
     "output_type": "stream",
     "text": [
      "Evaluating: 100%|██████████| 121/121 [00:15<00:00,  7.74batch/s, accuracy=0.343, f1_macro=0.235, f1_weighted=0.337]\n"
     ]
    },
    {
     "name": "stdout",
     "output_type": "stream",
     "text": [
      "Epoch 24/30\n",
      "Validation Loss: 3.6930\n",
      "Validation Accuracy: 0.3430\n",
      "Validation Macro F1: 0.2352\n",
      "Validation Weighted F1: 0.3375\n"
     ]
    },
    {
     "name": "stderr",
     "output_type": "stream",
     "text": [
      "Epoch 25/30: 100%|██████████| 481/481 [03:47<00:00,  2.11batch/s]\n"
     ]
    },
    {
     "name": "stdout",
     "output_type": "stream",
     "text": [
      "Epoch 25/30 - Training Loss: 3.3932\n"
     ]
    },
    {
     "name": "stderr",
     "output_type": "stream",
     "text": [
      "Evaluating: 100%|██████████| 121/121 [00:15<00:00,  7.75batch/s, accuracy=0.362, f1_macro=0.247, f1_weighted=0.352]\n"
     ]
    },
    {
     "name": "stdout",
     "output_type": "stream",
     "text": [
      "Epoch 25/30\n",
      "Validation Loss: 3.6933\n",
      "Validation Accuracy: 0.3617\n",
      "Validation Macro F1: 0.2468\n",
      "Validation Weighted F1: 0.3518\n"
     ]
    },
    {
     "name": "stderr",
     "output_type": "stream",
     "text": [
      "Epoch 26/30: 100%|██████████| 481/481 [03:48<00:00,  2.10batch/s]\n"
     ]
    },
    {
     "name": "stdout",
     "output_type": "stream",
     "text": [
      "Epoch 26/30 - Training Loss: 3.3960\n"
     ]
    },
    {
     "name": "stderr",
     "output_type": "stream",
     "text": [
      "Evaluating: 100%|██████████| 121/121 [00:15<00:00,  7.75batch/s, accuracy=0.368, f1_macro=0.255, f1_weighted=0.36] \n"
     ]
    },
    {
     "name": "stdout",
     "output_type": "stream",
     "text": [
      "Epoch 26/30\n",
      "Validation Loss: 3.6928\n",
      "Validation Accuracy: 0.3680\n",
      "Validation Macro F1: 0.2548\n",
      "Validation Weighted F1: 0.3602\n"
     ]
    },
    {
     "name": "stderr",
     "output_type": "stream",
     "text": [
      "Epoch 27/30: 100%|██████████| 481/481 [03:47<00:00,  2.11batch/s]\n"
     ]
    },
    {
     "name": "stdout",
     "output_type": "stream",
     "text": [
      "Epoch 27/30 - Training Loss: 3.3954\n"
     ]
    },
    {
     "name": "stderr",
     "output_type": "stream",
     "text": [
      "Evaluating: 100%|██████████| 121/121 [00:15<00:00,  7.74batch/s, accuracy=0.37, f1_macro=0.257, f1_weighted=0.364] \n"
     ]
    },
    {
     "name": "stdout",
     "output_type": "stream",
     "text": [
      "Epoch 27/30\n",
      "Validation Loss: 3.6861\n",
      "Validation Accuracy: 0.3701\n",
      "Validation Macro F1: 0.2565\n",
      "Validation Weighted F1: 0.3636\n",
      "New best model found at epoch 27. Saving model...\n",
      "Model saved to ./saved_models/best_model_epoch_27.pth\n"
     ]
    },
    {
     "name": "stderr",
     "output_type": "stream",
     "text": [
      "Epoch 28/30: 100%|██████████| 481/481 [03:47<00:00,  2.11batch/s]\n"
     ]
    },
    {
     "name": "stdout",
     "output_type": "stream",
     "text": [
      "Epoch 28/30 - Training Loss: 3.3927\n"
     ]
    },
    {
     "name": "stderr",
     "output_type": "stream",
     "text": [
      "Evaluating: 100%|██████████| 121/121 [00:15<00:00,  7.74batch/s, accuracy=0.362, f1_macro=0.25, f1_weighted=0.354] \n"
     ]
    },
    {
     "name": "stdout",
     "output_type": "stream",
     "text": [
      "Epoch 28/30\n",
      "Validation Loss: 3.7000\n",
      "Validation Accuracy: 0.3617\n",
      "Validation Macro F1: 0.2501\n",
      "Validation Weighted F1: 0.3540\n"
     ]
    },
    {
     "name": "stderr",
     "output_type": "stream",
     "text": [
      "Epoch 29/30: 100%|██████████| 481/481 [03:47<00:00,  2.12batch/s]\n"
     ]
    },
    {
     "name": "stdout",
     "output_type": "stream",
     "text": [
      "Epoch 29/30 - Training Loss: 3.4014\n"
     ]
    },
    {
     "name": "stderr",
     "output_type": "stream",
     "text": [
      "Evaluating: 100%|██████████| 121/121 [00:15<00:00,  7.74batch/s, accuracy=0.341, f1_macro=0.235, f1_weighted=0.334]\n"
     ]
    },
    {
     "name": "stdout",
     "output_type": "stream",
     "text": [
      "Epoch 29/30\n",
      "Validation Loss: 3.6975\n",
      "Validation Accuracy: 0.3410\n",
      "Validation Macro F1: 0.2346\n",
      "Validation Weighted F1: 0.3340\n"
     ]
    },
    {
     "name": "stderr",
     "output_type": "stream",
     "text": [
      "Epoch 30/30: 100%|██████████| 481/481 [03:48<00:00,  2.10batch/s]\n"
     ]
    },
    {
     "name": "stdout",
     "output_type": "stream",
     "text": [
      "Epoch 30/30 - Training Loss: 3.3811\n"
     ]
    },
    {
     "name": "stderr",
     "output_type": "stream",
     "text": [
      "Evaluating: 100%|██████████| 121/121 [00:15<00:00,  7.76batch/s, accuracy=0.362, f1_macro=0.243, f1_weighted=0.353]"
     ]
    },
    {
     "name": "stdout",
     "output_type": "stream",
     "text": [
      "Epoch 30/30\n",
      "Validation Loss: 3.6889\n",
      "Validation Accuracy: 0.3617\n",
      "Validation Macro F1: 0.2432\n",
      "Validation Weighted F1: 0.3533\n"
     ]
    },
    {
     "name": "stderr",
     "output_type": "stream",
     "text": [
      "\n"
     ]
    }
   ],
   "source": [
    "main()"
   ]
  },
  {
   "cell_type": "code",
   "execution_count": null,
   "metadata": {},
   "outputs": [],
   "source": [
    "   "
   ]
  }
 ],
 "metadata": {
  "kernelspec": {
   "display_name": "Python 3 (ipykernel)",
   "language": "python",
   "name": "python3"
  },
  "language_info": {
   "codemirror_mode": {
    "name": "ipython",
    "version": 3
   },
   "file_extension": ".py",
   "mimetype": "text/x-python",
   "name": "python",
   "nbconvert_exporter": "python",
   "pygments_lexer": "ipython3",
   "version": "3.11.10"
  }
 },
 "nbformat": 4,
 "nbformat_minor": 4
}
