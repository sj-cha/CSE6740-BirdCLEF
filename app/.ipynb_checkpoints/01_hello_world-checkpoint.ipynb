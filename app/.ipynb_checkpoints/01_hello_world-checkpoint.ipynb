{
 "cells": [
  {
   "cell_type": "markdown",
   "id": "d2801b3e-7afd-4eea-b5be-e898fca90443",
   "metadata": {},
   "source": [
    "### Load keras and define parameters"
   ]
  },
  {
   "cell_type": "code",
   "execution_count": null,
   "id": "e1d263dc-89ce-43b8-8ca2-3fd2c7705498",
   "metadata": {
    "tags": []
   },
   "outputs": [],
   "source": [
    "import os; os.environ['TF_CPP_MIN_LOG_LEVEL'] = '2' # Disable warinings\n",
    "from tensorflow import keras\n",
    "from matplotlib import pyplot as plt"
   ]
  },
  {
   "cell_type": "code",
   "execution_count": null,
   "id": "7a38cc49-82f1-4a1d-8ccf-523f6596f71a",
   "metadata": {},
   "outputs": [],
   "source": [
    "batch_size = 128\n",
    "layer_size = 256\n",
    "number_of_layers = 2"
   ]
  },
  {
   "cell_type": "markdown",
   "id": "9495854e-45a2-463a-a2e3-bba0630a1992",
   "metadata": {},
   "source": [
    "### Load the mnist data set"
   ]
  },
  {
   "cell_type": "code",
   "execution_count": null,
   "id": "00e235f7-ab96-43e9-9fb5-eb31910f82ef",
   "metadata": {},
   "outputs": [],
   "source": [
    "(X_train, y_train), (X_test, y_test) = keras.datasets.mnist.load_data()"
   ]
  },
  {
   "cell_type": "code",
   "execution_count": null,
   "id": "b8753413-45c3-4350-b4ab-83098a7709de",
   "metadata": {},
   "outputs": [],
   "source": [
    "print(f'The shape of the training data is {X_train.shape}')\n",
    "print(f'The dimensions of each image is {X_train.shape[1:]}')\n",
    "print(f'The train set contains {len(X_train)} images')\n",
    "print(f'The test set contains {len(X_test)} images')"
   ]
  },
  {
   "cell_type": "code",
   "execution_count": null,
   "id": "22913000-1487-4264-b827-febb4dc23c2d",
   "metadata": {},
   "outputs": [],
   "source": [
    "#\n",
    "fig, axes = plt.subplots(3, 3, figsize=(5,5))\n",
    "for i, ax in enumerate(axes.flat):\n",
    "    ax.axes.yaxis.set_ticks([])\n",
    "    ax.axes.xaxis.set_ticks([])\n",
    "    ax.imshow(X_train[i])"
   ]
  },
  {
   "cell_type": "code",
   "execution_count": null,
   "id": "85a645db-9cba-475a-b01a-a64b5a9543cb",
   "metadata": {},
   "outputs": [],
   "source": [
    "print(y_train[:9])"
   ]
  },
  {
   "cell_type": "markdown",
   "id": "eb8989f5-d017-4453-9db3-e75a1e987d4d",
   "metadata": {},
   "source": [
    "### Build and train the model"
   ]
  },
  {
   "cell_type": "code",
   "execution_count": null,
   "id": "98ce69ad-2777-46c1-a6fe-904f41d676f6",
   "metadata": {},
   "outputs": [],
   "source": [
    "# Create a simple classifier\n",
    "model = keras.Sequential([\n",
    "    *[keras.layers.Dense(layer_size, activation=\"relu\") for _ in range(number_of_layers)],\n",
    "    keras.layers.Dense(10, activation=\"softmax\") # exp(y_i)/(sum(exp(y))\n",
    "])"
   ]
  },
  {
   "cell_type": "code",
   "execution_count": null,
   "id": "d4b5ccb1-c1b5-4f54-be36-38a88c64dcf8",
   "metadata": {},
   "outputs": [],
   "source": [
    "model.compile(\n",
    "    optimizer=\"adam\",\n",
    "    loss=\"sparse_categorical_crossentropy\",\n",
    "    metrics=[\"accuracy\"]\n",
    ")"
   ]
  },
  {
   "cell_type": "code",
   "execution_count": null,
   "id": "ae85ca8a-fb1a-4d97-be23-fc7836bcff1f",
   "metadata": {},
   "outputs": [],
   "source": [
    "# Prep the data\n",
    "X_train = X_train.reshape((60000, 28*28)).astype(\"float32\") / 255\n",
    "X_test = X_test.reshape((10000, 28*28)).astype(\"float32\") / 255"
   ]
  },
  {
   "cell_type": "code",
   "execution_count": null,
   "id": "6ef220e4-cfc3-44da-be27-98a051904d90",
   "metadata": {},
   "outputs": [],
   "source": [
    "X_test.shape"
   ]
  },
  {
   "cell_type": "code",
   "execution_count": null,
   "id": "6a7161f9-4ff2-483f-b781-5b498c5c9585",
   "metadata": {},
   "outputs": [],
   "source": [
    "model.fit(X_train, y_train, epochs=5, batch_size=batch_size)"
   ]
  },
  {
   "cell_type": "code",
   "execution_count": null,
   "id": "16ec372a-f37d-48cf-b337-a4d894d4f8b0",
   "metadata": {},
   "outputs": [],
   "source": [
    "y_pred = model.predict(X_test)"
   ]
  },
  {
   "cell_type": "code",
   "execution_count": null,
   "id": "1b3c14b8-36b6-4d71-bac0-4fe1630e3c45",
   "metadata": {},
   "outputs": [],
   "source": [
    "print(f'Predictions: {list(map(lambda z: z.argmax(), y_pred[:9]))}')\n",
    "print(f'True Values: {list(y_test[:9])}')"
   ]
  },
  {
   "cell_type": "code",
   "execution_count": null,
   "id": "edbe0201-d4ff-49e0-8c82-287ef67d45eb",
   "metadata": {},
   "outputs": [],
   "source": [
    "test_loss, test_acc = model.evaluate(X_test, y_test)\n",
    "print(f'The test loss is: {test_loss}')\n",
    "print(f'The test accuracy is: {test_acc}')"
   ]
  },
  {
   "cell_type": "markdown",
   "id": "852161c9-abc7-48a4-8c03-cb63bccdd863",
   "metadata": {},
   "source": [
    "### Overfit (just for fun)"
   ]
  },
  {
   "cell_type": "code",
   "execution_count": null,
   "id": "219c2214-d1be-4712-ae8f-afd6cd12d1c8",
   "metadata": {},
   "outputs": [],
   "source": [
    "model.fit(X_train, y_train, epochs=15, batch_size=batch_size)"
   ]
  },
  {
   "cell_type": "code",
   "execution_count": null,
   "id": "5be73e25-32f0-45e3-8a57-02d3a3cbe537",
   "metadata": {},
   "outputs": [],
   "source": [
    "test_loss, test_acc = model.evaluate(X_test, y_test)\n",
    "print(f'The test loss is: {test_loss}')\n",
    "print(f'The test accuracy is: {test_acc}')"
   ]
  },
  {
   "cell_type": "code",
   "execution_count": null,
   "id": "2ae115e4-474b-45f0-8724-e40904c44bba",
   "metadata": {},
   "outputs": [],
   "source": []
  }
 ],
 "metadata": {
  "kernelspec": {
   "display_name": "Python 3 (ipykernel)",
   "language": "python",
   "name": "python3"
  },
  "language_info": {
   "codemirror_mode": {
    "name": "ipython",
    "version": 3
   },
   "file_extension": ".py",
   "mimetype": "text/x-python",
   "name": "python",
   "nbconvert_exporter": "python",
   "pygments_lexer": "ipython3",
   "version": "3.8.10"
  }
 },
 "nbformat": 4,
 "nbformat_minor": 5
}
