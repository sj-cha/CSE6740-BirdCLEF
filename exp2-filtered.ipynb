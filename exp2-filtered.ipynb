{
 "cells": [
  {
   "cell_type": "code",
   "execution_count": 1,
   "id": "d882a31c-9b20-4522-848c-b04450b64ce6",
   "metadata": {},
   "outputs": [],
   "source": [
    "import numpy as np\n",
    "import pandas as pd\n",
    "import librosa as lb\n",
    "import librosa.display as lbd\n",
    "import soundfile as sf\n",
    "from soundfile import SoundFile\n",
    "import pandas as pd\n",
    "from IPython.display import Audio\n",
    "from pathlib import Path\n",
    "\n",
    "import matplotlib.pyplot as plt\n",
    "\n",
    "from tqdm import tqdm\n",
    "\n",
    "import joblib, json, re\n",
    "import noisereduce as nr"
   ]
  },
  {
   "cell_type": "code",
   "execution_count": 3,
   "id": "6e2eaaed-d770-48e0-9787-686316bde3e7",
   "metadata": {},
   "outputs": [
    {
     "name": "stderr",
     "output_type": "stream",
     "text": [
      "The cache for model files in Transformers v4.22.0 has been updated. Migrating your old cache. This is a one-time only operation. You can interrupt this and resume the migration later on by calling `transformers.utils.move_cache()`.\n"
     ]
    },
    {
     "data": {
      "application/vnd.jupyter.widget-view+json": {
       "model_id": "c77be36917604447bd3f7f430349b7ba",
       "version_major": 2,
       "version_minor": 0
      },
      "text/plain": [
       "0it [00:00, ?it/s]"
      ]
     },
     "metadata": {},
     "output_type": "display_data"
    }
   ],
   "source": [
    "import torch\n",
    "import os\n",
    "import pytorch_lightning as pl\n",
    "from torch.utils.data import Dataset, DataLoader\n",
    "from sklearn import model_selection\n",
    "import torchvision.transforms as transforms\n",
    "import torchvision.io \n",
    "import librosa\n",
    "from PIL import Image\n",
    "import torch.multiprocessing as mp\n",
    "import warnings\n",
    "\n",
    "warnings.filterwarnings('ignore')"
   ]
  },
  {
   "cell_type": "code",
   "execution_count": 15,
   "id": "3c49c88b-24df-47b7-8686-e74be02c677e",
   "metadata": {},
   "outputs": [],
   "source": [
    "PATH = r'./kaggle/input/birdclef-2024'"
   ]
  },
  {
   "cell_type": "markdown",
   "id": "596051ae-1365-4642-b700-2eab946734d1",
   "metadata": {},
   "source": [
    "## Import Data"
   ]
  },
  {
   "cell_type": "code",
   "execution_count": 16,
   "id": "f52c095f-f992-4dd8-8f2b-c2017d8f910a",
   "metadata": {},
   "outputs": [
    {
     "data": {
      "text/html": [
       "<div>\n",
       "<style scoped>\n",
       "    .dataframe tbody tr th:only-of-type {\n",
       "        vertical-align: middle;\n",
       "    }\n",
       "\n",
       "    .dataframe tbody tr th {\n",
       "        vertical-align: top;\n",
       "    }\n",
       "\n",
       "    .dataframe thead th {\n",
       "        text-align: right;\n",
       "    }\n",
       "</style>\n",
       "<table border=\"1\" class=\"dataframe\">\n",
       "  <thead>\n",
       "    <tr style=\"text-align: right;\">\n",
       "      <th></th>\n",
       "      <th>primary_label</th>\n",
       "      <th>type</th>\n",
       "      <th>latitude</th>\n",
       "      <th>longitude</th>\n",
       "      <th>rating</th>\n",
       "      <th>filename</th>\n",
       "    </tr>\n",
       "    <tr>\n",
       "      <th>filename</th>\n",
       "      <th></th>\n",
       "      <th></th>\n",
       "      <th></th>\n",
       "      <th></th>\n",
       "      <th></th>\n",
       "      <th></th>\n",
       "    </tr>\n",
       "  </thead>\n",
       "  <tbody>\n",
       "    <tr>\n",
       "      <th>asbfly/XC134896.ogg</th>\n",
       "      <td>asbfly</td>\n",
       "      <td>['call']</td>\n",
       "      <td>39.2297</td>\n",
       "      <td>118.1987</td>\n",
       "      <td>5.0</td>\n",
       "      <td>asbfly/XC134896.ogg</td>\n",
       "    </tr>\n",
       "    <tr>\n",
       "      <th>asbfly/XC207738.ogg</th>\n",
       "      <td>asbfly</td>\n",
       "      <td>['call']</td>\n",
       "      <td>21.1697</td>\n",
       "      <td>70.6005</td>\n",
       "      <td>4.0</td>\n",
       "      <td>asbfly/XC207738.ogg</td>\n",
       "    </tr>\n",
       "    <tr>\n",
       "      <th>asbfly/XC209218.ogg</th>\n",
       "      <td>asbfly</td>\n",
       "      <td>['call']</td>\n",
       "      <td>15.5442</td>\n",
       "      <td>73.7733</td>\n",
       "      <td>4.0</td>\n",
       "      <td>asbfly/XC209218.ogg</td>\n",
       "    </tr>\n",
       "    <tr>\n",
       "      <th>asbfly/XC209219.ogg</th>\n",
       "      <td>asbfly</td>\n",
       "      <td>['call']</td>\n",
       "      <td>15.5442</td>\n",
       "      <td>73.7733</td>\n",
       "      <td>4.0</td>\n",
       "      <td>asbfly/XC209219.ogg</td>\n",
       "    </tr>\n",
       "    <tr>\n",
       "      <th>asbfly/XC267680.ogg</th>\n",
       "      <td>asbfly</td>\n",
       "      <td>['call', 'male', 'song']</td>\n",
       "      <td>44.3602</td>\n",
       "      <td>132.7989</td>\n",
       "      <td>4.0</td>\n",
       "      <td>asbfly/XC267680.ogg</td>\n",
       "    </tr>\n",
       "  </tbody>\n",
       "</table>\n",
       "</div>"
      ],
      "text/plain": [
       "                    primary_label                      type  latitude  \\\n",
       "filename                                                                \n",
       "asbfly/XC134896.ogg        asbfly                  ['call']   39.2297   \n",
       "asbfly/XC207738.ogg        asbfly                  ['call']   21.1697   \n",
       "asbfly/XC209218.ogg        asbfly                  ['call']   15.5442   \n",
       "asbfly/XC209219.ogg        asbfly                  ['call']   15.5442   \n",
       "asbfly/XC267680.ogg        asbfly  ['call', 'male', 'song']   44.3602   \n",
       "\n",
       "                     longitude  rating             filename  \n",
       "filename                                                     \n",
       "asbfly/XC134896.ogg   118.1987     5.0  asbfly/XC134896.ogg  \n",
       "asbfly/XC207738.ogg    70.6005     4.0  asbfly/XC207738.ogg  \n",
       "asbfly/XC209218.ogg    73.7733     4.0  asbfly/XC209218.ogg  \n",
       "asbfly/XC209219.ogg    73.7733     4.0  asbfly/XC209219.ogg  \n",
       "asbfly/XC267680.ogg   132.7989     4.0  asbfly/XC267680.ogg  "
      ]
     },
     "execution_count": 16,
     "metadata": {},
     "output_type": "execute_result"
    }
   ],
   "source": [
    "df = pd.read_csv(fr'{PATH}/filtered_data_with_labels 1.csv').drop(columns = 'y')\n",
    "df[\"filename\"] = df[\"filename\"] .str.split('/').apply(lambda x: '/'.join(x[-2:]))\n",
    "df.index = df[\"filename\"]\n",
    "df.head()"
   ]
  },
  {
   "cell_type": "code",
   "execution_count": 17,
   "id": "4aa5b9f8-f7ae-40ca-b78c-773023b864cf",
   "metadata": {},
   "outputs": [
    {
     "data": {
      "text/plain": [
       "6"
      ]
     },
     "execution_count": 17,
     "metadata": {},
     "output_type": "execute_result"
    }
   ],
   "source": [
    "len(df.columns)"
   ]
  },
  {
   "cell_type": "code",
   "execution_count": 18,
   "id": "729856ba-e4a6-440b-ac6d-547c0a188673",
   "metadata": {},
   "outputs": [
    {
     "data": {
      "text/plain": [
       "array([308, 288, 277, 270, 268, 261, 248, 246, 245, 228, 225, 223, 211,\n",
       "       202, 194, 187, 150, 148, 143, 134, 130, 122, 120, 111, 109, 107,\n",
       "       105, 104, 103,  98,  95,  93,  86,  84,  82,  79,  78,  72,  70,\n",
       "        68,  66,  65,  63,  61,  60,  59,  55,  54,  53,  49,  48,  47,\n",
       "        45,  44,  43,  40,  39,  38,  37,  34,  33,  31,  30,  28,  27])"
      ]
     },
     "execution_count": 18,
     "metadata": {},
     "output_type": "execute_result"
    }
   ],
   "source": [
    "df['primary_label'].value_counts().unique()"
   ]
  },
  {
   "cell_type": "code",
   "execution_count": 19,
   "id": "342332ec-f832-44d1-9ed0-dc23d61deced",
   "metadata": {},
   "outputs": [
    {
     "data": {
      "text/plain": [
       "27"
      ]
     },
     "execution_count": 19,
     "metadata": {},
     "output_type": "execute_result"
    }
   ],
   "source": [
    "df.primary_label.value_counts().min()"
   ]
  },
  {
   "cell_type": "code",
   "execution_count": 20,
   "id": "2176d25e-3c6e-4aee-85b5-40d580e7421a",
   "metadata": {},
   "outputs": [
    {
     "data": {
      "text/html": [
       "<div>\n",
       "<style scoped>\n",
       "    .dataframe tbody tr th:only-of-type {\n",
       "        vertical-align: middle;\n",
       "    }\n",
       "\n",
       "    .dataframe tbody tr th {\n",
       "        vertical-align: top;\n",
       "    }\n",
       "\n",
       "    .dataframe thead th {\n",
       "        text-align: right;\n",
       "    }\n",
       "</style>\n",
       "<table border=\"1\" class=\"dataframe\">\n",
       "  <thead>\n",
       "    <tr style=\"text-align: right;\">\n",
       "      <th></th>\n",
       "      <th>primary_label</th>\n",
       "      <th>type</th>\n",
       "      <th>latitude</th>\n",
       "      <th>longitude</th>\n",
       "      <th>rating</th>\n",
       "      <th>filename</th>\n",
       "    </tr>\n",
       "    <tr>\n",
       "      <th>filename</th>\n",
       "      <th></th>\n",
       "      <th></th>\n",
       "      <th></th>\n",
       "      <th></th>\n",
       "      <th></th>\n",
       "      <th></th>\n",
       "    </tr>\n",
       "  </thead>\n",
       "  <tbody>\n",
       "    <tr>\n",
       "      <th>asbfly/XC305518.ogg</th>\n",
       "      <td>asbfly</td>\n",
       "      <td>['call']</td>\n",
       "      <td>20.2864</td>\n",
       "      <td>100.0577</td>\n",
       "      <td>3.0</td>\n",
       "      <td>asbfly/XC305518.ogg</td>\n",
       "    </tr>\n",
       "    <tr>\n",
       "      <th>asbfly/XC647397.ogg</th>\n",
       "      <td>asbfly</td>\n",
       "      <td>['call']</td>\n",
       "      <td>6.8922</td>\n",
       "      <td>80.1728</td>\n",
       "      <td>5.0</td>\n",
       "      <td>asbfly/XC647397.ogg</td>\n",
       "    </tr>\n",
       "    <tr>\n",
       "      <th>asbfly/XC291450.ogg</th>\n",
       "      <td>asbfly</td>\n",
       "      <td>['call']</td>\n",
       "      <td>10.1653</td>\n",
       "      <td>76.5476</td>\n",
       "      <td>3.0</td>\n",
       "      <td>asbfly/XC291450.ogg</td>\n",
       "    </tr>\n",
       "    <tr>\n",
       "      <th>asbfly/XC596043.ogg</th>\n",
       "      <td>asbfly</td>\n",
       "      <td>['call']</td>\n",
       "      <td>17.9361</td>\n",
       "      <td>102.6217</td>\n",
       "      <td>5.0</td>\n",
       "      <td>asbfly/XC596043.ogg</td>\n",
       "    </tr>\n",
       "    <tr>\n",
       "      <th>asbfly/XC134896.ogg</th>\n",
       "      <td>asbfly</td>\n",
       "      <td>['call']</td>\n",
       "      <td>39.2297</td>\n",
       "      <td>118.1987</td>\n",
       "      <td>5.0</td>\n",
       "      <td>asbfly/XC134896.ogg</td>\n",
       "    </tr>\n",
       "  </tbody>\n",
       "</table>\n",
       "</div>"
      ],
      "text/plain": [
       "                    primary_label      type  latitude  longitude  rating  \\\n",
       "filename                                                                   \n",
       "asbfly/XC305518.ogg        asbfly  ['call']   20.2864   100.0577     3.0   \n",
       "asbfly/XC647397.ogg        asbfly  ['call']    6.8922    80.1728     5.0   \n",
       "asbfly/XC291450.ogg        asbfly  ['call']   10.1653    76.5476     3.0   \n",
       "asbfly/XC596043.ogg        asbfly  ['call']   17.9361   102.6217     5.0   \n",
       "asbfly/XC134896.ogg        asbfly  ['call']   39.2297   118.1987     5.0   \n",
       "\n",
       "                                filename  \n",
       "filename                                  \n",
       "asbfly/XC305518.ogg  asbfly/XC305518.ogg  \n",
       "asbfly/XC647397.ogg  asbfly/XC647397.ogg  \n",
       "asbfly/XC291450.ogg  asbfly/XC291450.ogg  \n",
       "asbfly/XC596043.ogg  asbfly/XC596043.ogg  \n",
       "asbfly/XC134896.ogg  asbfly/XC134896.ogg  "
      ]
     },
     "execution_count": 20,
     "metadata": {},
     "output_type": "execute_result"
    }
   ],
   "source": [
    "df_sampled = df.groupby('primary_label').sample(n=df.primary_label.value_counts().min(), random_state=42)\n",
    "df_sampled.head()"
   ]
  },
  {
   "cell_type": "code",
   "execution_count": 21,
   "id": "7a8af8d2-601b-443c-90d0-9550dac5a60f",
   "metadata": {},
   "outputs": [
    {
     "name": "stdout",
     "output_type": "stream",
     "text": [
      "89 89\n",
      "1922 481\n"
     ]
    }
   ],
   "source": [
    "from sklearn.model_selection import train_test_split\n",
    "df_train, df_test = train_test_split(df_sampled, test_size=0.2, stratify=df_sampled['primary_label'], random_state=42)\n",
    "\n",
    "master = pd.read_csv(f\"{PATH}/master.csv\").iloc[:,1:]\n",
    "master.index = master[\"filename\"]\n",
    "df_train = master.loc[df_train.index].reset_index(drop = True)\n",
    "df_test = master.loc[df_test.index].reset_index(drop = True)\n",
    "\n",
    "print(len(df_train['primary_label'].unique()), len(df_train['primary_label'].unique()))\n",
    "print(len(df_train), len(df_test))"
   ]
  },
  {
   "cell_type": "code",
   "execution_count": 22,
   "id": "8852797c-af64-4ad8-9f74-f486a77e9d02",
   "metadata": {},
   "outputs": [
    {
     "name": "stdout",
     "output_type": "stream",
     "text": [
      "primary_label\n",
      "pursun3    22\n",
      "copbar1    22\n",
      "gybpri1    22\n",
      "blhori1    22\n",
      "commoo3    22\n",
      "           ..\n",
      "junowl1    21\n",
      "commyn     21\n",
      "houcro1    21\n",
      "zitcis1    21\n",
      "rewbul     21\n",
      "Name: count, Length: 89, dtype: int64\n",
      "primary_label\n",
      "junowl1    6\n",
      "grecou1    6\n",
      "gyhcaf1    6\n",
      "grewar3    6\n",
      "whtkin2    6\n",
      "          ..\n",
      "eaywag1    5\n",
      "bcnher     5\n",
      "gloibi     5\n",
      "comgre     5\n",
      "pursun4    5\n",
      "Name: count, Length: 89, dtype: int64\n"
     ]
    }
   ],
   "source": [
    "print(df_train.primary_label.value_counts())\n",
    "print(df_test.primary_label.value_counts())"
   ]
  },
  {
   "cell_type": "code",
   "execution_count": 23,
   "id": "83d706b8-8eb0-4a94-9559-e0172a2e5601",
   "metadata": {},
   "outputs": [],
   "source": [
    "df_train.to_csv(f\"{PATH}/df_train.csv\", index = False)\n",
    "df_test.to_csv(f\"{PATH}/df_test.csv\", index = False)"
   ]
  },
  {
   "cell_type": "markdown",
   "id": "4a282fbb-7ba4-4c21-bca2-3377b16809da",
   "metadata": {},
   "source": [
    "## Training"
   ]
  },
  {
   "cell_type": "code",
   "execution_count": 24,
   "id": "ac115cbb-f814-49b2-9c72-1b0cd1bd4b9e",
   "metadata": {},
   "outputs": [],
   "source": [
    "from pytorch_lightning.callbacks import ModelCheckpoint, BackboneFinetuning, EarlyStopping"
   ]
  },
  {
   "cell_type": "code",
   "execution_count": 25,
   "id": "623957e6-ffc0-495b-940e-d70cbf16ce26",
   "metadata": {},
   "outputs": [],
   "source": [
    "class Config:\n",
    "    use_aug = False\n",
    "    num_classes = len(df_train.primary_label.unique())\n",
    "    batch_size = 64\n",
    "    epochs = 10\n",
    "    PRECISION = 16    \n",
    "    PATIENCE = 8    \n",
    "    seed = 42\n",
    "    model = \"tf_efficientnet_b0_ns\"\n",
    "    pretrained = True            \n",
    "    weight_decay = 1e-3\n",
    "    use_mixup = True\n",
    "    mixup_alpha = 0.2   \n",
    "    DEVICE = torch.device('cuda' if torch.cuda.is_available() else 'cpu')    \n",
    "\n",
    "    train_images = PATH+\"/spectrogram/\"\n",
    "    test_images = PATH + \"/spectrogram/\"\n",
    "    train_path = PATH+\"/df_train.csv\"\n",
    "    test_path = PATH+\"/df_test.csv\"\n",
    "    \n",
    "    \n",
    "    SR = 32000\n",
    "    DURATION = 10\n",
    "    MAX_READ_SAMPLES = 5\n",
    "    LR = 5e-4"
   ]
  },
  {
   "cell_type": "code",
   "execution_count": 26,
   "id": "63a6cf70-df03-4e95-8a9e-81fb586b14e1",
   "metadata": {},
   "outputs": [
    {
     "name": "stderr",
     "output_type": "stream",
     "text": [
      "Seed set to 42\n"
     ]
    },
    {
     "data": {
      "text/plain": [
       "42"
      ]
     },
     "execution_count": 26,
     "metadata": {},
     "output_type": "execute_result"
    }
   ],
   "source": [
    "pl.seed_everything(Config.seed, workers=True)"
   ]
  },
  {
   "cell_type": "code",
   "execution_count": 27,
   "id": "821a1cfa-3721-44e9-9f59-d7c299c30577",
   "metadata": {},
   "outputs": [],
   "source": [
    "def config_to_dict(cfg):\n",
    "    return dict((name, getattr(cfg, name)) for name in dir(cfg) if not name.startswith('__'))"
   ]
  },
  {
   "cell_type": "code",
   "execution_count": 28,
   "id": "f9a08975-a86e-4055-aa7b-ba247aeb96ce",
   "metadata": {},
   "outputs": [],
   "source": [
    "df_train = pd.read_csv(Config.train_path)\n",
    "df_test = pd.read_csv(Config.test_path)\n",
    "df_train = pd.concat([df_train, pd.get_dummies(df_train['primary_label'])], axis=1)\n",
    "df_test = pd.concat([df_test, pd.get_dummies(df_test['primary_label'])], axis=1)"
   ]
  },
  {
   "cell_type": "code",
   "execution_count": 29,
   "id": "e34ab232-4fac-4ce9-8af2-2c044cf08a9d",
   "metadata": {},
   "outputs": [],
   "source": [
    "class BirdDataset(torch.utils.data.Dataset):\n",
    "\n",
    "    def __init__(self, df, sr = Config.SR, duration = Config.DURATION, augmentations = None, train = True):\n",
    "\n",
    "        self.df = df\n",
    "        self.sr = sr \n",
    "        self.train = train\n",
    "        self.duration = duration\n",
    "        self.augmentations = augmentations\n",
    "        if train:\n",
    "            self.img_dir = Config.train_images\n",
    "        else:\n",
    "            self.img_dir = Config.test_images\n",
    "\n",
    "    def __len__(self):\n",
    "        return len(self.df)\n",
    "\n",
    "    @staticmethod\n",
    "    def normalize(image):\n",
    "        image = image / 255.0\n",
    "        #image = torch.stack([image, image, image])\n",
    "        return image\n",
    "\n",
    "    def __getitem__(self, idx):\n",
    "        row = self.df.iloc[idx]\n",
    "        impath = self.img_dir + f\"{row.filename}.npy\"\n",
    "\n",
    "        image = np.load(str(impath))[:Config.MAX_READ_SAMPLES]\n",
    "        \n",
    "        ########## RANDOM SAMPLING ################\n",
    "        if self.train:\n",
    "            image = image[np.random.choice(len(image))]\n",
    "        else:\n",
    "            image = image[0]\n",
    "            \n",
    "        #####################################################################\n",
    "        \n",
    "        image = torch.tensor(image).float()\n",
    "\n",
    "        if self.augmentations:\n",
    "            image = self.augmentations(image.unsqueeze(0)).squeeze()\n",
    "            \n",
    "        image.size()\n",
    "        \n",
    "        image = torch.stack([image, image, image])\n",
    "\n",
    "        image = self.normalize(image)\n",
    "\n",
    "\n",
    "        return image, torch.tensor(row[16:]).float()"
   ]
  },
  {
   "cell_type": "code",
   "execution_count": 30,
   "id": "85e9165b-f619-4e57-b72e-17e8b98f0629",
   "metadata": {},
   "outputs": [],
   "source": [
    "def get_fold_dls(df_train, df_test):\n",
    "\n",
    "    ds_train = BirdDataset(\n",
    "        df_train, \n",
    "        sr = Config.SR,\n",
    "        duration = Config.DURATION,\n",
    "        train = True\n",
    "    )\n",
    "    ds_test = BirdDataset(\n",
    "        df_test, \n",
    "        sr = Config.SR,\n",
    "        duration = Config.DURATION,\n",
    "        train = False\n",
    "    )\n",
    "    dl_train = DataLoader(ds_train, batch_size=Config.batch_size , shuffle=True, num_workers = 2)    \n",
    "    dl_test = DataLoader(ds_test, batch_size=Config.batch_size, num_workers = 2)\n",
    "    return dl_train, dl_test, ds_train, ds_test"
   ]
  },
  {
   "cell_type": "code",
   "execution_count": 31,
   "id": "6cb45501-29ce-41f0-a38d-70f5f88d93d2",
   "metadata": {},
   "outputs": [],
   "source": [
    "def show_batch(img_ds, num_items, num_rows, num_cols, predict_arr=None):\n",
    "    fig = plt.figure(figsize=(12, 6))    \n",
    "    img_index = np.random.randint(0, len(img_ds)-1, num_items)\n",
    "    for index, img_index in enumerate(img_index):  # list first 9 images\n",
    "        img, lb = img_ds[img_index]        \n",
    "        ax = fig.add_subplot(num_rows, num_cols, index + 1, xticks=[], yticks=[])\n",
    "        if isinstance(img, torch.Tensor):\n",
    "            img = img.detach().numpy()\n",
    "        if isinstance(img, np.ndarray):\n",
    "            img = img.transpose(1, 2, 0)\n",
    "            ax.imshow(img)        \n",
    "            \n",
    "        title = f\"Spec\"\n",
    "        ax.set_title(title)  "
   ]
  },
  {
   "cell_type": "code",
   "execution_count": 32,
   "id": "f18f8548-099a-44b4-adf6-244d90313d2c",
   "metadata": {},
   "outputs": [
    {
     "data": {
      "image/png": "[encoded data removed]",
      "text/plain": [
       "<Figure size 1200x600 with 8 Axes>"
      ]
     },
     "metadata": {},
     "output_type": "display_data"
    }
   ],
   "source": [
    "dl_train, dl_test, ds_train, ds_test = get_fold_dls(df_train, df_test)\n",
    "show_batch(ds_test, 8, 2, 4)"
   ]
  },
  {
   "cell_type": "code",
   "execution_count": 33,
   "id": "f1aed6b5-739e-437c-abb8-0546c34e475d",
   "metadata": {},
   "outputs": [],
   "source": [
    "from torch.optim.lr_scheduler import CosineAnnealingLR, CosineAnnealingWarmRestarts, ReduceLROnPlateau, OneCycleLR\n",
    "\n",
    "def get_optimizer(lr, params):\n",
    "    model_optimizer = torch.optim.Adam(\n",
    "            filter(lambda p: p.requires_grad, params), \n",
    "            lr=lr,\n",
    "            weight_decay=Config.weight_decay\n",
    "        )\n",
    "    interval = \"epoch\"\n",
    "    \n",
    "    lr_scheduler = CosineAnnealingWarmRestarts(\n",
    "                            model_optimizer, \n",
    "                            T_0=Config.epochs, \n",
    "                            T_mult=1, \n",
    "                            eta_min=1e-6, \n",
    "                            last_epoch=-1\n",
    "                        )\n",
    "\n",
    "    return {\n",
    "        \"optimizer\": model_optimizer, \n",
    "        \"lr_scheduler\": {\n",
    "            \"scheduler\": lr_scheduler,\n",
    "            \"interval\": interval,\n",
    "            \"monitor\": \"val_loss\",\n",
    "            \"frequency\": 1\n",
    "        }\n",
    "    }"
   ]
  },
  {
   "cell_type": "code",
   "execution_count": 34,
   "id": "6d332a63-6bd3-4915-b260-07fbd33b2216",
   "metadata": {},
   "outputs": [],
   "source": [
    "from torchtoolbox.tools import mixup_data, mixup_criterion\n",
    "import torch.nn as nn\n",
    "from torch.nn.functional import cross_entropy\n",
    "import torchmetrics\n",
    "import timm"
   ]
  },
  {
   "cell_type": "code",
   "execution_count": 35,
   "id": "0b92ab86-d17f-49f7-8116-5ae2d503b408",
   "metadata": {},
   "outputs": [],
   "source": [
    "import sklearn.metrics\n",
    "\n",
    "def padded_cmap(solution, submission, padding_factor=5):\n",
    "    solution = solution#.drop(['row_id'], axis=1, errors='ignore')\n",
    "    submission = submission#.drop(['row_id'], axis=1, errors='ignore')\n",
    "    new_rows = []\n",
    "    for i in range(padding_factor):\n",
    "        new_rows.append([1 for i in range(len(solution.columns))])\n",
    "    new_rows = pd.DataFrame(new_rows)\n",
    "    new_rows.columns = solution.columns\n",
    "    padded_solution = pd.concat([solution, new_rows]).reset_index(drop=True).copy()\n",
    "    padded_submission = pd.concat([submission, new_rows]).reset_index(drop=True).copy()\n",
    "    score = sklearn.metrics.average_precision_score(\n",
    "        padded_solution.values,\n",
    "        padded_submission.values,\n",
    "        average='macro',\n",
    "    )\n",
    "    return score"
   ]
  },
  {
   "cell_type": "code",
   "execution_count": 40,
   "id": "135208df",
   "metadata": {},
   "outputs": [],
   "source": [
    "birds = list(df_train.primary_label.unique())"
   ]
  },
  {
   "cell_type": "code",
   "execution_count": 36,
   "id": "a7ae31e1-5f10-4d7e-8881-9c266f9ec4ba",
   "metadata": {},
   "outputs": [],
   "source": [
    "class BirdClefModel(pl.LightningModule):\n",
    "    def __init__(self, model_name=Config.model, num_classes = Config.num_classes, pretrained = Config.pretrained):\n",
    "        super().__init__()\n",
    "        self.num_classes = num_classes\n",
    "\n",
    "        self.backbone = timm.create_model(model_name, pretrained=pretrained)\n",
    "\n",
    "        if 'res' in model_name:\n",
    "            self.in_features = self.backbone.fc.in_features\n",
    "            self.backbone.fc = nn.Linear(self.in_features, num_classes)\n",
    "        elif 'dense' in model_name:\n",
    "            self.in_features = self.backbone.classifier.in_features\n",
    "            self.backbone.classifier = nn.Linear(self.in_features, num_classes)\n",
    "        elif 'efficientnet' in model_name:\n",
    "            self.in_features = self.backbone.classifier.in_features\n",
    "            self.backbone.classifier = nn.Sequential(\n",
    "                nn.Linear(self.in_features, num_classes)\n",
    "            )\n",
    "        \n",
    "        self.loss_function = nn.BCEWithLogitsLoss() \n",
    "\n",
    "    def forward(self,images):\n",
    "        logits = self.backbone(images)\n",
    "        return logits\n",
    "        \n",
    "    def configure_optimizers(self):\n",
    "        return get_optimizer(lr=Config.LR, params=self.parameters())\n",
    "\n",
    "    def train_with_mixup(self, X, y):\n",
    "        X, y_a, y_b, lam = mixup_data(X, y, alpha=Config.mixup_alpha)\n",
    "        y_pred = self(X)\n",
    "        loss_mixup = mixup_criterion(cross_entropy, y_pred, y_a, y_b, lam)\n",
    "        return loss_mixup\n",
    "\n",
    "    def training_step(self, batch, batch_idx):\n",
    "        image, target = batch        \n",
    "        if Config.use_mixup:\n",
    "            loss = self.train_with_mixup(image, target)\n",
    "        else:\n",
    "            y_pred = self(image)\n",
    "            loss = self.loss_function(y_pred,target)\n",
    "\n",
    "        self.log(\"train_loss\", loss, on_step=True, on_epoch=True, prog_bar=True)\n",
    "        return loss        \n",
    "\n",
    "    def validation_step(self, batch, batch_idx):\n",
    "        image, target = batch     \n",
    "        y_pred = self(image)\n",
    "        val_loss = self.loss_function(y_pred, target)\n",
    "        self.log(\"val_loss\", val_loss, on_step=True, on_epoch=True, logger=True, prog_bar=True)\n",
    "        \n",
    "        return {\"val_loss\": val_loss, \"logits\": y_pred, \"targets\": target}\n",
    "    \n",
    "    def train_dataloader(self):\n",
    "        return self._train_dataloader \n",
    "    \n",
    "    def validation_dataloader(self):\n",
    "        return self._validation_dataloader\n",
    "    \n",
    "    def on_validation_batch_end(self, outputs, batch, batch_idx, dataloader_idx=0):\n",
    "        if batch_idx == 0:\n",
    "            self._logits = []\n",
    "            self._targets = []\n",
    "            self._val_loss = []\n",
    "\n",
    "        self._logits.append(outputs[\"logits\"])\n",
    "        self._targets.append(outputs[\"targets\"])\n",
    "        self._val_loss.append(outputs[\"val_loss\"])\n",
    "\n",
    "    def on_validation_epoch_end(self):\n",
    "        output_val = torch.cat(self._logits, dim=0).sigmoid().cpu().detach().numpy()\n",
    "        target_val = torch.cat(self._targets, dim=0).cpu().detach().numpy()\n",
    "        avg_loss = torch.stack(self._val_loss).mean()\n",
    "\n",
    "        # print(output_val.shape)\n",
    "        val_df = pd.DataFrame(target_val, columns = birds)\n",
    "        pred_df = pd.DataFrame(output_val, columns = birds)\n",
    "        \n",
    "        avg_score = padded_cmap(val_df, pred_df, padding_factor = 5)\n",
    "        avg_score2 = padded_cmap(val_df, pred_df, padding_factor = 3)\n",
    "        avg_score3 = sklearn.metrics.label_ranking_average_precision_score(target_val,output_val)\n",
    "        \n",
    "#         competition_metrics(output_val,target_val)\n",
    "        print(f'epoch {self.current_epoch} validation loss {avg_loss}')\n",
    "        print(f'epoch {self.current_epoch} validation C-MAP score pad 5 {avg_score}')\n",
    "        print(f'epoch {self.current_epoch} validation C-MAP score pad 3 {avg_score2}')\n",
    "        print(f'epoch {self.current_epoch} validation AP score {avg_score3}')\n",
    "        \n",
    "        \n",
    "        val_df.to_pickle('val_df.pkl')\n",
    "        pred_df.to_pickle('pred_df.pkl')\n",
    "        \n",
    "        \n",
    "        return {'val_loss': avg_loss,'val_cmap':avg_score}"
   ]
  },
  {
   "cell_type": "code",
   "execution_count": null,
   "id": "42ea95d8-421c-4757-b3f8-0c9ff520fd26",
   "metadata": {},
   "outputs": [],
   "source": [
    "from pytorch_lightning.loggers import WandbLogger\n",
    "import gc\n",
    "\n",
    "def run_training():\n",
    "    print(f\"Running training...\")\n",
    "    logger = None\n",
    "    \n",
    "    dl_train, dl_test, ds_train, ds_test = get_fold_dls(df_train, df_test)\n",
    "    \n",
    "    audio_model = BirdClefModel()\n",
    "\n",
    "    early_stop_callback = EarlyStopping(monitor=\"val_loss\", min_delta=0.00, patience=Config.PATIENCE, verbose= True, mode=\"min\")\n",
    "    checkpoint_callback = ModelCheckpoint(monitor='val_loss',\n",
    "                                      dirpath= \"exp2/\",\n",
    "                                      save_top_k=1,\n",
    "                                      save_last= True,\n",
    "                                      save_weights_only=True,\n",
    "                                      filename= f'./{Config.model}_loss',\n",
    "                                      verbose= True,\n",
    "                                      mode='min')\n",
    "    \n",
    "    callbacks_to_use = [checkpoint_callback,early_stop_callback]\n",
    "\n",
    "\n",
    "    trainer = pl.Trainer(\n",
    "        val_check_interval=0.5,\n",
    "        deterministic=True,\n",
    "        max_epochs=Config.epochs,\n",
    "        logger=logger,\n",
    "        callbacks=callbacks_to_use,\n",
    "        precision=Config.PRECISION, accelerator=\"gpu\"\n",
    "    )\n",
    "\n",
    "    print(\"Running trainer.fit\")\n",
    "    trainer.fit(audio_model, train_dataloaders = dl_train, val_dataloaders = dl_test)                \n",
    "\n",
    "    gc.collect()"
   ]
  },
  {
   "cell_type": "code",
   "execution_count": 39,
   "id": "3f24c3b7",
   "metadata": {},
   "outputs": [],
   "source": [
    "torch.set_float32_matmul_precision('medium')"
   ]
  },
  {
   "cell_type": "code",
   "execution_count": null,
   "id": "19057772-c27b-4f8d-acd3-c6d112f68abc",
   "metadata": {},
   "outputs": [
    {
     "name": "stderr",
     "output_type": "stream",
     "text": [
      "Using 16bit Automatic Mixed Precision (AMP)\n",
      "GPU available: True (cuda), used: True\n",
      "TPU available: False, using: 0 TPU cores\n",
      "HPU available: False, using: 0 HPUs\n",
      "LOCAL_RANK: 0 - CUDA_VISIBLE_DEVICES: [0]\n"
     ]
    },
    {
     "name": "stdout",
     "output_type": "stream",
     "text": [
      "Running training...\n",
      "Running trainer.fit\n"
     ]
    },
    {
     "name": "stderr",
     "output_type": "stream",
     "text": [
      "\n",
      "  | Name          | Type              | Params | Mode \n",
      "------------------------------------------------------------\n",
      "0 | backbone      | EfficientNet      | 4.1 M  | train\n",
      "1 | loss_function | BCEWithLogitsLoss | 0      | train\n",
      "------------------------------------------------------------\n",
      "4.1 M     Trainable params\n",
      "0         Non-trainable params\n",
      "4.1 M     Total params\n",
      "16.486    Total estimated model params size (MB)\n",
      "339       Modules in train mode\n",
      "0         Modules in eval mode\n"
     ]
    },
    {
     "data": {
      "application/vnd.jupyter.widget-view+json": {
       "model_id": "4ed116a82f774f7193213eb1dc35415b",
       "version_major": 2,
       "version_minor": 0
      },
      "text/plain": [
       "Sanity Checking: |          | 0/? [00:00<?, ?it/s]"
      ]
     },
     "metadata": {},
     "output_type": "display_data"
    },
    {
     "name": "stdout",
     "output_type": "stream",
     "text": [
      "epoch 0 validation loss 0.6904201507568359\n",
      "epoch 0 validation C-MAP score pad 5 0.8268665518835044\n",
      "epoch 0 validation C-MAP score pad 3 0.744977394726802\n",
      "epoch 0 validation AP score 0.06011200054688551\n"
     ]
    },
    {
     "data": {
      "application/vnd.jupyter.widget-view+json": {
       "model_id": "db9cf6f2ace34b3e98d386fd0ff4aa05",
       "version_major": 2,
       "version_minor": 0
      },
      "text/plain": [
       "Training: |          | 0/? [00:00<?, ?it/s]"
      ]
     },
     "metadata": {},
     "output_type": "display_data"
    },
    {
     "data": {
      "application/vnd.jupyter.widget-view+json": {
       "model_id": "10f81b9360e74163a9ef32297d2c5a9b",
       "version_major": 2,
       "version_minor": 0
      },
      "text/plain": [
       "Validation: |          | 0/? [00:00<?, ?it/s]"
      ]
     },
     "metadata": {},
     "output_type": "display_data"
    },
    {
     "name": "stderr",
     "output_type": "stream",
     "text": [
      "Metric val_loss improved. New best score: 0.721\n",
      "Epoch 0, global step 15: 'val_loss' reached 0.72101 (best 0.72101), saving model to '/home/rma86/CSE6740-BirdCLEF/exp1/./tf_efficientnet_b0_ns_loss-v1.ckpt' as top 1\n"
     ]
    },
    {
     "name": "stdout",
     "output_type": "stream",
     "text": [
      "epoch 0 validation loss 0.7208530902862549\n",
      "epoch 0 validation C-MAP score pad 5 0.5296111004652678\n",
      "epoch 0 validation C-MAP score pad 3 0.4055151354284715\n",
      "epoch 0 validation AP score 0.06453300763662564\n"
     ]
    },
    {
     "data": {
      "application/vnd.jupyter.widget-view+json": {
       "model_id": "7c562ac3ec10445494b1f900879fe7cc",
       "version_major": 2,
       "version_minor": 0
      },
      "text/plain": [
       "Validation: |          | 0/? [00:00<?, ?it/s]"
      ]
     },
     "metadata": {},
     "output_type": "display_data"
    },
    {
     "name": "stderr",
     "output_type": "stream",
     "text": [
      "Epoch 0, global step 30: 'val_loss' was not in top 1\n"
     ]
    },
    {
     "name": "stdout",
     "output_type": "stream",
     "text": [
      "epoch 0 validation loss 0.7481865882873535\n",
      "epoch 0 validation C-MAP score pad 5 0.5693480895878293\n",
      "epoch 0 validation C-MAP score pad 3 0.45022596627950373\n",
      "epoch 0 validation AP score 0.10606593224246513\n"
     ]
    },
    {
     "data": {
      "application/vnd.jupyter.widget-view+json": {
       "model_id": "4cdafeba1e254d9a8e0fee19f2b47c2d",
       "version_major": 2,
       "version_minor": 0
      },
      "text/plain": [
       "Validation: |          | 0/? [00:00<?, ?it/s]"
      ]
     },
     "metadata": {},
     "output_type": "display_data"
    },
    {
     "name": "stderr",
     "output_type": "stream",
     "text": [
      "Metric val_loss improved by 0.037 >= min_delta = 0.0. New best score: 0.684\n",
      "Epoch 1, global step 46: 'val_loss' reached 0.68367 (best 0.68367), saving model to '/home/rma86/CSE6740-BirdCLEF/exp1/./tf_efficientnet_b0_ns_loss-v1.ckpt' as top 1\n"
     ]
    },
    {
     "name": "stdout",
     "output_type": "stream",
     "text": [
      "epoch 1 validation loss 0.684235155582428\n",
      "epoch 1 validation C-MAP score pad 5 0.6092961025521253\n",
      "epoch 1 validation C-MAP score pad 3 0.49674084416771735\n",
      "epoch 1 validation AP score 0.20646633971347228\n"
     ]
    },
    {
     "data": {
      "application/vnd.jupyter.widget-view+json": {
       "model_id": "d8c005c87e8a4f75833a63375ce5c616",
       "version_major": 2,
       "version_minor": 0
      },
      "text/plain": [
       "Validation: |          | 0/? [00:00<?, ?it/s]"
      ]
     },
     "metadata": {},
     "output_type": "display_data"
    },
    {
     "name": "stderr",
     "output_type": "stream",
     "text": [
      "Epoch 1, global step 61: 'val_loss' was not in top 1\n"
     ]
    },
    {
     "name": "stdout",
     "output_type": "stream",
     "text": [
      "epoch 1 validation loss 0.6854856610298157\n",
      "epoch 1 validation C-MAP score pad 5 0.6505602910219879\n",
      "epoch 1 validation C-MAP score pad 3 0.5440529800969398\n",
      "epoch 1 validation AP score 0.31574748295792693\n"
     ]
    },
    {
     "data": {
      "application/vnd.jupyter.widget-view+json": {
       "model_id": "0545553f92c244819b1b283f129a3a81",
       "version_major": 2,
       "version_minor": 0
      },
      "text/plain": [
       "Validation: |          | 0/? [00:00<?, ?it/s]"
      ]
     },
     "metadata": {},
     "output_type": "display_data"
    },
    {
     "name": "stderr",
     "output_type": "stream",
     "text": [
      "Metric val_loss improved by 0.032 >= min_delta = 0.0. New best score: 0.652\n",
      "Epoch 2, global step 77: 'val_loss' reached 0.65217 (best 0.65217), saving model to '/home/rma86/CSE6740-BirdCLEF/exp1/./tf_efficientnet_b0_ns_loss-v1.ckpt' as top 1\n"
     ]
    },
    {
     "name": "stdout",
     "output_type": "stream",
     "text": [
      "epoch 2 validation loss 0.6553778052330017\n",
      "epoch 2 validation C-MAP score pad 5 0.6973818180981282\n",
      "epoch 2 validation C-MAP score pad 3 0.6019993489612169\n",
      "epoch 2 validation AP score 0.3848243497659412\n"
     ]
    },
    {
     "data": {
      "application/vnd.jupyter.widget-view+json": {
       "model_id": "766ea553840d48afa16a68446e962b89",
       "version_major": 2,
       "version_minor": 0
      },
      "text/plain": [
       "Validation: |          | 0/? [00:00<?, ?it/s]"
      ]
     },
     "metadata": {},
     "output_type": "display_data"
    },
    {
     "name": "stderr",
     "output_type": "stream",
     "text": [
      "Metric val_loss improved by 0.061 >= min_delta = 0.0. New best score: 0.591\n",
      "Epoch 2, global step 92: 'val_loss' reached 0.59081 (best 0.59081), saving model to '/home/rma86/CSE6740-BirdCLEF/exp1/./tf_efficientnet_b0_ns_loss-v1.ckpt' as top 1\n"
     ]
    },
    {
     "name": "stdout",
     "output_type": "stream",
     "text": [
      "epoch 2 validation loss 0.5933716297149658\n",
      "epoch 2 validation C-MAP score pad 5 0.740644333097088\n",
      "epoch 2 validation C-MAP score pad 3 0.6555777719880784\n",
      "epoch 2 validation AP score 0.49813940020662756\n"
     ]
    },
    {
     "data": {
      "application/vnd.jupyter.widget-view+json": {
       "model_id": "0a3abb03daa343b5938bcb10c671d947",
       "version_major": 2,
       "version_minor": 0
      },
      "text/plain": [
       "Validation: |          | 0/? [00:00<?, ?it/s]"
      ]
     },
     "metadata": {},
     "output_type": "display_data"
    },
    {
     "name": "stderr",
     "output_type": "stream",
     "text": [
      "Epoch 3, global step 108: 'val_loss' was not in top 1\n"
     ]
    },
    {
     "name": "stdout",
     "output_type": "stream",
     "text": [
      "epoch 3 validation loss 0.5969746708869934\n",
      "epoch 3 validation C-MAP score pad 5 0.7616542768639012\n",
      "epoch 3 validation C-MAP score pad 3 0.6838033466529129\n",
      "epoch 3 validation AP score 0.5180935879785883\n"
     ]
    },
    {
     "data": {
      "application/vnd.jupyter.widget-view+json": {
       "model_id": "2361fa2df51a429b9189be25ba337a0c",
       "version_major": 2,
       "version_minor": 0
      },
      "text/plain": [
       "Validation: |          | 0/? [00:00<?, ?it/s]"
      ]
     },
     "metadata": {},
     "output_type": "display_data"
    },
    {
     "name": "stderr",
     "output_type": "stream",
     "text": [
      "Metric val_loss improved by 0.004 >= min_delta = 0.0. New best score: 0.587\n",
      "Epoch 3, global step 123: 'val_loss' reached 0.58654 (best 0.58654), saving model to '/home/rma86/CSE6740-BirdCLEF/exp1/./tf_efficientnet_b0_ns_loss-v1.ckpt' as top 1\n"
     ]
    },
    {
     "name": "stdout",
     "output_type": "stream",
     "text": [
      "epoch 3 validation loss 0.5890547037124634\n",
      "epoch 3 validation C-MAP score pad 5 0.7762758527037859\n",
      "epoch 3 validation C-MAP score pad 3 0.7016012310095174\n",
      "epoch 3 validation AP score 0.5696154287345666\n"
     ]
    },
    {
     "data": {
      "application/vnd.jupyter.widget-view+json": {
       "model_id": "f0d5830215ab4fa39e05ce1c568cc23b",
       "version_major": 2,
       "version_minor": 0
      },
      "text/plain": [
       "Validation: |          | 0/? [00:00<?, ?it/s]"
      ]
     },
     "metadata": {},
     "output_type": "display_data"
    },
    {
     "name": "stderr",
     "output_type": "stream",
     "text": [
      "Metric val_loss improved by 0.033 >= min_delta = 0.0. New best score: 0.554\n",
      "Epoch 4, global step 139: 'val_loss' reached 0.55357 (best 0.55357), saving model to '/home/rma86/CSE6740-BirdCLEF/exp1/./tf_efficientnet_b0_ns_loss-v1.ckpt' as top 1\n"
     ]
    },
    {
     "name": "stdout",
     "output_type": "stream",
     "text": [
      "epoch 4 validation loss 0.5551153421401978\n",
      "epoch 4 validation C-MAP score pad 5 0.7882853095947915\n",
      "epoch 4 validation C-MAP score pad 3 0.7176096297574444\n",
      "epoch 4 validation AP score 0.5869591551050639\n"
     ]
    },
    {
     "name": "stderr",
     "output_type": "stream",
     "text": [
      "Exception ignored in: <function _MultiProcessingDataLoaderIter.__del__ at 0x7f8db37dab60>\n",
      "Traceback (most recent call last):\n",
      "  File \"/home/rma86/.cache/pypoetry/virtualenvs/cse6740-birdclef-1wfYQEHU-py3.11/lib/python3.11/site-packages/torch/utils/data/dataloader.py\", line 1604, in __del__\n",
      "    self._shutdown_workers()\n",
      "  File \"/home/rma86/.cache/pypoetry/virtualenvs/cse6740-birdclef-1wfYQEHU-py3.11/lib/python3.11/site-packages/torch/utils/data/dataloader.py\", line 1568, in _shutdown_workers\n",
      "    w.join(timeout=_utils.MP_STATUS_CHECK_INTERVAL)\n",
      "  File \"/usr/lib/python3.11/multiprocessing/process.py\", line 149, in join\n",
      "    res = self._popen.wait(timeout)\n",
      "          ^^^^^^^^^^^^^^^^^^^^^^^^^\n",
      "  File \"/usr/lib/python3.11/multiprocessing/popen_fork.py\", line 40, in wait\n",
      "    if not wait([self.sentinel], timeout):\n",
      "           ^^^^^^^^^^^^^^^^^^^^^^^^^^^^^^\n",
      "  File \"/usr/lib/python3.11/multiprocessing/connection.py\", line 930, in wait\n",
      "    ready = selector.select(timeout)\n",
      "            ^^^^^^^^^^^^^^^^^^^^^^^^\n",
      "  File \"/usr/lib/python3.11/selectors.py\", line 415, in select\n",
      "    fd_event_list = self._selector.poll(timeout)\n",
      "                    ^^^^^^^^^^^^^^^^^^^^^^^^^^^^\n",
      "KeyboardInterrupt: \n"
     ]
    },
    {
     "data": {
      "application/vnd.jupyter.widget-view+json": {
       "model_id": "0555e90cecea4260b745b7591eda033a",
       "version_major": 2,
       "version_minor": 0
      },
      "text/plain": [
       "Validation: |          | 0/? [00:00<?, ?it/s]"
      ]
     },
     "metadata": {},
     "output_type": "display_data"
    },
    {
     "name": "stderr",
     "output_type": "stream",
     "text": [
      "Epoch 4, global step 154: 'val_loss' was not in top 1\n"
     ]
    },
    {
     "name": "stdout",
     "output_type": "stream",
     "text": [
      "epoch 4 validation loss 0.5613210201263428\n",
      "epoch 4 validation C-MAP score pad 5 0.8014140247805189\n",
      "epoch 4 validation C-MAP score pad 3 0.7359484749962344\n",
      "epoch 4 validation AP score 0.6070281426808287\n"
     ]
    },
    {
     "data": {
      "application/vnd.jupyter.widget-view+json": {
       "model_id": "9a80b14bf8034bd6b35259d44ecf2c6b",
       "version_major": 2,
       "version_minor": 0
      },
      "text/plain": [
       "Validation: |          | 0/? [00:00<?, ?it/s]"
      ]
     },
     "metadata": {},
     "output_type": "display_data"
    },
    {
     "name": "stderr",
     "output_type": "stream",
     "text": [
      "Metric val_loss improved by 0.026 >= min_delta = 0.0. New best score: 0.528\n",
      "Epoch 5, global step 170: 'val_loss' reached 0.52793 (best 0.52793), saving model to '/home/rma86/CSE6740-BirdCLEF/exp1/./tf_efficientnet_b0_ns_loss-v1.ckpt' as top 1\n"
     ]
    },
    {
     "name": "stdout",
     "output_type": "stream",
     "text": [
      "epoch 5 validation loss 0.5290766954421997\n",
      "epoch 5 validation C-MAP score pad 5 0.8110685589848727\n",
      "epoch 5 validation C-MAP score pad 3 0.7477493354450319\n",
      "epoch 5 validation AP score 0.6274001200547707\n"
     ]
    }
   ],
   "source": [
    "run_training()"
   ]
  },
  {
   "cell_type": "code",
   "execution_count": null,
   "id": "df80ed11-8aeb-4685-a841-57e1448fca34",
   "metadata": {},
   "outputs": [],
   "source": []
  }
 ],
 "metadata": {
  "kernelspec": {
   "display_name": "cse6740-birdclef-1wfYQEHU-py3.11",
   "language": "python",
   "name": "python3"
  },
  "language_info": {
   "codemirror_mode": {
    "name": "ipython",
    "version": 3
   },
   "file_extension": ".py",
   "mimetype": "text/x-python",
   "name": "python",
   "nbconvert_exporter": "python",
   "pygments_lexer": "ipython3",
   "version": "3.11.2"
  }
 },
 "nbformat": 4,
 "nbformat_minor": 5
}
