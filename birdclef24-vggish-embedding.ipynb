{
 "cells": [
  {
   "cell_type": "markdown",
   "metadata": {},
   "source": [
    "<center><img src=\"https://keras.io/img/logo-small.png\" alt=\"Keras logo\" width=\"100\"><br/>\n",
    "This starter notebook is provided by the Keras team.</center>"
   ]
  },
  {
   "cell_type": "markdown",
   "metadata": {},
   "source": [
    "# BirdCLEF 2024 with [KerasCV](https://github.com/keras-team/keras-cv) and [Keras](https://github.com/keras-team/keras)\n",
    "\n",
    "This notebook is built on top of Keras starter notebook. It uses VGGish to directly embed raw audio (.ogg files) instead of spectrogram for training.\n"
   ]
  },
  {
   "cell_type": "markdown",
   "metadata": {
    "papermill": {
     "duration": 0.065343,
     "end_time": "2022-03-08T03:18:11.885586",
     "exception": false,
     "start_time": "2022-03-08T03:18:11.820243",
     "status": "completed"
    },
    "tags": []
   },
   "source": [
    "# Import Libraries 📚"
   ]
  },
  {
   "cell_type": "code",
   "execution_count": null,
   "metadata": {
    "_cell_guid": "b1076dfc-b9ad-4769-8c92-a6c4dae69d19",
    "_kg_hide-output": true,
    "_uuid": "8f2839f25d086af736a60e9eeb907d3b93b6e0e5",
    "execution": {
     "iopub.execute_input": "2024-11-06T17:34:51.577510Z",
     "iopub.status.busy": "2024-11-06T17:34:51.577206Z",
     "iopub.status.idle": "2024-11-06T17:35:09.459246Z",
     "shell.execute_reply": "2024-11-06T17:35:09.458310Z",
     "shell.execute_reply.started": "2024-11-06T17:34:51.577469Z"
    },
    "papermill": {
     "duration": 2.632068,
     "end_time": "2022-03-08T03:18:14.585094",
     "exception": false,
     "start_time": "2022-03-08T03:18:11.953026",
     "status": "completed"
    },
    "tags": [],
    "trusted": true
   },
   "outputs": [
    {
     "name": "stderr",
     "output_type": "stream",
     "text": [
      "/tmp/ipykernel_30/3165360914.py:23: MatplotlibDeprecationWarning: The get_cmap function was deprecated in Matplotlib 3.7 and will be removed two minor releases later. Use ``matplotlib.colormaps[name]`` or ``matplotlib.colormaps.get_cmap(obj)`` instead.\n",
      "  cmap = mpl.cm.get_cmap('coolwarm')\n"
     ]
    }
   ],
   "source": [
    "import os\n",
    "os.environ[\"KERAS_BACKEND\"] = \"jax\"  # \"jax\" or \"tensorflow\" or \"torch\" \n",
    "\n",
    "import keras_cv\n",
    "import keras\n",
    "import keras.backend as K\n",
    "import tensorflow as tf\n",
    "import tensorflow_io as tfio\n",
    "\n",
    "import numpy as np \n",
    "import pandas as pd\n",
    "\n",
    "from glob import glob\n",
    "from tqdm import tqdm\n",
    "\n",
    "import librosa\n",
    "import IPython.display as ipd\n",
    "import librosa.display as lid\n",
    "\n",
    "import matplotlib.pyplot as plt\n",
    "import matplotlib as mpl\n",
    "\n",
    "cmap = mpl.cm.get_cmap('coolwarm')"
   ]
  },
  {
   "cell_type": "markdown",
   "metadata": {
    "papermill": {
     "duration": 0.065649,
     "end_time": "2022-03-08T03:18:14.717311",
     "exception": false,
     "start_time": "2022-03-08T03:18:14.651662",
     "status": "completed"
    },
    "tags": []
   },
   "source": [
    "## Library Version"
   ]
  },
  {
   "cell_type": "code",
   "execution_count": 2,
   "metadata": {
    "execution": {
     "iopub.execute_input": "2024-11-06T17:35:19.268753Z",
     "iopub.status.busy": "2024-11-06T17:35:19.268113Z",
     "iopub.status.idle": "2024-11-06T17:35:19.532673Z",
     "shell.execute_reply": "2024-11-06T17:35:19.531671Z",
     "shell.execute_reply.started": "2024-11-06T17:35:19.268712Z"
    },
    "papermill": {
     "duration": 0.155095,
     "end_time": "2022-03-08T03:18:14.939054",
     "exception": false,
     "start_time": "2022-03-08T03:18:14.783959",
     "status": "completed"
    },
    "tags": [],
    "trusted": true
   },
   "outputs": [
    {
     "name": "stdout",
     "output_type": "stream",
     "text": [
      "TensorFlow: 2.16.1\n",
      "Keras: 3.3.3\n",
      "KerasCV: 0.9.0\n"
     ]
    }
   ],
   "source": [
    "print(\"TensorFlow:\", tf.__version__)\n",
    "print(\"Keras:\", keras.__version__)\n",
    "print(\"KerasCV:\", keras_cv.__version__)"
   ]
  },
  {
   "cell_type": "markdown",
   "metadata": {
    "papermill": {
     "duration": 0.066353,
     "end_time": "2022-03-08T03:18:18.099835",
     "exception": false,
     "start_time": "2022-03-08T03:18:18.033482",
     "status": "completed"
    },
    "tags": []
   },
   "source": [
    "# Configuration ⚙️"
   ]
  },
  {
   "cell_type": "code",
   "execution_count": 3,
   "metadata": {
    "execution": {
     "iopub.execute_input": "2024-11-06T17:35:24.292417Z",
     "iopub.status.busy": "2024-11-06T17:35:24.291563Z",
     "iopub.status.idle": "2024-11-06T17:35:24.396461Z",
     "shell.execute_reply": "2024-11-06T17:35:24.395649Z",
     "shell.execute_reply.started": "2024-11-06T17:35:24.292379Z"
    },
    "papermill": {
     "duration": 0.156464,
     "end_time": "2022-03-08T03:18:18.322809",
     "exception": false,
     "start_time": "2022-03-08T03:18:18.166345",
     "status": "completed"
    },
    "tags": [],
    "trusted": true
   },
   "outputs": [],
   "source": [
    "class CFG:\n",
    "    seed = 42\n",
    "    \n",
    "    # Input image size and batch size\n",
    "    img_size = [128, 384]\n",
    "    batch_size = 64\n",
    "    \n",
    "    # Audio duration, sample rate, and length\n",
    "    duration = 15 # second\n",
    "    sample_rate = 32000\n",
    "    audio_len = duration*sample_rate\n",
    "    \n",
    "    # STFT parameters\n",
    "    nfft = 2028\n",
    "    window = 2048\n",
    "    hop_length = audio_len // (img_size[1] - 1)\n",
    "    fmin = 20\n",
    "    fmax = 16000\n",
    "    \n",
    "    # Number of epochs, model name\n",
    "    epochs = 10\n",
    "    preset = 'efficientnetv2_b2_imagenet'\n",
    "    \n",
    "    # Data augmentation parameters\n",
    "    augment=True\n",
    "\n",
    "    # Class Labels for BirdCLEF 24\n",
    "    class_names = sorted(os.listdir('/kaggle/input/birdclef-2024/train_audio/'))\n",
    "    num_classes = len(class_names)\n",
    "    class_labels = list(range(num_classes))\n",
    "    label2name = dict(zip(class_labels, class_names))\n",
    "    name2label = {v:k for k,v in label2name.items()}"
   ]
  },
  {
   "cell_type": "markdown",
   "metadata": {
    "papermill": {
     "duration": 0.070351,
     "end_time": "2022-03-08T03:18:18.46058",
     "exception": false,
     "start_time": "2022-03-08T03:18:18.390229",
     "status": "completed"
    },
    "tags": []
   },
   "source": [
    "# Reproducibility ♻️\n",
    "Sets value for random seed to produce similar result in each run."
   ]
  },
  {
   "cell_type": "code",
   "execution_count": 6,
   "metadata": {
    "_kg_hide-input": true,
    "execution": {
     "iopub.execute_input": "2024-11-06T17:38:49.254335Z",
     "iopub.status.busy": "2024-11-06T17:38:49.253493Z",
     "iopub.status.idle": "2024-11-06T17:38:49.259061Z",
     "shell.execute_reply": "2024-11-06T17:38:49.257985Z",
     "shell.execute_reply.started": "2024-11-06T17:38:49.254296Z"
    },
    "papermill": {
     "duration": 0.153451,
     "end_time": "2022-03-08T03:18:18.685056",
     "exception": false,
     "start_time": "2022-03-08T03:18:18.531605",
     "status": "completed"
    },
    "tags": [],
    "trusted": true
   },
   "outputs": [],
   "source": [
    "tf.keras.utils.set_random_seed(CFG.seed)"
   ]
  },
  {
   "cell_type": "markdown",
   "metadata": {},
   "source": [
    "# Dataset Path 📁"
   ]
  },
  {
   "cell_type": "code",
   "execution_count": 7,
   "metadata": {
    "_kg_hide-input": true,
    "execution": {
     "iopub.execute_input": "2024-11-06T17:38:53.288077Z",
     "iopub.status.busy": "2024-11-06T17:38:53.287677Z",
     "iopub.status.idle": "2024-11-06T17:38:53.292488Z",
     "shell.execute_reply": "2024-11-06T17:38:53.291450Z",
     "shell.execute_reply.started": "2024-11-06T17:38:53.288042Z"
    },
    "trusted": true
   },
   "outputs": [],
   "source": [
    "BASE_PATH = '/kaggle/input/birdclef-2024'"
   ]
  },
  {
   "cell_type": "markdown",
   "metadata": {
    "papermill": {
     "duration": 0.067107,
     "end_time": "2022-03-08T03:18:26.962626",
     "exception": false,
     "start_time": "2022-03-08T03:18:26.895519",
     "status": "completed"
    },
    "tags": []
   },
   "source": [
    "# Meta Data 📖"
   ]
  },
  {
   "cell_type": "code",
   "execution_count": 9,
   "metadata": {
    "execution": {
     "iopub.execute_input": "2024-11-06T17:40:39.046037Z",
     "iopub.status.busy": "2024-11-06T17:40:39.045633Z",
     "iopub.status.idle": "2024-11-06T17:40:39.178649Z",
     "shell.execute_reply": "2024-11-06T17:40:39.177740Z",
     "shell.execute_reply.started": "2024-11-06T17:40:39.045999Z"
    },
    "trusted": true
   },
   "outputs": [
    {
     "data": {
      "text/html": [
       "<div>\n",
       "<style scoped>\n",
       "    .dataframe tbody tr th:only-of-type {\n",
       "        vertical-align: middle;\n",
       "    }\n",
       "\n",
       "    .dataframe tbody tr th {\n",
       "        vertical-align: top;\n",
       "    }\n",
       "\n",
       "    .dataframe thead th {\n",
       "        text-align: right;\n",
       "    }\n",
       "</style>\n",
       "<table border=\"1\" class=\"dataframe\">\n",
       "  <thead>\n",
       "    <tr style=\"text-align: right;\">\n",
       "      <th></th>\n",
       "      <th>primary_label</th>\n",
       "      <th>secondary_labels</th>\n",
       "      <th>type</th>\n",
       "      <th>latitude</th>\n",
       "      <th>longitude</th>\n",
       "      <th>scientific_name</th>\n",
       "      <th>common_name</th>\n",
       "      <th>author</th>\n",
       "      <th>license</th>\n",
       "      <th>rating</th>\n",
       "      <th>url</th>\n",
       "      <th>filename</th>\n",
       "    </tr>\n",
       "  </thead>\n",
       "  <tbody>\n",
       "    <tr>\n",
       "      <th>0</th>\n",
       "      <td>asbfly</td>\n",
       "      <td>[]</td>\n",
       "      <td>['call']</td>\n",
       "      <td>39.2297</td>\n",
       "      <td>118.1987</td>\n",
       "      <td>Muscicapa dauurica</td>\n",
       "      <td>Asian Brown Flycatcher</td>\n",
       "      <td>Matt Slaymaker</td>\n",
       "      <td>Creative Commons Attribution-NonCommercial-Sha...</td>\n",
       "      <td>5.0</td>\n",
       "      <td>https://www.xeno-canto.org/134896</td>\n",
       "      <td>asbfly/XC134896.ogg</td>\n",
       "    </tr>\n",
       "    <tr>\n",
       "      <th>1</th>\n",
       "      <td>asbfly</td>\n",
       "      <td>[]</td>\n",
       "      <td>['song']</td>\n",
       "      <td>51.4030</td>\n",
       "      <td>104.6401</td>\n",
       "      <td>Muscicapa dauurica</td>\n",
       "      <td>Asian Brown Flycatcher</td>\n",
       "      <td>Magnus Hellström</td>\n",
       "      <td>Creative Commons Attribution-NonCommercial-Sha...</td>\n",
       "      <td>2.5</td>\n",
       "      <td>https://www.xeno-canto.org/164848</td>\n",
       "      <td>asbfly/XC164848.ogg</td>\n",
       "    </tr>\n",
       "    <tr>\n",
       "      <th>2</th>\n",
       "      <td>asbfly</td>\n",
       "      <td>[]</td>\n",
       "      <td>['song']</td>\n",
       "      <td>36.3319</td>\n",
       "      <td>127.3555</td>\n",
       "      <td>Muscicapa dauurica</td>\n",
       "      <td>Asian Brown Flycatcher</td>\n",
       "      <td>Stuart Fisher</td>\n",
       "      <td>Creative Commons Attribution-NonCommercial-Sha...</td>\n",
       "      <td>2.5</td>\n",
       "      <td>https://www.xeno-canto.org/175797</td>\n",
       "      <td>asbfly/XC175797.ogg</td>\n",
       "    </tr>\n",
       "    <tr>\n",
       "      <th>3</th>\n",
       "      <td>asbfly</td>\n",
       "      <td>[]</td>\n",
       "      <td>['call']</td>\n",
       "      <td>21.1697</td>\n",
       "      <td>70.6005</td>\n",
       "      <td>Muscicapa dauurica</td>\n",
       "      <td>Asian Brown Flycatcher</td>\n",
       "      <td>vir joshi</td>\n",
       "      <td>Creative Commons Attribution-NonCommercial-Sha...</td>\n",
       "      <td>4.0</td>\n",
       "      <td>https://www.xeno-canto.org/207738</td>\n",
       "      <td>asbfly/XC207738.ogg</td>\n",
       "    </tr>\n",
       "    <tr>\n",
       "      <th>4</th>\n",
       "      <td>asbfly</td>\n",
       "      <td>[]</td>\n",
       "      <td>['call']</td>\n",
       "      <td>15.5442</td>\n",
       "      <td>73.7733</td>\n",
       "      <td>Muscicapa dauurica</td>\n",
       "      <td>Asian Brown Flycatcher</td>\n",
       "      <td>Albert Lastukhin &amp; Sergei Karpeev</td>\n",
       "      <td>Creative Commons Attribution-NonCommercial-Sha...</td>\n",
       "      <td>4.0</td>\n",
       "      <td>https://www.xeno-canto.org/209218</td>\n",
       "      <td>asbfly/XC209218.ogg</td>\n",
       "    </tr>\n",
       "    <tr>\n",
       "      <th>...</th>\n",
       "      <td>...</td>\n",
       "      <td>...</td>\n",
       "      <td>...</td>\n",
       "      <td>...</td>\n",
       "      <td>...</td>\n",
       "      <td>...</td>\n",
       "      <td>...</td>\n",
       "      <td>...</td>\n",
       "      <td>...</td>\n",
       "      <td>...</td>\n",
       "      <td>...</td>\n",
       "      <td>...</td>\n",
       "    </tr>\n",
       "    <tr>\n",
       "      <th>24454</th>\n",
       "      <td>zitcis1</td>\n",
       "      <td>[]</td>\n",
       "      <td>['']</td>\n",
       "      <td>43.5925</td>\n",
       "      <td>4.5434</td>\n",
       "      <td>Cisticola juncidis</td>\n",
       "      <td>Zitting Cisticola</td>\n",
       "      <td>Chèvremont Fabian</td>\n",
       "      <td>Creative Commons Attribution-NonCommercial-Sha...</td>\n",
       "      <td>5.0</td>\n",
       "      <td>https://xeno-canto.org/845747</td>\n",
       "      <td>zitcis1/XC845747.ogg</td>\n",
       "    </tr>\n",
       "    <tr>\n",
       "      <th>24455</th>\n",
       "      <td>zitcis1</td>\n",
       "      <td>[]</td>\n",
       "      <td>['']</td>\n",
       "      <td>43.5925</td>\n",
       "      <td>4.5434</td>\n",
       "      <td>Cisticola juncidis</td>\n",
       "      <td>Zitting Cisticola</td>\n",
       "      <td>Chèvremont Fabian</td>\n",
       "      <td>Creative Commons Attribution-NonCommercial-Sha...</td>\n",
       "      <td>4.0</td>\n",
       "      <td>https://xeno-canto.org/845817</td>\n",
       "      <td>zitcis1/XC845817.ogg</td>\n",
       "    </tr>\n",
       "    <tr>\n",
       "      <th>24456</th>\n",
       "      <td>zitcis1</td>\n",
       "      <td>[]</td>\n",
       "      <td>['']</td>\n",
       "      <td>51.1207</td>\n",
       "      <td>4.5607</td>\n",
       "      <td>Cisticola juncidis</td>\n",
       "      <td>Zitting Cisticola</td>\n",
       "      <td>Wim Jacobs</td>\n",
       "      <td>Creative Commons Attribution-NonCommercial-Sha...</td>\n",
       "      <td>4.0</td>\n",
       "      <td>https://xeno-canto.org/856176</td>\n",
       "      <td>zitcis1/XC856176.ogg</td>\n",
       "    </tr>\n",
       "    <tr>\n",
       "      <th>24457</th>\n",
       "      <td>zitcis1</td>\n",
       "      <td>[]</td>\n",
       "      <td>['']</td>\n",
       "      <td>41.5607</td>\n",
       "      <td>-8.4236</td>\n",
       "      <td>Cisticola juncidis</td>\n",
       "      <td>Zitting Cisticola</td>\n",
       "      <td>Jorge Leitão</td>\n",
       "      <td>Creative Commons Attribution-NonCommercial-Sha...</td>\n",
       "      <td>4.5</td>\n",
       "      <td>https://xeno-canto.org/856723</td>\n",
       "      <td>zitcis1/XC856723.ogg</td>\n",
       "    </tr>\n",
       "    <tr>\n",
       "      <th>24458</th>\n",
       "      <td>zitcis1</td>\n",
       "      <td>[]</td>\n",
       "      <td>['']</td>\n",
       "      <td>13.7747</td>\n",
       "      <td>100.8919</td>\n",
       "      <td>Cisticola juncidis</td>\n",
       "      <td>Zitting Cisticola</td>\n",
       "      <td>Sam Hambly</td>\n",
       "      <td>Creative Commons Attribution-NonCommercial-Sha...</td>\n",
       "      <td>5.0</td>\n",
       "      <td>https://xeno-canto.org/858550</td>\n",
       "      <td>zitcis1/XC858550.ogg</td>\n",
       "    </tr>\n",
       "  </tbody>\n",
       "</table>\n",
       "<p>24459 rows × 12 columns</p>\n",
       "</div>"
      ],
      "text/plain": [
       "      primary_label secondary_labels      type  latitude  longitude  \\\n",
       "0            asbfly               []  ['call']   39.2297   118.1987   \n",
       "1            asbfly               []  ['song']   51.4030   104.6401   \n",
       "2            asbfly               []  ['song']   36.3319   127.3555   \n",
       "3            asbfly               []  ['call']   21.1697    70.6005   \n",
       "4            asbfly               []  ['call']   15.5442    73.7733   \n",
       "...             ...              ...       ...       ...        ...   \n",
       "24454       zitcis1               []      ['']   43.5925     4.5434   \n",
       "24455       zitcis1               []      ['']   43.5925     4.5434   \n",
       "24456       zitcis1               []      ['']   51.1207     4.5607   \n",
       "24457       zitcis1               []      ['']   41.5607    -8.4236   \n",
       "24458       zitcis1               []      ['']   13.7747   100.8919   \n",
       "\n",
       "          scientific_name             common_name  \\\n",
       "0      Muscicapa dauurica  Asian Brown Flycatcher   \n",
       "1      Muscicapa dauurica  Asian Brown Flycatcher   \n",
       "2      Muscicapa dauurica  Asian Brown Flycatcher   \n",
       "3      Muscicapa dauurica  Asian Brown Flycatcher   \n",
       "4      Muscicapa dauurica  Asian Brown Flycatcher   \n",
       "...                   ...                     ...   \n",
       "24454  Cisticola juncidis       Zitting Cisticola   \n",
       "24455  Cisticola juncidis       Zitting Cisticola   \n",
       "24456  Cisticola juncidis       Zitting Cisticola   \n",
       "24457  Cisticola juncidis       Zitting Cisticola   \n",
       "24458  Cisticola juncidis       Zitting Cisticola   \n",
       "\n",
       "                                  author  \\\n",
       "0                         Matt Slaymaker   \n",
       "1                       Magnus Hellström   \n",
       "2                          Stuart Fisher   \n",
       "3                              vir joshi   \n",
       "4      Albert Lastukhin & Sergei Karpeev   \n",
       "...                                  ...   \n",
       "24454                  Chèvremont Fabian   \n",
       "24455                  Chèvremont Fabian   \n",
       "24456                         Wim Jacobs   \n",
       "24457                       Jorge Leitão   \n",
       "24458                         Sam Hambly   \n",
       "\n",
       "                                                 license  rating  \\\n",
       "0      Creative Commons Attribution-NonCommercial-Sha...     5.0   \n",
       "1      Creative Commons Attribution-NonCommercial-Sha...     2.5   \n",
       "2      Creative Commons Attribution-NonCommercial-Sha...     2.5   \n",
       "3      Creative Commons Attribution-NonCommercial-Sha...     4.0   \n",
       "4      Creative Commons Attribution-NonCommercial-Sha...     4.0   \n",
       "...                                                  ...     ...   \n",
       "24454  Creative Commons Attribution-NonCommercial-Sha...     5.0   \n",
       "24455  Creative Commons Attribution-NonCommercial-Sha...     4.0   \n",
       "24456  Creative Commons Attribution-NonCommercial-Sha...     4.0   \n",
       "24457  Creative Commons Attribution-NonCommercial-Sha...     4.5   \n",
       "24458  Creative Commons Attribution-NonCommercial-Sha...     5.0   \n",
       "\n",
       "                                     url              filename  \n",
       "0      https://www.xeno-canto.org/134896   asbfly/XC134896.ogg  \n",
       "1      https://www.xeno-canto.org/164848   asbfly/XC164848.ogg  \n",
       "2      https://www.xeno-canto.org/175797   asbfly/XC175797.ogg  \n",
       "3      https://www.xeno-canto.org/207738   asbfly/XC207738.ogg  \n",
       "4      https://www.xeno-canto.org/209218   asbfly/XC209218.ogg  \n",
       "...                                  ...                   ...  \n",
       "24454      https://xeno-canto.org/845747  zitcis1/XC845747.ogg  \n",
       "24455      https://xeno-canto.org/845817  zitcis1/XC845817.ogg  \n",
       "24456      https://xeno-canto.org/856176  zitcis1/XC856176.ogg  \n",
       "24457      https://xeno-canto.org/856723  zitcis1/XC856723.ogg  \n",
       "24458      https://xeno-canto.org/858550  zitcis1/XC858550.ogg  \n",
       "\n",
       "[24459 rows x 12 columns]"
      ]
     },
     "execution_count": 9,
     "metadata": {},
     "output_type": "execute_result"
    }
   ],
   "source": [
    "pd.read_csv(f'{BASE_PATH}/train_metadata.csv')"
   ]
  },
  {
   "cell_type": "code",
   "execution_count": 10,
   "metadata": {
    "_kg_hide-input": true,
    "execution": {
     "iopub.execute_input": "2024-11-06T17:43:15.920300Z",
     "iopub.status.busy": "2024-11-06T17:43:15.919916Z",
     "iopub.status.idle": "2024-11-06T17:43:16.079400Z",
     "shell.execute_reply": "2024-11-06T17:43:16.078485Z",
     "shell.execute_reply.started": "2024-11-06T17:43:15.920263Z"
    },
    "papermill": {
     "duration": 0.241649,
     "end_time": "2022-03-08T03:18:27.408813",
     "exception": false,
     "start_time": "2022-03-08T03:18:27.167164",
     "status": "completed"
    },
    "tags": [],
    "trusted": true
   },
   "outputs": [
    {
     "data": {
      "text/html": [
       "<div>\n",
       "<style scoped>\n",
       "    .dataframe tbody tr th:only-of-type {\n",
       "        vertical-align: middle;\n",
       "    }\n",
       "\n",
       "    .dataframe tbody tr th {\n",
       "        vertical-align: top;\n",
       "    }\n",
       "\n",
       "    .dataframe thead th {\n",
       "        text-align: right;\n",
       "    }\n",
       "</style>\n",
       "<table border=\"1\" class=\"dataframe\">\n",
       "  <thead>\n",
       "    <tr style=\"text-align: right;\">\n",
       "      <th></th>\n",
       "      <th>primary_label</th>\n",
       "      <th>secondary_labels</th>\n",
       "      <th>type</th>\n",
       "      <th>latitude</th>\n",
       "      <th>longitude</th>\n",
       "      <th>scientific_name</th>\n",
       "      <th>common_name</th>\n",
       "      <th>author</th>\n",
       "      <th>license</th>\n",
       "      <th>rating</th>\n",
       "      <th>url</th>\n",
       "      <th>filename</th>\n",
       "      <th>filepath</th>\n",
       "      <th>target</th>\n",
       "      <th>xc_id</th>\n",
       "    </tr>\n",
       "  </thead>\n",
       "  <tbody>\n",
       "    <tr>\n",
       "      <th>0</th>\n",
       "      <td>asbfly</td>\n",
       "      <td>[]</td>\n",
       "      <td>['call']</td>\n",
       "      <td>39.2297</td>\n",
       "      <td>118.1987</td>\n",
       "      <td>Muscicapa dauurica</td>\n",
       "      <td>Asian Brown Flycatcher</td>\n",
       "      <td>Matt Slaymaker</td>\n",
       "      <td>Creative Commons Attribution-NonCommercial-Sha...</td>\n",
       "      <td>5.0</td>\n",
       "      <td>https://www.xeno-canto.org/134896</td>\n",
       "      <td>asbfly/XC134896.ogg</td>\n",
       "      <td>/kaggle/input/birdclef-2024/train_audio/asbfly...</td>\n",
       "      <td>0</td>\n",
       "      <td>XC134896</td>\n",
       "    </tr>\n",
       "    <tr>\n",
       "      <th>1</th>\n",
       "      <td>asbfly</td>\n",
       "      <td>[]</td>\n",
       "      <td>['song']</td>\n",
       "      <td>51.4030</td>\n",
       "      <td>104.6401</td>\n",
       "      <td>Muscicapa dauurica</td>\n",
       "      <td>Asian Brown Flycatcher</td>\n",
       "      <td>Magnus Hellström</td>\n",
       "      <td>Creative Commons Attribution-NonCommercial-Sha...</td>\n",
       "      <td>2.5</td>\n",
       "      <td>https://www.xeno-canto.org/164848</td>\n",
       "      <td>asbfly/XC164848.ogg</td>\n",
       "      <td>/kaggle/input/birdclef-2024/train_audio/asbfly...</td>\n",
       "      <td>0</td>\n",
       "      <td>XC164848</td>\n",
       "    </tr>\n",
       "  </tbody>\n",
       "</table>\n",
       "</div>"
      ],
      "text/plain": [
       "  primary_label secondary_labels      type  latitude  longitude  \\\n",
       "0        asbfly               []  ['call']   39.2297   118.1987   \n",
       "1        asbfly               []  ['song']   51.4030   104.6401   \n",
       "\n",
       "      scientific_name             common_name            author  \\\n",
       "0  Muscicapa dauurica  Asian Brown Flycatcher    Matt Slaymaker   \n",
       "1  Muscicapa dauurica  Asian Brown Flycatcher  Magnus Hellström   \n",
       "\n",
       "                                             license  rating  \\\n",
       "0  Creative Commons Attribution-NonCommercial-Sha...     5.0   \n",
       "1  Creative Commons Attribution-NonCommercial-Sha...     2.5   \n",
       "\n",
       "                                 url             filename  \\\n",
       "0  https://www.xeno-canto.org/134896  asbfly/XC134896.ogg   \n",
       "1  https://www.xeno-canto.org/164848  asbfly/XC164848.ogg   \n",
       "\n",
       "                                            filepath  target     xc_id  \n",
       "0  /kaggle/input/birdclef-2024/train_audio/asbfly...       0  XC134896  \n",
       "1  /kaggle/input/birdclef-2024/train_audio/asbfly...       0  XC164848  "
      ]
     },
     "execution_count": 10,
     "metadata": {},
     "output_type": "execute_result"
    }
   ],
   "source": [
    "df = pd.read_csv(f'{BASE_PATH}/train_metadata.csv')\n",
    "df['filepath'] = BASE_PATH + '/train_audio/' + df.filename\n",
    "df['target'] = df.primary_label.map(CFG.name2label)\n",
    "df['xc_id'] = df.filepath.map(lambda x: x.split('/')[-1].split('.')[0])\n",
    "\n",
    "# Display rwos\n",
    "df.head(2)"
   ]
  },
  {
   "cell_type": "markdown",
   "metadata": {},
   "source": [
    "# EDA 🎨"
   ]
  },
  {
   "cell_type": "markdown",
   "metadata": {},
   "source": [
    "## Utility"
   ]
  },
  {
   "cell_type": "code",
   "execution_count": 12,
   "metadata": {
    "_kg_hide-input": true,
    "execution": {
     "iopub.execute_input": "2024-11-06T18:01:27.057126Z",
     "iopub.status.busy": "2024-11-06T18:01:27.056719Z",
     "iopub.status.idle": "2024-11-06T18:01:27.068647Z",
     "shell.execute_reply": "2024-11-06T18:01:27.067548Z",
     "shell.execute_reply.started": "2024-11-06T18:01:27.057089Z"
    },
    "trusted": true
   },
   "outputs": [],
   "source": [
    "def load_audio(filepath):\n",
    "    audio, sr = librosa.load(filepath)\n",
    "    return audio, sr\n",
    "\n",
    "def get_spectrogram(audio):\n",
    "    spec = librosa.feature.melspectrogram(y=audio, \n",
    "                                   sr=CFG.sample_rate, \n",
    "                                   n_mels=256,\n",
    "                                   n_fft=2048,\n",
    "                                   hop_length=512,\n",
    "                                   fmax=CFG.fmax,\n",
    "                                   fmin=CFG.fmin,\n",
    "                                   )\n",
    "    spec = librosa.power_to_db(spec, ref=1.0)\n",
    "    min_ = spec.min()\n",
    "    max_ = spec.max()\n",
    "    if max_ != min_:\n",
    "        spec = (spec - min_)/(max_ - min_)\n",
    "    return spec\n",
    "\n",
    "def display_audio(row):\n",
    "    # Caption for viz\n",
    "    caption = f'Id: {row.filename} | Name: {row.common_name} | Sci.Name: {row.scientific_name} | Rating: {row.rating}'\n",
    "    # Read audio file\n",
    "    audio, sr = load_audio(row.filepath)\n",
    "    # Keep fixed length audio\n",
    "    audio = audio[:CFG.audio_len]\n",
    "    # Spectrogram from audio\n",
    "    spec = get_spectrogram(audio)\n",
    "    # Display audio\n",
    "    print(\"# Audio:\")\n",
    "    display(ipd.Audio(audio, rate=CFG.sample_rate))\n",
    "    print('# Visualization:')\n",
    "    fig, ax = plt.subplots(2, 1, figsize=(12, 2*3), sharex=True, tight_layout=True)\n",
    "    fig.suptitle(caption)\n",
    "    # Waveplot\n",
    "    lid.waveshow(audio,\n",
    "                 sr=CFG.sample_rate,\n",
    "                 ax=ax[0],\n",
    "                 color= cmap(0.1))\n",
    "    # Specplot\n",
    "    lid.specshow(spec, \n",
    "                 sr = CFG.sample_rate, \n",
    "                 hop_length=512,\n",
    "                 n_fft=2048,\n",
    "                 fmin=CFG.fmin,\n",
    "                 fmax=CFG.fmax,\n",
    "                 x_axis = 'time', \n",
    "                 y_axis = 'mel',\n",
    "                 cmap = 'coolwarm',\n",
    "                 ax=ax[1])\n",
    "    ax[0].set_xlabel('');\n",
    "    fig.show()"
   ]
  },
  {
   "cell_type": "markdown",
   "metadata": {},
   "source": [
    "## Sample 1"
   ]
  },
  {
   "cell_type": "code",
   "execution_count": null,
   "metadata": {
    "_kg_hide-input": true,
    "execution": {
     "iopub.execute_input": "2024-10-17T12:42:07.422202Z",
     "iopub.status.busy": "2024-10-17T12:42:07.421923Z",
     "iopub.status.idle": "2024-10-17T12:42:24.914236Z",
     "shell.execute_reply": "2024-10-17T12:42:24.913378Z",
     "shell.execute_reply.started": "2024-10-17T12:42:07.422172Z"
    },
    "trusted": true
   },
   "outputs": [],
   "source": [
    "row = df.iloc[35]\n",
    "\n",
    "# Display audio\n",
    "display_audio(row)"
   ]
  },
  {
   "cell_type": "markdown",
   "metadata": {},
   "source": [
    "## Sample 2"
   ]
  },
  {
   "cell_type": "code",
   "execution_count": null,
   "metadata": {
    "_kg_hide-input": true,
    "execution": {
     "iopub.execute_input": "2024-10-17T12:42:24.916304Z",
     "iopub.status.busy": "2024-10-17T12:42:24.915711Z",
     "iopub.status.idle": "2024-10-17T12:42:26.733459Z",
     "shell.execute_reply": "2024-10-17T12:42:26.732402Z",
     "shell.execute_reply.started": "2024-10-17T12:42:24.916266Z"
    },
    "trusted": true
   },
   "outputs": [],
   "source": [
    "row = df.iloc[16]\n",
    "\n",
    "# Display audio\n",
    "display_audio(row)"
   ]
  },
  {
   "cell_type": "markdown",
   "metadata": {},
   "source": [
    "## Sample 3"
   ]
  },
  {
   "cell_type": "code",
   "execution_count": null,
   "metadata": {
    "_kg_hide-input": true,
    "execution": {
     "iopub.execute_input": "2024-10-17T12:42:26.739279Z",
     "iopub.status.busy": "2024-10-17T12:42:26.738401Z",
     "iopub.status.idle": "2024-10-17T12:42:28.328870Z",
     "shell.execute_reply": "2024-10-17T12:42:28.327925Z",
     "shell.execute_reply.started": "2024-10-17T12:42:26.739230Z"
    },
    "trusted": true
   },
   "outputs": [],
   "source": [
    "row = df.iloc[50]\n",
    "\n",
    "# Display audio\n",
    "display_audio(row)"
   ]
  },
  {
   "cell_type": "markdown",
   "metadata": {
    "papermill": {
     "duration": 0.09524,
     "end_time": "2022-03-08T03:18:34.861029",
     "exception": false,
     "start_time": "2022-03-08T03:18:34.765789",
     "status": "completed"
    },
    "tags": []
   },
   "source": [
    "# Data Split 🔪\n",
    "Following code will split the data into folds using target stratification.\n",
    "> **Note:** Some classess have too few samples thus not each fold contains all the classes. "
   ]
  },
  {
   "cell_type": "code",
   "execution_count": 27,
   "metadata": {
    "_kg_hide-input": false,
    "_kg_hide-output": true,
    "execution": {
     "iopub.execute_input": "2024-11-06T18:25:54.232951Z",
     "iopub.status.busy": "2024-11-06T18:25:54.232499Z",
     "iopub.status.idle": "2024-11-06T18:25:55.057498Z",
     "shell.execute_reply": "2024-11-06T18:25:55.056495Z",
     "shell.execute_reply.started": "2024-11-06T18:25:54.232911Z"
    },
    "papermill": {
     "duration": 0.386301,
     "end_time": "2022-03-08T03:18:35.325064",
     "exception": false,
     "start_time": "2022-03-08T03:18:34.938763",
     "status": "completed"
    },
    "tags": [],
    "trusted": true
   },
   "outputs": [
    {
     "name": "stdout",
     "output_type": "stream",
     "text": [
      "Num Train: 19567 | Num Valid: 4892\n"
     ]
    }
   ],
   "source": [
    "# Import required packages\n",
    "from sklearn.model_selection import train_test_split\n",
    "\n",
    "train_df, valid_df = train_test_split(df, test_size=0.2)\n",
    "\n",
    "print(f\"Num Train: {len(train_df)} | Num Valid: {len(valid_df)}\")"
   ]
  },
  {
   "cell_type": "markdown",
   "metadata": {
    "papermill": {
     "duration": 0.152812,
     "end_time": "2022-03-08T03:18:48.676686",
     "exception": false,
     "start_time": "2022-03-08T03:18:48.523874",
     "status": "completed"
    },
    "tags": []
   },
   "source": [
    "# Data Loader 🍚"
   ]
  },
  {
   "cell_type": "markdown",
   "metadata": {},
   "source": [
    "## Decoders\n",
    "\n",
    "The following code will decode the raw audio from `.ogg` file and also decode the spectrogram from the `audio` file. Additionally, we will apply Z-Score standardization and Min-Max normalization to ensure consistent inputs to the model.\n"
   ]
  },
  {
   "cell_type": "code",
   "execution_count": 20,
   "metadata": {
    "_kg_hide-input": true,
    "execution": {
     "iopub.execute_input": "2024-11-06T18:20:46.254033Z",
     "iopub.status.busy": "2024-11-06T18:20:46.253671Z",
     "iopub.status.idle": "2024-11-06T18:20:52.534065Z",
     "shell.execute_reply": "2024-11-06T18:20:52.533250Z",
     "shell.execute_reply.started": "2024-11-06T18:20:46.254000Z"
    },
    "papermill": {
     "duration": 0.251237,
     "end_time": "2022-03-08T03:18:49.079346",
     "exception": false,
     "start_time": "2022-03-08T03:18:48.828109",
     "status": "completed"
    },
    "tags": [],
    "trusted": true
   },
   "outputs": [],
   "source": [
    "import tensorflow_hub as hub\n",
    "embedding_model = hub.load(\"https://tfhub.dev/google/vggish/1\")\n",
    "\n",
    "def build_decoder(with_labels=True, dim=1024):\n",
    "    def get_audio(filepath):\n",
    "        file_bytes = tf.io.read_file(filepath)\n",
    "        audio = tfio.audio.decode_vorbis(file_bytes)  # decode .ogg file\n",
    "        audio = tf.cast(audio, tf.float32)\n",
    "        if tf.shape(audio)[1] > 1:  # stereo -> mono\n",
    "            audio = audio[..., 0:1]\n",
    "        audio = tf.squeeze(audio, axis=-1)\n",
    "        return audio\n",
    "\n",
    "    def crop_or_pad(audio, target_len, pad_mode=\"constant\"):\n",
    "        audio_len = tf.shape(audio)[0]\n",
    "        diff_len = abs(\n",
    "            target_len - audio_len\n",
    "        )  # find difference between target and audio length\n",
    "        if audio_len < target_len:  # do padding if audio length is shorter\n",
    "            pad1 = tf.random.uniform([], maxval=diff_len, dtype=tf.int32)\n",
    "            pad2 = diff_len - pad1\n",
    "            audio = tf.pad(audio, paddings=[[pad1, pad2]], mode=pad_mode)\n",
    "        elif audio_len > target_len:  # do cropping if audio length is larger\n",
    "            idx = tf.random.uniform([], maxval=diff_len, dtype=tf.int32)\n",
    "            audio = audio[idx : (idx + target_len)]\n",
    "        return tf.reshape(audio, [target_len])\n",
    "\n",
    "    def get_target(target):\n",
    "        target = tf.reshape(target, [1])\n",
    "        target = tf.cast(tf.one_hot(target, CFG.num_classes), tf.float32)\n",
    "        target = tf.reshape(target, [CFG.num_classes])\n",
    "        return target\n",
    "\n",
    "    def decode(path):\n",
    "        # Load audio file\n",
    "        audio = get_audio(path)\n",
    "        # Crop or pad audio to keep a fixed length\n",
    "        audio = crop_or_pad(audio, dim)\n",
    "        \n",
    "        # Use audio embedding model to get embeddings\n",
    "        embeddings = embedding_model(audio)\n",
    "        \n",
    "        # Resize embeddings if necessary, depending on the model's output shape\n",
    "        embeddings = tf.reshape(embeddings, [-1])  # Flatten embeddings to 1D\n",
    "        \n",
    "        return embeddings\n",
    "\n",
    "    def decode_with_labels(path, label):\n",
    "        label = get_target(label)\n",
    "        return decode(path), label\n",
    "\n",
    "    return decode_with_labels if with_labels else decode"
   ]
  },
  {
   "cell_type": "markdown",
   "metadata": {
    "papermill": {
     "duration": 0.150182,
     "end_time": "2022-03-08T03:18:49.38214",
     "exception": false,
     "start_time": "2022-03-08T03:18:49.231958",
     "status": "completed"
    },
    "tags": []
   },
   "source": [
    "## Augmenters\n",
    "Following code will apply augmentations to spectrogram data. In this notebook, we will use MixUp, CutOut (TimeMasking and FreqMasking) from KerasCV.\n",
    "\n",
    "> Note that, these augmentations will be applied to batch of spectrograms rather than single spectrograms."
   ]
  },
  {
   "cell_type": "markdown",
   "metadata": {
    "papermill": {
     "duration": 0.152217,
     "end_time": "2022-03-08T03:18:50.097623",
     "exception": false,
     "start_time": "2022-03-08T03:18:49.945406",
     "status": "completed"
    },
    "tags": []
   },
   "source": [
    "## Data Pipeline\n",
    "Following code builds the complete pipeline of the data flow. It uses `tf.data.Dataset` for data processing. Here are some cool features of `tf.data`,\n",
    "* We can build complex input pipelines from simple, reusable pieces using`tf.data` API . For example, the pipeline for an audio model might aggregate data from files in a distributed file system, apply random transformation/augmentation to each audio/spectrogram, and merge randomly selected data into a batch for training.\n",
    "* Moreover `tf.data` API provides a `tf.data.Dataset` feature that represents a sequence of components where each component comprises one or more pieces. For instance, in an audio pipeline, a component might be a single training example, with a pair of tensor pieces representing the audio and its label.\n",
    "\n",
    "Check out this [doc](https://www.tensorflow.org/guide/data) if you want to learn more about `tf.data`."
   ]
  },
  {
   "cell_type": "code",
   "execution_count": 26,
   "metadata": {
    "execution": {
     "iopub.execute_input": "2024-11-06T18:25:49.477940Z",
     "iopub.status.busy": "2024-11-06T18:25:49.477538Z",
     "iopub.status.idle": "2024-11-06T18:25:49.485937Z",
     "shell.execute_reply": "2024-11-06T18:25:49.484809Z",
     "shell.execute_reply.started": "2024-11-06T18:25:49.477904Z"
    },
    "papermill": {
     "duration": 0.240881,
     "end_time": "2022-03-08T03:18:50.489717",
     "exception": false,
     "start_time": "2022-03-08T03:18:50.248836",
     "status": "completed"
    },
    "tags": [],
    "trusted": true
   },
   "outputs": [],
   "source": [
    "def build_dataset(paths, labels=None, batch_size=32, \n",
    "                  decode_fn=None, cache=True, shuffle=2048):\n",
    "    # Use a default decode function if none is provided\n",
    "    if decode_fn is None:\n",
    "        decode_fn = build_decoder(labels is not None, dim=CFG.audio_len)\n",
    "\n",
    "    # Enable data parallelism and set up data loading pipeline\n",
    "    AUTO = tf.data.experimental.AUTOTUNE\n",
    "    slices = (paths,) if labels is None else (paths, labels)\n",
    "    ds = tf.data.Dataset.from_tensor_slices(slices)\n",
    "    ds = ds.map(decode_fn, num_parallel_calls=AUTO)\n",
    "    \n",
    "    # Cache dataset for faster access if enabled\n",
    "    if cache:\n",
    "        ds = ds.cache()\n",
    "\n",
    "    # Shuffle dataset if needed\n",
    "    if shuffle:\n",
    "        opt = tf.data.Options()\n",
    "        ds = ds.shuffle(shuffle, seed=CFG.seed)\n",
    "        opt.experimental_deterministic = False\n",
    "        ds = ds.with_options(opt)\n",
    "\n",
    "    # Batch and prefetch dataset\n",
    "    ds = ds.batch(batch_size, drop_remainder=True)\n",
    "    ds = ds.prefetch(AUTO)\n",
    "    \n",
    "    return ds"
   ]
  },
  {
   "cell_type": "markdown",
   "metadata": {},
   "source": [
    "## Build Train and Valid Dataloaders"
   ]
  },
  {
   "cell_type": "code",
   "execution_count": 29,
   "metadata": {
    "execution": {
     "iopub.execute_input": "2024-11-06T18:26:27.805527Z",
     "iopub.status.busy": "2024-11-06T18:26:27.805120Z",
     "iopub.status.idle": "2024-11-06T18:26:30.630237Z",
     "shell.execute_reply": "2024-11-06T18:26:30.629152Z",
     "shell.execute_reply.started": "2024-11-06T18:26:27.805487Z"
    },
    "trusted": true
   },
   "outputs": [],
   "source": [
    "# Train\n",
    "train_paths = train_df.filepath.values\n",
    "train_labels = train_df.target.values\n",
    "train_ds = build_dataset(train_paths, train_labels, batch_size=CFG.batch_size,\n",
    "                         shuffle=True)\n",
    "\n",
    "# Valid\n",
    "valid_paths = valid_df.filepath.values\n",
    "valid_labels = valid_df.target.values\n",
    "valid_ds = build_dataset(valid_paths, valid_labels, batch_size=CFG.batch_size,\n",
    "                         shuffle=False)"
   ]
  },
  {
   "cell_type": "code",
   "execution_count": 36,
   "metadata": {
    "execution": {
     "iopub.execute_input": "2024-11-06T18:29:55.794611Z",
     "iopub.status.busy": "2024-11-06T18:29:55.794219Z",
     "iopub.status.idle": "2024-11-06T18:30:22.463065Z",
     "shell.execute_reply": "2024-11-06T18:30:22.461977Z",
     "shell.execute_reply.started": "2024-11-06T18:29:55.794575Z"
    },
    "trusted": true
   },
   "outputs": [
    {
     "name": "stdout",
     "output_type": "stream",
     "text": [
      "Embedding shape: (64, 3968)\n",
      "Label shape: (64, 182)\n"
     ]
    }
   ],
   "source": [
    "# Take a single batch from the dataset to inspect the shape\n",
    "for batch in train_ds.take(1):  # `ds` is the dataset created by `build_dataset`\n",
    "    embeddings, labels = batch\n",
    "    print(\"Embedding shape:\", embeddings.shape)  # This will show the shape of the batch of embeddings\n",
    "    print(\"Label shape:\", labels.shape)\n"
   ]
  },
  {
   "cell_type": "markdown",
   "metadata": {},
   "source": [
    "# Visualization 🔭\n",
    "To ensure our pipeline is generating **spectrogram** and its associate **label** correctly, we'll check some samples from a batch."
   ]
  },
  {
   "cell_type": "markdown",
   "metadata": {
    "papermill": {
     "duration": 0.182769,
     "end_time": "2022-03-08T03:20:04.861966",
     "exception": false,
     "start_time": "2022-03-08T03:20:04.679197",
     "status": "completed"
    },
    "tags": []
   },
   "source": [
    "# 🤖 Modeling\n",
    "\n",
    "Building a model for an audio recognition task with spectrograms as input is quite straightforward, as it is very similar to image classification. This is because the shape of spectrogram data is very similar to image data. In this notebook, to perform the audio recognition task, we will utilize the `EfficientNetV2` ImageNet-pretrained model as the backbone. Even though this backbone is pretrained with ImageNet data instead of spectrogram data, we can leverage transfer learning to adapt it to our spectrogram-based task.\n",
    "\n",
    "> Note that we can train our model on any duration audio file (here we are using `10 seconds`), but we will always infer on `5-second` audio files (as per competition rules). To facilitate this, we have set the model input shape to `(None, None, 3)`, which will allow us to have variable-length input during training and inference.\n",
    "\n",
    "\n",
    "In case you are wondering, **Why not train and infer on both `5-second`?** In the train data, we have long audio files, but we are not sure which part of the audio contains the labeled bird's song. In other words, this is weakly labeled. To ensure the provided label is accurately suited to the audio, we are using a larger audio size than `5 seconds`. You are welcome to try out different audio lengths for training.\n"
   ]
  },
  {
   "cell_type": "code",
   "execution_count": 38,
   "metadata": {
    "_kg_hide-input": true,
    "execution": {
     "iopub.execute_input": "2024-11-06T18:32:02.954010Z",
     "iopub.status.busy": "2024-11-06T18:32:02.952992Z",
     "iopub.status.idle": "2024-11-06T18:32:04.308468Z",
     "shell.execute_reply": "2024-11-06T18:32:04.307474Z",
     "shell.execute_reply.started": "2024-11-06T18:32:02.953954Z"
    },
    "papermill": {
     "duration": 1.239321,
     "end_time": "2022-03-08T03:20:06.281118",
     "exception": false,
     "start_time": "2022-03-08T03:20:05.041797",
     "status": "completed"
    },
    "tags": [],
    "trusted": true
   },
   "outputs": [
    {
     "data": {
      "text/html": [
       "<pre style=\"white-space:pre;overflow-x:auto;line-height:normal;font-family:Menlo,'DejaVu Sans Mono',consolas,'Courier New',monospace\"><span style=\"font-weight: bold\">Model: \"functional_1\"</span>\n",
       "</pre>\n"
      ],
      "text/plain": [
       "\u001b[1mModel: \"functional_1\"\u001b[0m\n"
      ]
     },
     "metadata": {},
     "output_type": "display_data"
    },
    {
     "data": {
      "text/html": [
       "<pre style=\"white-space:pre;overflow-x:auto;line-height:normal;font-family:Menlo,'DejaVu Sans Mono',consolas,'Courier New',monospace\">┏━━━━━━━━━━━━━━━━━━━━━━━━━━━━━━━━━┳━━━━━━━━━━━━━━━━━━━━━━━━┳━━━━━━━━━━━━━━━┓\n",
       "┃<span style=\"font-weight: bold\"> Layer (type)                    </span>┃<span style=\"font-weight: bold\"> Output Shape           </span>┃<span style=\"font-weight: bold\">       Param # </span>┃\n",
       "┡━━━━━━━━━━━━━━━━━━━━━━━━━━━━━━━━━╇━━━━━━━━━━━━━━━━━━━━━━━━╇━━━━━━━━━━━━━━━┩\n",
       "│ embedding_input (<span style=\"color: #0087ff; text-decoration-color: #0087ff\">InputLayer</span>)    │ (<span style=\"color: #00d7ff; text-decoration-color: #00d7ff\">None</span>, <span style=\"color: #00af00; text-decoration-color: #00af00\">3968</span>)           │             <span style=\"color: #00af00; text-decoration-color: #00af00\">0</span> │\n",
       "├─────────────────────────────────┼────────────────────────┼───────────────┤\n",
       "│ dense (<span style=\"color: #0087ff; text-decoration-color: #0087ff\">Dense</span>)                   │ (<span style=\"color: #00d7ff; text-decoration-color: #00d7ff\">None</span>, <span style=\"color: #00af00; text-decoration-color: #00af00\">1024</span>)           │     <span style=\"color: #00af00; text-decoration-color: #00af00\">4,064,256</span> │\n",
       "├─────────────────────────────────┼────────────────────────┼───────────────┤\n",
       "│ batch_normalization             │ (<span style=\"color: #00d7ff; text-decoration-color: #00d7ff\">None</span>, <span style=\"color: #00af00; text-decoration-color: #00af00\">1024</span>)           │         <span style=\"color: #00af00; text-decoration-color: #00af00\">4,096</span> │\n",
       "│ (<span style=\"color: #0087ff; text-decoration-color: #0087ff\">BatchNormalization</span>)            │                        │               │\n",
       "├─────────────────────────────────┼────────────────────────┼───────────────┤\n",
       "│ dropout (<span style=\"color: #0087ff; text-decoration-color: #0087ff\">Dropout</span>)               │ (<span style=\"color: #00d7ff; text-decoration-color: #00d7ff\">None</span>, <span style=\"color: #00af00; text-decoration-color: #00af00\">1024</span>)           │             <span style=\"color: #00af00; text-decoration-color: #00af00\">0</span> │\n",
       "├─────────────────────────────────┼────────────────────────┼───────────────┤\n",
       "│ dense_1 (<span style=\"color: #0087ff; text-decoration-color: #0087ff\">Dense</span>)                 │ (<span style=\"color: #00d7ff; text-decoration-color: #00d7ff\">None</span>, <span style=\"color: #00af00; text-decoration-color: #00af00\">512</span>)            │       <span style=\"color: #00af00; text-decoration-color: #00af00\">524,800</span> │\n",
       "├─────────────────────────────────┼────────────────────────┼───────────────┤\n",
       "│ batch_normalization_1           │ (<span style=\"color: #00d7ff; text-decoration-color: #00d7ff\">None</span>, <span style=\"color: #00af00; text-decoration-color: #00af00\">512</span>)            │         <span style=\"color: #00af00; text-decoration-color: #00af00\">2,048</span> │\n",
       "│ (<span style=\"color: #0087ff; text-decoration-color: #0087ff\">BatchNormalization</span>)            │                        │               │\n",
       "├─────────────────────────────────┼────────────────────────┼───────────────┤\n",
       "│ dropout_1 (<span style=\"color: #0087ff; text-decoration-color: #0087ff\">Dropout</span>)             │ (<span style=\"color: #00d7ff; text-decoration-color: #00d7ff\">None</span>, <span style=\"color: #00af00; text-decoration-color: #00af00\">512</span>)            │             <span style=\"color: #00af00; text-decoration-color: #00af00\">0</span> │\n",
       "├─────────────────────────────────┼────────────────────────┼───────────────┤\n",
       "│ dense_2 (<span style=\"color: #0087ff; text-decoration-color: #0087ff\">Dense</span>)                 │ (<span style=\"color: #00d7ff; text-decoration-color: #00d7ff\">None</span>, <span style=\"color: #00af00; text-decoration-color: #00af00\">256</span>)            │       <span style=\"color: #00af00; text-decoration-color: #00af00\">131,328</span> │\n",
       "├─────────────────────────────────┼────────────────────────┼───────────────┤\n",
       "│ batch_normalization_2           │ (<span style=\"color: #00d7ff; text-decoration-color: #00d7ff\">None</span>, <span style=\"color: #00af00; text-decoration-color: #00af00\">256</span>)            │         <span style=\"color: #00af00; text-decoration-color: #00af00\">1,024</span> │\n",
       "│ (<span style=\"color: #0087ff; text-decoration-color: #0087ff\">BatchNormalization</span>)            │                        │               │\n",
       "├─────────────────────────────────┼────────────────────────┼───────────────┤\n",
       "│ dropout_2 (<span style=\"color: #0087ff; text-decoration-color: #0087ff\">Dropout</span>)             │ (<span style=\"color: #00d7ff; text-decoration-color: #00d7ff\">None</span>, <span style=\"color: #00af00; text-decoration-color: #00af00\">256</span>)            │             <span style=\"color: #00af00; text-decoration-color: #00af00\">0</span> │\n",
       "├─────────────────────────────────┼────────────────────────┼───────────────┤\n",
       "│ classifier (<span style=\"color: #0087ff; text-decoration-color: #0087ff\">Dense</span>)              │ (<span style=\"color: #00d7ff; text-decoration-color: #00d7ff\">None</span>, <span style=\"color: #00af00; text-decoration-color: #00af00\">182</span>)            │        <span style=\"color: #00af00; text-decoration-color: #00af00\">46,774</span> │\n",
       "└─────────────────────────────────┴────────────────────────┴───────────────┘\n",
       "</pre>\n"
      ],
      "text/plain": [
       "┏━━━━━━━━━━━━━━━━━━━━━━━━━━━━━━━━━┳━━━━━━━━━━━━━━━━━━━━━━━━┳━━━━━━━━━━━━━━━┓\n",
       "┃\u001b[1m \u001b[0m\u001b[1mLayer (type)                   \u001b[0m\u001b[1m \u001b[0m┃\u001b[1m \u001b[0m\u001b[1mOutput Shape          \u001b[0m\u001b[1m \u001b[0m┃\u001b[1m \u001b[0m\u001b[1m      Param #\u001b[0m\u001b[1m \u001b[0m┃\n",
       "┡━━━━━━━━━━━━━━━━━━━━━━━━━━━━━━━━━╇━━━━━━━━━━━━━━━━━━━━━━━━╇━━━━━━━━━━━━━━━┩\n",
       "│ embedding_input (\u001b[38;5;33mInputLayer\u001b[0m)    │ (\u001b[38;5;45mNone\u001b[0m, \u001b[38;5;34m3968\u001b[0m)           │             \u001b[38;5;34m0\u001b[0m │\n",
       "├─────────────────────────────────┼────────────────────────┼───────────────┤\n",
       "│ dense (\u001b[38;5;33mDense\u001b[0m)                   │ (\u001b[38;5;45mNone\u001b[0m, \u001b[38;5;34m1024\u001b[0m)           │     \u001b[38;5;34m4,064,256\u001b[0m │\n",
       "├─────────────────────────────────┼────────────────────────┼───────────────┤\n",
       "│ batch_normalization             │ (\u001b[38;5;45mNone\u001b[0m, \u001b[38;5;34m1024\u001b[0m)           │         \u001b[38;5;34m4,096\u001b[0m │\n",
       "│ (\u001b[38;5;33mBatchNormalization\u001b[0m)            │                        │               │\n",
       "├─────────────────────────────────┼────────────────────────┼───────────────┤\n",
       "│ dropout (\u001b[38;5;33mDropout\u001b[0m)               │ (\u001b[38;5;45mNone\u001b[0m, \u001b[38;5;34m1024\u001b[0m)           │             \u001b[38;5;34m0\u001b[0m │\n",
       "├─────────────────────────────────┼────────────────────────┼───────────────┤\n",
       "│ dense_1 (\u001b[38;5;33mDense\u001b[0m)                 │ (\u001b[38;5;45mNone\u001b[0m, \u001b[38;5;34m512\u001b[0m)            │       \u001b[38;5;34m524,800\u001b[0m │\n",
       "├─────────────────────────────────┼────────────────────────┼───────────────┤\n",
       "│ batch_normalization_1           │ (\u001b[38;5;45mNone\u001b[0m, \u001b[38;5;34m512\u001b[0m)            │         \u001b[38;5;34m2,048\u001b[0m │\n",
       "│ (\u001b[38;5;33mBatchNormalization\u001b[0m)            │                        │               │\n",
       "├─────────────────────────────────┼────────────────────────┼───────────────┤\n",
       "│ dropout_1 (\u001b[38;5;33mDropout\u001b[0m)             │ (\u001b[38;5;45mNone\u001b[0m, \u001b[38;5;34m512\u001b[0m)            │             \u001b[38;5;34m0\u001b[0m │\n",
       "├─────────────────────────────────┼────────────────────────┼───────────────┤\n",
       "│ dense_2 (\u001b[38;5;33mDense\u001b[0m)                 │ (\u001b[38;5;45mNone\u001b[0m, \u001b[38;5;34m256\u001b[0m)            │       \u001b[38;5;34m131,328\u001b[0m │\n",
       "├─────────────────────────────────┼────────────────────────┼───────────────┤\n",
       "│ batch_normalization_2           │ (\u001b[38;5;45mNone\u001b[0m, \u001b[38;5;34m256\u001b[0m)            │         \u001b[38;5;34m1,024\u001b[0m │\n",
       "│ (\u001b[38;5;33mBatchNormalization\u001b[0m)            │                        │               │\n",
       "├─────────────────────────────────┼────────────────────────┼───────────────┤\n",
       "│ dropout_2 (\u001b[38;5;33mDropout\u001b[0m)             │ (\u001b[38;5;45mNone\u001b[0m, \u001b[38;5;34m256\u001b[0m)            │             \u001b[38;5;34m0\u001b[0m │\n",
       "├─────────────────────────────────┼────────────────────────┼───────────────┤\n",
       "│ classifier (\u001b[38;5;33mDense\u001b[0m)              │ (\u001b[38;5;45mNone\u001b[0m, \u001b[38;5;34m182\u001b[0m)            │        \u001b[38;5;34m46,774\u001b[0m │\n",
       "└─────────────────────────────────┴────────────────────────┴───────────────┘\n"
      ]
     },
     "metadata": {},
     "output_type": "display_data"
    },
    {
     "data": {
      "text/html": [
       "<pre style=\"white-space:pre;overflow-x:auto;line-height:normal;font-family:Menlo,'DejaVu Sans Mono',consolas,'Courier New',monospace\"><span style=\"font-weight: bold\"> Total params: </span><span style=\"color: #00af00; text-decoration-color: #00af00\">4,774,326</span> (18.21 MB)\n",
       "</pre>\n"
      ],
      "text/plain": [
       "\u001b[1m Total params: \u001b[0m\u001b[38;5;34m4,774,326\u001b[0m (18.21 MB)\n"
      ]
     },
     "metadata": {},
     "output_type": "display_data"
    },
    {
     "data": {
      "text/html": [
       "<pre style=\"white-space:pre;overflow-x:auto;line-height:normal;font-family:Menlo,'DejaVu Sans Mono',consolas,'Courier New',monospace\"><span style=\"font-weight: bold\"> Trainable params: </span><span style=\"color: #00af00; text-decoration-color: #00af00\">4,770,742</span> (18.20 MB)\n",
       "</pre>\n"
      ],
      "text/plain": [
       "\u001b[1m Trainable params: \u001b[0m\u001b[38;5;34m4,770,742\u001b[0m (18.20 MB)\n"
      ]
     },
     "metadata": {},
     "output_type": "display_data"
    },
    {
     "data": {
      "text/html": [
       "<pre style=\"white-space:pre;overflow-x:auto;line-height:normal;font-family:Menlo,'DejaVu Sans Mono',consolas,'Courier New',monospace\"><span style=\"font-weight: bold\"> Non-trainable params: </span><span style=\"color: #00af00; text-decoration-color: #00af00\">3,584</span> (14.00 KB)\n",
       "</pre>\n"
      ],
      "text/plain": [
       "\u001b[1m Non-trainable params: \u001b[0m\u001b[38;5;34m3,584\u001b[0m (14.00 KB)\n"
      ]
     },
     "metadata": {},
     "output_type": "display_data"
    }
   ],
   "source": [
    "from tensorflow.keras import layers\n",
    "\n",
    "# Define the embedding dimension and number of classes\n",
    "embedding_dim = 3968  # Based on your embedding shape\n",
    "num_classes = 182     # Based on your label shape\n",
    "\n",
    "# Create an input layer for the embeddings\n",
    "inp = layers.Input(shape=(embedding_dim,), name=\"embedding_input\")\n",
    "\n",
    "# Dense layers for processing the embedding\n",
    "x = layers.Dense(1024, activation=\"relu\")(inp)\n",
    "x = layers.BatchNormalization()(x)\n",
    "x = layers.Dropout(0.3)(x)\n",
    "\n",
    "x = layers.Dense(512, activation=\"relu\")(x)\n",
    "x = layers.BatchNormalization()(x)\n",
    "x = layers.Dropout(0.3)(x)\n",
    "\n",
    "x = layers.Dense(256, activation=\"relu\")(x)\n",
    "x = layers.BatchNormalization()(x)\n",
    "x = layers.Dropout(0.3)(x)\n",
    "\n",
    "# Output layer for classification\n",
    "out = layers.Dense(num_classes, activation=\"softmax\", name=\"classifier\")(x)\n",
    "\n",
    "# Build the model\n",
    "model = keras.models.Model(inputs=inp, outputs=out)\n",
    "\n",
    "# Compile model with optimizer, loss, and metrics\n",
    "model.compile(\n",
    "    optimizer=\"adam\",\n",
    "    loss=keras.losses.CategoricalCrossentropy(label_smoothing=0.02),\n",
    "    metrics=[keras.metrics.AUC(name=\"auc\")]\n",
    ")\n",
    "\n",
    "# Display the model summary\n",
    "model.summary()"
   ]
  },
  {
   "cell_type": "markdown",
   "metadata": {},
   "source": [
    "# LR Schedule ⚓\n",
    "* Learning Rate scheduler for transfer learning. \n",
    "* The learning rate starts from `lr_start`, then decreases to a`lr_min` using different methods namely,\n",
    "    * **step**: Reduce lr step wise like stair.\n",
    "    * **cos**: Follow Cosine graph to reduce lr.\n",
    "    * **exp**: Reduce lr exponentially."
   ]
  },
  {
   "cell_type": "code",
   "execution_count": 39,
   "metadata": {
    "_kg_hide-input": true,
    "execution": {
     "iopub.execute_input": "2024-11-06T18:32:54.519446Z",
     "iopub.status.busy": "2024-11-06T18:32:54.518495Z",
     "iopub.status.idle": "2024-11-06T18:32:54.529982Z",
     "shell.execute_reply": "2024-11-06T18:32:54.528970Z",
     "shell.execute_reply.started": "2024-11-06T18:32:54.519404Z"
    },
    "papermill": {
     "duration": 0.510014,
     "end_time": "2022-03-08T03:20:45.290695",
     "exception": false,
     "start_time": "2022-03-08T03:20:44.780681",
     "status": "completed"
    },
    "tags": [],
    "trusted": true
   },
   "outputs": [],
   "source": [
    "import math\n",
    "\n",
    "def get_lr_callback(batch_size=8, mode='cos', epochs=10, plot=False):\n",
    "    lr_start, lr_max, lr_min = 5e-5, 8e-6 * batch_size, 1e-5\n",
    "    lr_ramp_ep, lr_sus_ep, lr_decay = 3, 0, 0.75\n",
    "\n",
    "    def lrfn(epoch):  # Learning rate update function\n",
    "        if epoch < lr_ramp_ep: lr = (lr_max - lr_start) / lr_ramp_ep * epoch + lr_start\n",
    "        elif epoch < lr_ramp_ep + lr_sus_ep: lr = lr_max\n",
    "        elif mode == 'exp': lr = (lr_max - lr_min) * lr_decay**(epoch - lr_ramp_ep - lr_sus_ep) + lr_min\n",
    "        elif mode == 'step': lr = lr_max * lr_decay**((epoch - lr_ramp_ep - lr_sus_ep) // 2)\n",
    "        elif mode == 'cos':\n",
    "            decay_total_epochs, decay_epoch_index = epochs - lr_ramp_ep - lr_sus_ep + 3, epoch - lr_ramp_ep - lr_sus_ep\n",
    "            phase = math.pi * decay_epoch_index / decay_total_epochs\n",
    "            lr = (lr_max - lr_min) * 0.5 * (1 + math.cos(phase)) + lr_min\n",
    "        return lr\n",
    "\n",
    "    if plot:  # Plot lr curve if plot is True\n",
    "        plt.figure(figsize=(10, 5))\n",
    "        plt.plot(np.arange(epochs), [lrfn(epoch) for epoch in np.arange(epochs)], marker='o')\n",
    "        plt.xlabel('epoch'); plt.ylabel('lr')\n",
    "        plt.title('LR Scheduler')\n",
    "        plt.show()\n",
    "\n",
    "    return keras.callbacks.LearningRateScheduler(lrfn, verbose=False)  # Create lr callback"
   ]
  },
  {
   "cell_type": "code",
   "execution_count": 40,
   "metadata": {
    "execution": {
     "iopub.execute_input": "2024-11-06T18:32:57.461476Z",
     "iopub.status.busy": "2024-11-06T18:32:57.460511Z",
     "iopub.status.idle": "2024-11-06T18:32:57.726738Z",
     "shell.execute_reply": "2024-11-06T18:32:57.725750Z",
     "shell.execute_reply.started": "2024-11-06T18:32:57.461435Z"
    },
    "trusted": true
   },
   "outputs": [
    {
     "data": {
      "image/png": "[encoded data removed]",
      "text/plain": [
       "<Figure size 1000x500 with 1 Axes>"
      ]
     },
     "metadata": {},
     "output_type": "display_data"
    }
   ],
   "source": [
    "lr_cb = get_lr_callback(CFG.batch_size, plot=True)"
   ]
  },
  {
   "cell_type": "markdown",
   "metadata": {},
   "source": [
    "# Model Checkpoint 💾"
   ]
  },
  {
   "cell_type": "code",
   "execution_count": 41,
   "metadata": {
    "execution": {
     "iopub.execute_input": "2024-11-06T18:33:09.791617Z",
     "iopub.status.busy": "2024-11-06T18:33:09.791173Z",
     "iopub.status.idle": "2024-11-06T18:33:09.799586Z",
     "shell.execute_reply": "2024-11-06T18:33:09.798378Z",
     "shell.execute_reply.started": "2024-11-06T18:33:09.791566Z"
    },
    "trusted": true
   },
   "outputs": [],
   "source": [
    "ckpt_cb = keras.callbacks.ModelCheckpoint(\"best_model.weights.h5\",\n",
    "                                         monitor='val_auc',\n",
    "                                         save_best_only=True,\n",
    "                                         save_weights_only=True,\n",
    "                                         mode='max')"
   ]
  },
  {
   "cell_type": "markdown",
   "metadata": {},
   "source": [
    "# Training 🚄"
   ]
  },
  {
   "cell_type": "code",
   "execution_count": null,
   "metadata": {
    "execution": {
     "iopub.execute_input": "2024-11-06T18:33:14.649600Z",
     "iopub.status.busy": "2024-11-06T18:33:14.648851Z"
    },
    "trusted": true
   },
   "outputs": [
    {
     "name": "stdout",
     "output_type": "stream",
     "text": [
      "Epoch 1/10\n",
      "\u001b[1m 19/305\u001b[0m \u001b[32m━\u001b[0m\u001b[37m━━━━━━━━━━━━━━━━━━━\u001b[0m \u001b[1m1:53:16\u001b[0m 24s/step - auc: 0.5002 - loss: 6.0559"
     ]
    }
   ],
   "source": [
    "history = model.fit(\n",
    "    train_ds, \n",
    "    validation_data=valid_ds, \n",
    "    epochs=CFG.epochs,\n",
    "    callbacks=[lr_cb, ckpt_cb], \n",
    "    verbose=1\n",
    ")"
   ]
  },
  {
   "cell_type": "markdown",
   "metadata": {},
   "source": [
    "## Result Summary"
   ]
  },
  {
   "cell_type": "code",
   "execution_count": null,
   "metadata": {
    "trusted": true
   },
   "outputs": [],
   "source": [
    "best_epoch = np.argmax(history.history[\"val_auc\"])\n",
    "best_score = history.history[\"val_auc\"][best_epoch]\n",
    "print('>>> Best AUC: ', best_score)\n",
    "print('>>> Best Epoch: ', best_epoch+1)"
   ]
  },
  {
   "cell_type": "markdown",
   "metadata": {},
   "source": [
    "# Reference ✍️\n",
    "* [BirdCLEF23: Pretraining is All you Need [Train]](https://www.kaggle.com/code/awsaf49/birdclef23-pretraining-is-all-you-need-train) by @awsaf49\n",
    "* [RANZCR: EfficientNet TPU Training](https://www.kaggle.com/code/xhlulu/ranzcr-efficientnet-tpu-training) by @xhlulu\n",
    "* [Triple Stratified KFold with TFRecords](https://www.kaggle.com/code/cdeotte/triple-stratified-kfold-with-tfrecords) by @cdeotte"
   ]
  }
 ],
 "metadata": {
  "kaggle": {
   "accelerator": "gpu",
   "dataSources": [
    {
     "databundleVersionId": 8068726,
     "sourceId": 70203,
     "sourceType": "competition"
    },
    {
     "modelId": 2797,
     "modelInstanceId": 4596,
     "sourceId": 6125,
     "sourceType": "modelInstanceVersion"
    },
    {
     "modelId": 2797,
     "modelInstanceId": 4598,
     "sourceId": 6127,
     "sourceType": "modelInstanceVersion"
    }
   ],
   "isGpuEnabled": true,
   "isInternetEnabled": true,
   "language": "python",
   "sourceType": "notebook"
  },
  "kernelspec": {
   "display_name": "Python 3",
   "language": "python",
   "name": "python3"
  },
  "language_info": {
   "codemirror_mode": {
    "name": "ipython",
    "version": 3
   },
   "file_extension": ".py",
   "mimetype": "text/x-python",
   "name": "python",
   "nbconvert_exporter": "python",
   "pygments_lexer": "ipython3",
   "version": "3.10.14"
  }
 },
 "nbformat": 4,
 "nbformat_minor": 4
}
