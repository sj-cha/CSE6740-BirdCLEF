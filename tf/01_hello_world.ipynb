{
 "cells": [
  {
   "cell_type": "markdown",
   "id": "d2801b3e-7afd-4eea-b5be-e898fca90443",
   "metadata": {},
   "source": [
    "### Load keras and define parameters"
   ]
  },
  {
   "cell_type": "code",
   "execution_count": 1,
   "id": "e1d263dc-89ce-43b8-8ca2-3fd2c7705498",
   "metadata": {
    "tags": []
   },
   "outputs": [
    {
     "name": "stderr",
     "output_type": "stream",
     "text": [
      "2024-11-29 13:10:17.237257: E external/local_xla/xla/stream_executor/cuda/cuda_fft.cc:477] Unable to register cuFFT factory: Attempting to register factory for plugin cuFFT when one has already been registered\n",
      "WARNING: All log messages before absl::InitializeLog() is called are written to STDERR\n",
      "E0000 00:00:1732885817.404921      34 cuda_dnn.cc:8310] Unable to register cuDNN factory: Attempting to register factory for plugin cuDNN when one has already been registered\n",
      "E0000 00:00:1732885817.461591      34 cuda_blas.cc:1418] Unable to register cuBLAS factory: Attempting to register factory for plugin cuBLAS when one has already been registered\n"
     ]
    }
   ],
   "source": [
    "import os; os.environ['TF_CPP_MIN_LOG_LEVEL'] = '2' # Disable warinings\n",
    "from tensorflow import keras\n",
    "from matplotlib import pyplot as plt"
   ]
  },
  {
   "cell_type": "code",
   "execution_count": 2,
   "id": "7a38cc49-82f1-4a1d-8ccf-523f6596f71a",
   "metadata": {},
   "outputs": [],
   "source": [
    "batch_size = 128\n",
    "layer_size = 256\n",
    "number_of_layers = 2"
   ]
  },
  {
   "cell_type": "markdown",
   "id": "9495854e-45a2-463a-a2e3-bba0630a1992",
   "metadata": {},
   "source": [
    "### Load the mnist data set"
   ]
  },
  {
   "cell_type": "code",
   "execution_count": 3,
   "id": "00e235f7-ab96-43e9-9fb5-eb31910f82ef",
   "metadata": {},
   "outputs": [
    {
     "name": "stdout",
     "output_type": "stream",
     "text": [
      "Downloading data from https://storage.googleapis.com/tensorflow/tf-keras-datasets/mnist.npz\n",
      "\u001b[1m11490434/11490434\u001b[0m \u001b[32m━━━━━━━━━━━━━━━━━━━━\u001b[0m\u001b[37m\u001b[0m \u001b[1m0s\u001b[0m 0us/step\n"
     ]
    }
   ],
   "source": [
    "(X_train, y_train), (X_test, y_test) = keras.datasets.mnist.load_data()"
   ]
  },
  {
   "cell_type": "code",
   "execution_count": 4,
   "id": "b8753413-45c3-4350-b4ab-83098a7709de",
   "metadata": {},
   "outputs": [
    {
     "name": "stdout",
     "output_type": "stream",
     "text": [
      "The shape of the training data is (60000, 28, 28)\n",
      "The dimensions of each image is (28, 28)\n",
      "The train set contains 60000 images\n",
      "The test set contains 10000 images\n"
     ]
    }
   ],
   "source": [
    "print(f'The shape of the training data is {X_train.shape}')\n",
    "print(f'The dimensions of each image is {X_train.shape[1:]}')\n",
    "print(f'The train set contains {len(X_train)} images')\n",
    "print(f'The test set contains {len(X_test)} images')"
   ]
  },
  {
   "cell_type": "code",
   "execution_count": 5,
   "id": "22913000-1487-4264-b827-febb4dc23c2d",
   "metadata": {},
   "outputs": [
    {
     "data": {
      "image/png": "[encoded data removed]",
      "text/plain": [
       "<Figure size 500x500 with 9 Axes>"
      ]
     },
     "metadata": {},
     "output_type": "display_data"
    }
   ],
   "source": [
    "#\n",
    "fig, axes = plt.subplots(3, 3, figsize=(5,5))\n",
    "for i, ax in enumerate(axes.flat):\n",
    "    ax.axes.yaxis.set_ticks([])\n",
    "    ax.axes.xaxis.set_ticks([])\n",
    "    ax.imshow(X_train[i])"
   ]
  },
  {
   "cell_type": "code",
   "execution_count": 6,
   "id": "85a645db-9cba-475a-b01a-a64b5a9543cb",
   "metadata": {},
   "outputs": [
    {
     "name": "stdout",
     "output_type": "stream",
     "text": [
      "[5 0 4 1 9 2 1 3 1]\n"
     ]
    }
   ],
   "source": [
    "print(y_train[:9])"
   ]
  },
  {
   "cell_type": "markdown",
   "id": "eb8989f5-d017-4453-9db3-e75a1e987d4d",
   "metadata": {},
   "source": [
    "### Build and train the model"
   ]
  },
  {
   "cell_type": "code",
   "execution_count": 7,
   "id": "98ce69ad-2777-46c1-a6fe-904f41d676f6",
   "metadata": {},
   "outputs": [],
   "source": [
    "# Create a simple classifier\n",
    "model = keras.Sequential([\n",
    "    *[keras.layers.Dense(layer_size, activation=\"relu\") for _ in range(number_of_layers)],\n",
    "    keras.layers.Dense(10, activation=\"softmax\") # exp(y_i)/(sum(exp(y))\n",
    "])"
   ]
  },
  {
   "cell_type": "code",
   "execution_count": 8,
   "id": "d4b5ccb1-c1b5-4f54-be36-38a88c64dcf8",
   "metadata": {},
   "outputs": [
    {
     "name": "stderr",
     "output_type": "stream",
     "text": [
      "W0000 00:00:1732885834.415891      34 gpu_device.cc:2344] Cannot dlopen some GPU libraries. Please make sure the missing libraries mentioned above are installed properly if you would like to use GPU. Follow the guide at https://www.tensorflow.org/install/gpu for how to download and setup the required libraries for your platform.\n",
      "Skipping registering GPU devices...\n"
     ]
    }
   ],
   "source": [
    "model.compile(\n",
    "    optimizer=\"adam\",\n",
    "    loss=\"sparse_categorical_crossentropy\",\n",
    "    metrics=[\"accuracy\"]\n",
    ")"
   ]
  },
  {
   "cell_type": "code",
   "execution_count": 9,
   "id": "ae85ca8a-fb1a-4d97-be23-fc7836bcff1f",
   "metadata": {},
   "outputs": [],
   "source": [
    "# Prep the data\n",
    "X_train = X_train.reshape((60000, 28*28)).astype(\"float32\") / 255\n",
    "X_test = X_test.reshape((10000, 28*28)).astype(\"float32\") / 255"
   ]
  },
  {
   "cell_type": "code",
   "execution_count": null,
   "id": "6ef220e4-cfc3-44da-be27-98a051904d90",
   "metadata": {},
   "outputs": [],
   "source": [
    "X_test.shape"
   ]
  },
  {
   "cell_type": "code",
   "execution_count": null,
   "id": "6a7161f9-4ff2-483f-b781-5b498c5c9585",
   "metadata": {},
   "outputs": [],
   "source": [
    "model.fit(X_train, y_train, epochs=5, batch_size=batch_size)"
   ]
  },
  {
   "cell_type": "code",
   "execution_count": null,
   "id": "16ec372a-f37d-48cf-b337-a4d894d4f8b0",
   "metadata": {},
   "outputs": [],
   "source": [
    "y_pred = model.predict(X_test)"
   ]
  },
  {
   "cell_type": "code",
   "execution_count": null,
   "id": "1b3c14b8-36b6-4d71-bac0-4fe1630e3c45",
   "metadata": {},
   "outputs": [],
   "source": [
    "print(f'Predictions: {list(map(lambda z: z.argmax(), y_pred[:9]))}')\n",
    "print(f'True Values: {list(y_test[:9])}')"
   ]
  },
  {
   "cell_type": "code",
   "execution_count": null,
   "id": "edbe0201-d4ff-49e0-8c82-287ef67d45eb",
   "metadata": {},
   "outputs": [],
   "source": [
    "test_loss, test_acc = model.evaluate(X_test, y_test)\n",
    "print(f'The test loss is: {test_loss}')\n",
    "print(f'The test accuracy is: {test_acc}')"
   ]
  },
  {
   "cell_type": "markdown",
   "id": "852161c9-abc7-48a4-8c03-cb63bccdd863",
   "metadata": {},
   "source": [
    "### Overfit (just for fun)"
   ]
  },
  {
   "cell_type": "code",
   "execution_count": null,
   "id": "219c2214-d1be-4712-ae8f-afd6cd12d1c8",
   "metadata": {},
   "outputs": [],
   "source": [
    "model.fit(X_train, y_train, epochs=15, batch_size=batch_size)"
   ]
  },
  {
   "cell_type": "code",
   "execution_count": null,
   "id": "5be73e25-32f0-45e3-8a57-02d3a3cbe537",
   "metadata": {},
   "outputs": [],
   "source": [
    "test_loss, test_acc = model.evaluate(X_test, y_test)\n",
    "print(f'The test loss is: {test_loss}')\n",
    "print(f'The test accuracy is: {test_acc}')"
   ]
  },
  {
   "cell_type": "code",
   "execution_count": null,
   "id": "2ae115e4-474b-45f0-8724-e40904c44bba",
   "metadata": {},
   "outputs": [],
   "source": []
  }
 ],
 "metadata": {
  "kernelspec": {
   "display_name": "Python 3 (ipykernel)",
   "language": "python",
   "name": "python3"
  },
  "language_info": {
   "codemirror_mode": {
    "name": "ipython",
    "version": 3
   },
   "file_extension": ".py",
   "mimetype": "text/x-python",
   "name": "python",
   "nbconvert_exporter": "python",
   "pygments_lexer": "ipython3",
   "version": "3.11.0rc1"
  }
 },
 "nbformat": 4,
 "nbformat_minor": 5
}
