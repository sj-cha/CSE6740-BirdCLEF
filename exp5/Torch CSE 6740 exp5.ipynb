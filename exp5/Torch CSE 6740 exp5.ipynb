{
 "cells": [
  {
   "cell_type": "code",
   "execution_count": 1,
   "id": "d882a31c-9b20-4522-848c-b04450b64ce6",
   "metadata": {},
   "outputs": [],
   "source": [
    "import numpy as np\n",
    "import pandas as pd\n",
    "import librosa as lb\n",
    "import librosa.display as lbd\n",
    "import soundfile as sf\n",
    "from soundfile import SoundFile\n",
    "import pandas as pd\n",
    "from IPython.display import Audio\n",
    "from pathlib import Path\n",
    "\n",
    "import matplotlib.pyplot as plt\n",
    "\n",
    "import joblib, json, re\n",
    "import noisereduce as nr"
   ]
  },
  {
   "cell_type": "code",
   "execution_count": 2,
   "id": "6e2eaaed-d770-48e0-9787-686316bde3e7",
   "metadata": {},
   "outputs": [],
   "source": [
    "import torch\n",
    "import os\n",
    "import pytorch_lightning as pl\n",
    "from torch.utils.data import Dataset, DataLoader\n",
    "from sklearn import model_selection\n",
    "import torchvision.transforms as transforms\n",
    "import torchvision.io \n",
    "import librosa\n",
    "from PIL import Image\n",
    "import torch.multiprocessing as mp\n",
    "import warnings\n",
    "\n",
    "warnings.filterwarnings('ignore')"
   ]
  },
  {
   "cell_type": "code",
   "execution_count": 3,
   "id": "3c49c88b-24df-47b7-8686-e74be02c677e",
   "metadata": {},
   "outputs": [],
   "source": [
    "PATH = r'C:\\Users\\chase\\Desktop\\Georgia Tech\\CSE 6740\\Project\\BIRDCLEF'"
   ]
  },
  {
   "cell_type": "markdown",
   "id": "596051ae-1365-4642-b700-2eab946734d1",
   "metadata": {},
   "source": [
    "## Import Data"
   ]
  },
  {
   "cell_type": "code",
   "execution_count": 8,
   "id": "f52c095f-f992-4dd8-8f2b-c2017d8f910a",
   "metadata": {},
   "outputs": [
    {
     "data": {
      "text/html": [
       "<div>\n",
       "<style scoped>\n",
       "    .dataframe tbody tr th:only-of-type {\n",
       "        vertical-align: middle;\n",
       "    }\n",
       "\n",
       "    .dataframe tbody tr th {\n",
       "        vertical-align: top;\n",
       "    }\n",
       "\n",
       "    .dataframe thead th {\n",
       "        text-align: right;\n",
       "    }\n",
       "</style>\n",
       "<table border=\"1\" class=\"dataframe\">\n",
       "  <thead>\n",
       "    <tr style=\"text-align: right;\">\n",
       "      <th></th>\n",
       "      <th>primary_label</th>\n",
       "      <th>type</th>\n",
       "      <th>latitude</th>\n",
       "      <th>longitude</th>\n",
       "      <th>rating</th>\n",
       "      <th>filename</th>\n",
       "    </tr>\n",
       "    <tr>\n",
       "      <th>filename</th>\n",
       "      <th></th>\n",
       "      <th></th>\n",
       "      <th></th>\n",
       "      <th></th>\n",
       "      <th></th>\n",
       "      <th></th>\n",
       "    </tr>\n",
       "  </thead>\n",
       "  <tbody>\n",
       "    <tr>\n",
       "      <th>asbfly/XC134896.ogg</th>\n",
       "      <td>asbfly</td>\n",
       "      <td>['call']</td>\n",
       "      <td>39.2297</td>\n",
       "      <td>118.1987</td>\n",
       "      <td>5.0</td>\n",
       "      <td>asbfly/XC134896.ogg</td>\n",
       "    </tr>\n",
       "    <tr>\n",
       "      <th>asbfly/XC207738.ogg</th>\n",
       "      <td>asbfly</td>\n",
       "      <td>['call']</td>\n",
       "      <td>21.1697</td>\n",
       "      <td>70.6005</td>\n",
       "      <td>4.0</td>\n",
       "      <td>asbfly/XC207738.ogg</td>\n",
       "    </tr>\n",
       "    <tr>\n",
       "      <th>asbfly/XC209218.ogg</th>\n",
       "      <td>asbfly</td>\n",
       "      <td>['call']</td>\n",
       "      <td>15.5442</td>\n",
       "      <td>73.7733</td>\n",
       "      <td>4.0</td>\n",
       "      <td>asbfly/XC209218.ogg</td>\n",
       "    </tr>\n",
       "    <tr>\n",
       "      <th>asbfly/XC209219.ogg</th>\n",
       "      <td>asbfly</td>\n",
       "      <td>['call']</td>\n",
       "      <td>15.5442</td>\n",
       "      <td>73.7733</td>\n",
       "      <td>4.0</td>\n",
       "      <td>asbfly/XC209219.ogg</td>\n",
       "    </tr>\n",
       "    <tr>\n",
       "      <th>asbfly/XC267680.ogg</th>\n",
       "      <td>asbfly</td>\n",
       "      <td>['call', 'male', 'song']</td>\n",
       "      <td>44.3602</td>\n",
       "      <td>132.7989</td>\n",
       "      <td>4.0</td>\n",
       "      <td>asbfly/XC267680.ogg</td>\n",
       "    </tr>\n",
       "  </tbody>\n",
       "</table>\n",
       "</div>"
      ],
      "text/plain": [
       "                    primary_label                      type  latitude  \\\n",
       "filename                                                                \n",
       "asbfly/XC134896.ogg        asbfly                  ['call']   39.2297   \n",
       "asbfly/XC207738.ogg        asbfly                  ['call']   21.1697   \n",
       "asbfly/XC209218.ogg        asbfly                  ['call']   15.5442   \n",
       "asbfly/XC209219.ogg        asbfly                  ['call']   15.5442   \n",
       "asbfly/XC267680.ogg        asbfly  ['call', 'male', 'song']   44.3602   \n",
       "\n",
       "                     longitude  rating             filename  \n",
       "filename                                                     \n",
       "asbfly/XC134896.ogg   118.1987     5.0  asbfly/XC134896.ogg  \n",
       "asbfly/XC207738.ogg    70.6005     4.0  asbfly/XC207738.ogg  \n",
       "asbfly/XC209218.ogg    73.7733     4.0  asbfly/XC209218.ogg  \n",
       "asbfly/XC209219.ogg    73.7733     4.0  asbfly/XC209219.ogg  \n",
       "asbfly/XC267680.ogg   132.7989     4.0  asbfly/XC267680.ogg  "
      ]
     },
     "execution_count": 8,
     "metadata": {},
     "output_type": "execute_result"
    }
   ],
   "source": [
    "df = pd.read_csv(fr'{PATH}\\filtered_data_with_labels 1.csv').drop(columns = 'y')\n",
    "df[\"filename\"] = df[\"filename\"] .str.split('/').apply(lambda x: '/'.join(x[-2:]))\n",
    "df.index = df[\"filename\"]\n",
    "df.head()"
   ]
  },
  {
   "cell_type": "code",
   "execution_count": 10,
   "id": "4aa5b9f8-f7ae-40ca-b78c-773023b864cf",
   "metadata": {},
   "outputs": [
    {
     "data": {
      "text/plain": [
       "6"
      ]
     },
     "execution_count": 10,
     "metadata": {},
     "output_type": "execute_result"
    }
   ],
   "source": [
    "len(df.columns)"
   ]
  },
  {
   "cell_type": "code",
   "execution_count": 12,
   "id": "5b7e2e5a-7873-4038-b706-b0dcdd45f05b",
   "metadata": {},
   "outputs": [
    {
     "data": {
      "text/plain": [
       "9310"
      ]
     },
     "execution_count": 12,
     "metadata": {},
     "output_type": "execute_result"
    }
   ],
   "source": [
    "len(df)"
   ]
  },
  {
   "cell_type": "code",
   "execution_count": 14,
   "id": "7a8af8d2-601b-443c-90d0-9550dac5a60f",
   "metadata": {},
   "outputs": [
    {
     "name": "stdout",
     "output_type": "stream",
     "text": [
      "89 89\n",
      "7448 1862\n"
     ]
    }
   ],
   "source": [
    "from sklearn.model_selection import train_test_split\n",
    "df_train, df_test = train_test_split(df, test_size=0.2, stratify=df['primary_label'], random_state=42)\n",
    "\n",
    "master = pd.read_csv(f\"{PATH}/master.csv\").iloc[:,1:]\n",
    "master.index = master[\"filename\"]\n",
    "df_train = master.loc[df_train.index].reset_index(drop = True)\n",
    "df_test = master.loc[df_test.index].reset_index(drop = True)\n",
    "\n",
    "print(len(df_train['primary_label'].unique()), len(df_train['primary_label'].unique()))\n",
    "print(len(df_train), len(df_test))"
   ]
  },
  {
   "cell_type": "code",
   "execution_count": 15,
   "id": "762dcc6b-81d8-4474-aa9a-ccf3d4d9f4bc",
   "metadata": {},
   "outputs": [
    {
     "name": "stdout",
     "output_type": "stream",
     "text": [
      "Class Frequencies: {'comkin1': 246, 'eurcoo': 230, 'graher1': 222, 'bkwsti': 222, 'commoo3': 216, 'bcnher': 215, 'rorpar': 209, 'litegr': 198, 'comgre': 198, 'grnsan': 198, 'comsan': 197, 'eaywag1': 196, 'barswa': 182, 'woosan': 180, 'lirplo': 179, 'houspa': 169, 'litgre1': 162, 'greegr': 155, 'grywag': 150, 'zitcis1': 120, 'wemhar1': 119, 'labcro1': 114, 'blakit1': 107, 'bkskit1': 104, 'purher1': 98, 'grtdro1': 96, 'whiter2': 89, 'grewar3': 87, 'hoopoe': 86, 'rerswa1': 84, 'commyn': 83, 'categr': 83, 'comtai1': 83, 'kenplo1': 78, 'eucdov': 76, 'houcro1': 75, 'comros': 69, 'crseag1': 67, 'asikoe2': 66, 'comior1': 63, 'rewlap1': 63, 'whtkin2': 62, 'ruftre2': 58, 'piekin1': 56, 'brnshr': 54, 'blhori1': 53, 'stbkin1': 53, 'blnmon1': 52, 'whbwat1': 50, 'gargan': 50, 'shikra1': 49, 'nutman': 49, 'rewbul': 48, 'litspi1': 47, 'putbab1': 44, 'rocpig': 43, 'gyhcaf1': 42, 'grnwar1': 42, 'grbeat1': 39, 'pursun4': 39, 'whbwoo2': 38, 'gloibi': 38, 'copbar1': 38, 'litswi1': 38, 'revbul': 38, 'brnhao1': 38, 'bladro1': 36, 'brodro1': 36, 'grecou1': 36, 'blrwar1': 35, 'grefla1': 34, 'gybpri1': 32, 'cohcuc1': 31, 'indpit1': 31, 'lblwar1': 30, 'plapri1': 30, 'marsan': 30, 'brwowl1': 27, 'pursun3': 27, 'ashdro1': 26, 'compea': 25, 'tibfly3': 25, 'ashpri1': 25, 'insbab1': 25, 'oripip1': 25, 'junowl1': 24, 'asbfly': 22, 'grejun2': 22, 'gryfra': 22}\n",
      "\n",
      "Class Weights: {'asbfly': 3.80388151174668, 'ashdro1': 3.2186689714779604, 'ashpri1': 3.3474157303370786, 'asikoe2': 1.2679605039155601, 'barswa': 0.45980985306828004, 'bcnher': 0.3892343872484975, 'bkskit1': 0.8046672428694901, 'bkwsti': 0.37696123089381517, 'bladro1': 2.3245942571785267, 'blakit1': 0.7821064790507193, 'blhori1': 1.5789696841212635, 'blnmon1': 1.6093344857389802, 'blrwar1': 2.391011235955056, 'brnhao1': 2.202247191011236, 'brnshr': 1.5497295047856845, 'brodro1': 2.3245942571785267, 'brwowl1': 3.099459009571369, 'categr': 1.0082577501015297, 'cohcuc1': 2.699528814787967, 'comgre': 0.4226535013051867, 'comior1': 1.3283395755305867, 'comkin1': 0.34018452544076, 'commoo3': 0.3874323761964211, 'commyn': 1.0082577501015297, 'compea': 3.3474157303370786, 'comros': 1.212831786354014, 'comsan': 0.4247989505503907, 'comtai1': 1.0082577501015297, 'copbar1': 2.202247191011236, 'crseag1': 1.2490357202750293, 'eaywag1': 0.42696629213483145, 'eucdov': 1.101123595505618, 'eurcoo': 0.3638495359062042, 'gargan': 1.6737078651685393, 'gloibi': 2.202247191011236, 'graher1': 0.37696123089381517, 'grbeat1': 2.14577931431864, 'grecou1': 2.3245942571785267, 'greegr': 0.5399057629575933, 'grefla1': 2.461335095836087, 'grejun2': 3.80388151174668, 'grewar3': 0.9619010719359421, 'grnsan': 0.4226535013051867, 'grnwar1': 1.9925093632958801, 'grtdro1': 0.8717228464419475, 'gryfra': 3.80388151174668, 'grywag': 0.5579026217228464, 'gybpri1': 2.615168539325843, 'gyhcaf1': 1.9925093632958801, 'hoopoe': 0.9730859681212438, 'houcro1': 1.1158052434456929, 'houspa': 0.49517984176584, 'indpit1': 2.699528814787967, 'insbab1': 3.3474157303370786, 'junowl1': 3.48689138576779, 'kenplo1': 1.07288965715932, 'labcro1': 0.7340823970037453, 'lblwar1': 2.789513108614232, 'lirplo': 0.46751616345489927, 'litegr': 0.4226535013051867, 'litgre1': 0.5165765015952282, 'litspi1': 1.7805402820941907, 'litswi1': 2.202247191011236, 'marsan': 2.789513108614232, 'nutman': 1.7078651685393258, 'oripip1': 3.3474157303370786, 'piekin1': 1.4943820224719102, 'plapri1': 2.789513108614232, 'purher1': 0.8539325842696629, 'pursun3': 3.099459009571369, 'pursun4': 2.14577931431864, 'putbab1': 1.90194075587334, 'rerswa1': 0.9962546816479401, 'revbul': 2.202247191011236, 'rewbul': 1.743445692883895, 'rewlap1': 1.3283395755305867, 'rocpig': 1.9461719362424876, 'rorpar': 0.4004085801838611, 'ruftre2': 1.4428516079039133, 'shikra1': 1.7078651685393258, 'stbkin1': 1.5789696841212635, 'tibfly3': 3.3474157303370786, 'wemhar1': 0.7032385988103106, 'whbwat1': 1.6737078651685393, 'whbwoo2': 2.202247191011236, 'whiter2': 0.9402853175104153, 'whtkin2': 1.3497644073939834, 'woosan': 0.4649188514357054, 'zitcis1': 0.697378277153558}\n"
     ]
    }
   ],
   "source": [
    "from sklearn.utils.class_weight import compute_class_weight\n",
    "\n",
    "classes = np.unique(df[\"primary_label\"])\n",
    "class_weights = compute_class_weight(class_weight='balanced', classes=classes, y=df_train[\"primary_label\"])\n",
    "class_weight_dict = dict(zip(classes, class_weights))\n",
    " \n",
    "print(\"Class Frequencies:\", pd.Series(df_train[\"primary_label\"]).value_counts().to_dict())\n",
    "print(\"\\nClass Weights:\", class_weight_dict)"
   ]
  },
  {
   "cell_type": "code",
   "execution_count": 18,
   "id": "03bbc22a-1f69-440a-8717-842a006c9b9e",
   "metadata": {},
   "outputs": [],
   "source": [
    "class_weights = torch.tensor(class_weights, dtype=torch.float32)"
   ]
  },
  {
   "cell_type": "code",
   "execution_count": 20,
   "id": "8852797c-af64-4ad8-9f74-f486a77e9d02",
   "metadata": {},
   "outputs": [
    {
     "name": "stdout",
     "output_type": "stream",
     "text": [
      "primary_label\n",
      "comkin1    246\n",
      "eurcoo     230\n",
      "graher1    222\n",
      "bkwsti     222\n",
      "commoo3    216\n",
      "          ... \n",
      "oripip1     25\n",
      "junowl1     24\n",
      "asbfly      22\n",
      "grejun2     22\n",
      "gryfra      22\n",
      "Name: count, Length: 89, dtype: int64\n",
      "primary_label\n",
      "comkin1    62\n",
      "eurcoo     58\n",
      "bkwsti     55\n",
      "graher1    55\n",
      "commoo3    54\n",
      "           ..\n",
      "insbab1     6\n",
      "junowl1     6\n",
      "oripip1     6\n",
      "tibfly3     6\n",
      "grejun2     5\n",
      "Name: count, Length: 89, dtype: int64\n"
     ]
    }
   ],
   "source": [
    "print(df_train.primary_label.value_counts())\n",
    "print(df_test.primary_label.value_counts())"
   ]
  },
  {
   "cell_type": "code",
   "execution_count": 22,
   "id": "83d706b8-8eb0-4a94-9559-e0172a2e5601",
   "metadata": {},
   "outputs": [],
   "source": [
    "df_train.to_csv(f\"{PATH}/df_train.csv\", index = False)\n",
    "df_test.to_csv(f\"{PATH}/df_test.csv\", index = False)"
   ]
  },
  {
   "cell_type": "markdown",
   "id": "4a282fbb-7ba4-4c21-bca2-3377b16809da",
   "metadata": {},
   "source": [
    "## Training"
   ]
  },
  {
   "cell_type": "code",
   "execution_count": 25,
   "id": "ac115cbb-f814-49b2-9c72-1b0cd1bd4b9e",
   "metadata": {},
   "outputs": [],
   "source": [
    "from pytorch_lightning.callbacks import ModelCheckpoint, BackboneFinetuning, EarlyStopping"
   ]
  },
  {
   "cell_type": "code",
   "execution_count": 27,
   "id": "623957e6-ffc0-495b-940e-d70cbf16ce26",
   "metadata": {},
   "outputs": [],
   "source": [
    "# class Config:\n",
    "#     use_aug = False\n",
    "#     num_classes = len(df_train.primary_label.unique())\n",
    "#     batch_size = 64\n",
    "#     epochs = 10\n",
    "#     PRECISION = 16    \n",
    "#     PATIENCE = 8    \n",
    "#     seed = 42\n",
    "#     model = \"tf_efficientnet_b0_ns\"\n",
    "#     pretrained = True            \n",
    "#     weight_decay = 1e-3\n",
    "#     use_mixup = True\n",
    "#     mixup_alpha = 0.2   \n",
    "#     DEVICE = torch.device('cuda' if torch.cuda.is_available() else 'cpu')    \n",
    "\n",
    "#     train_images = PATH+\"/spectrogram/\"\n",
    "#     test_images = PATH + \"/spectrogram/\"\n",
    "#     train_path = PATH+\"/df_train.csv\"\n",
    "#     test_path = PATH+\"/df_test.csv\"\n",
    "    \n",
    "    \n",
    "#     SR = 32000\n",
    "#     DURATION = 10\n",
    "#     MAX_READ_SAMPLES = 5\n",
    "#     LR = 5e-4"
   ]
  },
  {
   "cell_type": "code",
   "execution_count": 29,
   "id": "84e121e3-bf12-4e07-beae-a527c89db6d5",
   "metadata": {},
   "outputs": [],
   "source": [
    "from config import Config\n",
    "from dataset import BirdDataset"
   ]
  },
  {
   "cell_type": "code",
   "execution_count": 30,
   "id": "63a6cf70-df03-4e95-8a9e-81fb586b14e1",
   "metadata": {},
   "outputs": [
    {
     "name": "stderr",
     "output_type": "stream",
     "text": [
      "Seed set to 42\n"
     ]
    },
    {
     "data": {
      "text/plain": [
       "42"
      ]
     },
     "execution_count": 30,
     "metadata": {},
     "output_type": "execute_result"
    }
   ],
   "source": [
    "pl.seed_everything(Config.seed, workers=True)"
   ]
  },
  {
   "cell_type": "code",
   "execution_count": 31,
   "id": "821a1cfa-3721-44e9-9f59-d7c299c30577",
   "metadata": {},
   "outputs": [],
   "source": [
    "def config_to_dict(cfg):\n",
    "    return dict((name, getattr(cfg, name)) for name in dir(cfg) if not name.startswith('__'))"
   ]
  },
  {
   "cell_type": "code",
   "execution_count": 32,
   "id": "f9a08975-a86e-4055-aa7b-ba247aeb96ce",
   "metadata": {},
   "outputs": [],
   "source": [
    "df_train = pd.read_csv(Config.train_path)\n",
    "df_test = pd.read_csv(Config.test_path)\n",
    "df_train = pd.concat([df_train, pd.get_dummies(df_train['primary_label'])], axis=1)\n",
    "df_test = pd.concat([df_test, pd.get_dummies(df_test['primary_label'])], axis=1)"
   ]
  },
  {
   "cell_type": "code",
   "execution_count": 33,
   "id": "f8dacdec-b030-4fc7-95ec-2b5aa0d13f65",
   "metadata": {},
   "outputs": [],
   "source": [
    "birds = list(df_train.primary_label.unique())"
   ]
  },
  {
   "cell_type": "code",
   "execution_count": 34,
   "id": "e34ab232-4fac-4ce9-8af2-2c044cf08a9d",
   "metadata": {},
   "outputs": [],
   "source": [
    "# class BirdDataset(torch.utils.data.Dataset):\n",
    "\n",
    "#     def __init__(self, df, sr = Config.SR, duration = Config.DURATION, augmentations = None, train = True):\n",
    "\n",
    "#         self.df = df\n",
    "#         self.sr = sr \n",
    "#         self.train = train\n",
    "#         self.duration = duration\n",
    "#         self.augmentations = augmentations\n",
    "#         if train:\n",
    "#             self.img_dir = Config.train_images\n",
    "#         else:\n",
    "#             self.img_dir = Config.test_images\n",
    "\n",
    "#     def __len__(self):\n",
    "#         return len(self.df)\n",
    "\n",
    "#     @staticmethod\n",
    "#     def normalize(image):\n",
    "#         image = image / 255.0\n",
    "#         #image = torch.stack([image, image, image])\n",
    "#         return image\n",
    "\n",
    "#     def __getitem__(self, idx):\n",
    "#         row = self.df.iloc[idx]\n",
    "#         impath = self.img_dir + f\"{row.filename}.npy\"\n",
    "\n",
    "#         image = np.load(str(impath))[:Config.MAX_READ_SAMPLES]\n",
    "        \n",
    "#         ########## RANDOM SAMPLING ################\n",
    "#         if self.train:\n",
    "#             image = image[np.random.choice(len(image))]\n",
    "#         else:\n",
    "#             image = image[0]\n",
    "            \n",
    "#         #####################################################################\n",
    "        \n",
    "#         image = torch.tensor(image).float()\n",
    "\n",
    "#         if self.augmentations:\n",
    "#             image = self.augmentations(image.unsqueeze(0)).squeeze()\n",
    "            \n",
    "#         image.size()\n",
    "        \n",
    "#         image = torch.stack([image, image, image])\n",
    "\n",
    "#         image = self.normalize(image)\n",
    "\n",
    "\n",
    "#         return image, torch.tensor(row[16:]).float()"
   ]
  },
  {
   "cell_type": "code",
   "execution_count": 35,
   "id": "85e9165b-f619-4e57-b72e-17e8b98f0629",
   "metadata": {},
   "outputs": [],
   "source": [
    "def get_fold_dls(df_train, df_test):\n",
    "\n",
    "    ds_train = BirdDataset(\n",
    "        df_train, \n",
    "        sr = Config.SR,\n",
    "        duration = Config.DURATION,\n",
    "        train = True\n",
    "    )\n",
    "    ds_test = BirdDataset(\n",
    "        df_test, \n",
    "        sr = Config.SR,\n",
    "        duration = Config.DURATION,\n",
    "        train = False\n",
    "    )\n",
    "    dl_train = DataLoader(ds_train, batch_size=Config.batch_size , shuffle=True, num_workers = 2)    \n",
    "    dl_test = DataLoader(ds_test, batch_size=Config.batch_size, num_workers = 2)\n",
    "    return dl_train, dl_test, ds_train, ds_test"
   ]
  },
  {
   "cell_type": "code",
   "execution_count": 36,
   "id": "6cb45501-29ce-41f0-a38d-70f5f88d93d2",
   "metadata": {},
   "outputs": [],
   "source": [
    "def show_batch(img_ds, num_items, num_rows, num_cols, predict_arr=None):\n",
    "    fig = plt.figure(figsize=(12, 6))    \n",
    "    img_index = np.random.randint(0, len(img_ds)-1, num_items)\n",
    "    for index, img_index in enumerate(img_index):  # list first 9 images\n",
    "        img, lb = img_ds[img_index]        \n",
    "        ax = fig.add_subplot(num_rows, num_cols, index + 1, xticks=[], yticks=[])\n",
    "        if isinstance(img, torch.Tensor):\n",
    "            img = img.detach().numpy()\n",
    "        if isinstance(img, np.ndarray):\n",
    "            img = img.transpose(1, 2, 0)\n",
    "            ax.imshow(img)        \n",
    "            \n",
    "        title = f\"Spec\"\n",
    "        ax.set_title(title)  "
   ]
  },
  {
   "cell_type": "code",
   "execution_count": 37,
   "id": "f18f8548-099a-44b4-adf6-244d90313d2c",
   "metadata": {},
   "outputs": [
    {
     "data": {
      "image/png": "[encoded data removed]",
      "text/plain": [
       "<Figure size 1200x600 with 8 Axes>"
      ]
     },
     "metadata": {},
     "output_type": "display_data"
    }
   ],
   "source": [
    "dl_train, dl_test, ds_train, ds_test = get_fold_dls(df_train, df_test)\n",
    "show_batch(ds_test, 8, 2, 4)"
   ]
  },
  {
   "cell_type": "code",
   "execution_count": 40,
   "id": "f1aed6b5-739e-437c-abb8-0546c34e475d",
   "metadata": {},
   "outputs": [],
   "source": [
    "from torch.optim.lr_scheduler import CosineAnnealingLR, CosineAnnealingWarmRestarts, ReduceLROnPlateau, OneCycleLR\n",
    "\n",
    "def get_optimizer(lr, params):\n",
    "    model_optimizer = torch.optim.Adam(\n",
    "            filter(lambda p: p.requires_grad, params), \n",
    "            lr=lr,\n",
    "            weight_decay=Config.weight_decay\n",
    "        )\n",
    "    interval = \"epoch\"\n",
    "    \n",
    "    lr_scheduler = CosineAnnealingWarmRestarts(\n",
    "                            model_optimizer, \n",
    "                            T_0=Config.epochs, \n",
    "                            T_mult=1, \n",
    "                            eta_min=1e-6, \n",
    "                            last_epoch=-1\n",
    "                        )\n",
    "\n",
    "    return {\n",
    "        \"optimizer\": model_optimizer, \n",
    "        \"lr_scheduler\": {\n",
    "            \"scheduler\": lr_scheduler,\n",
    "            \"interval\": interval,\n",
    "            \"monitor\": \"val_loss\",\n",
    "            \"frequency\": 1\n",
    "        }\n",
    "    }"
   ]
  },
  {
   "cell_type": "code",
   "execution_count": 47,
   "id": "6d332a63-6bd3-4915-b260-07fbd33b2216",
   "metadata": {},
   "outputs": [],
   "source": [
    "from torchtoolbox.tools import mixup_data, mixup_criterion\n",
    "import torch.nn as nn\n",
    "from torch.nn.functional import cross_entropy\n",
    "import torchmetrics\n",
    "import timm"
   ]
  },
  {
   "cell_type": "code",
   "execution_count": 48,
   "id": "0b92ab86-d17f-49f7-8116-5ae2d503b408",
   "metadata": {},
   "outputs": [],
   "source": [
    "import sklearn.metrics\n",
    "\n",
    "def padded_cmap(solution, submission, padding_factor=5):\n",
    "    solution = solution#.drop(['row_id'], axis=1, errors='ignore')\n",
    "    submission = submission#.drop(['row_id'], axis=1, errors='ignore')\n",
    "    new_rows = []\n",
    "    for i in range(padding_factor):\n",
    "        new_rows.append([1 for i in range(len(solution.columns))])\n",
    "    new_rows = pd.DataFrame(new_rows)\n",
    "    new_rows.columns = solution.columns\n",
    "    padded_solution = pd.concat([solution, new_rows]).reset_index(drop=True).copy()\n",
    "    padded_submission = pd.concat([submission, new_rows]).reset_index(drop=True).copy()\n",
    "    score = sklearn.metrics.average_precision_score(\n",
    "        padded_solution.values,\n",
    "        padded_submission.values,\n",
    "        average='macro',\n",
    "    )\n",
    "    return score"
   ]
  },
  {
   "cell_type": "code",
   "execution_count": 49,
   "id": "a7ae31e1-5f10-4d7e-8881-9c266f9ec4ba",
   "metadata": {},
   "outputs": [],
   "source": [
    "class BirdClefModel(pl.LightningModule):\n",
    "    def __init__(self, model_name=Config.model, num_classes = Config.num_classes, pretrained = Config.pretrained):\n",
    "        super().__init__()\n",
    "        self.num_classes = num_classes\n",
    "\n",
    "        self.backbone = timm.create_model(model_name, pretrained=pretrained)\n",
    "\n",
    "        if 'res' in model_name:\n",
    "            self.in_features = self.backbone.fc.in_features\n",
    "            self.backbone.fc = nn.Linear(self.in_features, num_classes)\n",
    "        elif 'dense' in model_name:\n",
    "            self.in_features = self.backbone.classifier.in_features\n",
    "            self.backbone.classifier = nn.Linear(self.in_features, num_classes)\n",
    "        elif 'efficientnet' in model_name:\n",
    "            self.in_features = self.backbone.classifier.in_features\n",
    "            self.backbone.classifier = nn.Sequential(\n",
    "                nn.Linear(self.in_features, num_classes)\n",
    "            )\n",
    "    \n",
    "        self.loss_function = nn.CrossEntropyLoss(weight=class_weights) \n",
    "\n",
    "    def forward(self,images):\n",
    "        logits = self.backbone(images)\n",
    "        return logits\n",
    "        \n",
    "    def configure_optimizers(self):\n",
    "        return get_optimizer(lr=Config.LR, params=self.parameters())\n",
    "\n",
    "    def train_with_mixup(self, X, y):\n",
    "        X, y_a, y_b, lam = mixup_data(X, y, alpha=Config.mixup_alpha)\n",
    "        y_pred = self(X)\n",
    "        loss_mixup = mixup_criterion(cross_entropy, y_pred, y_a, y_b, lam)\n",
    "        return loss_mixup\n",
    "\n",
    "    def training_step(self, batch, batch_idx):\n",
    "        image, target = batch        \n",
    "        if Config.use_mixup:\n",
    "            loss = self.train_with_mixup(image, target)\n",
    "        else:\n",
    "            y_pred = self(image)\n",
    "            loss = self.loss_function(y_pred,target)\n",
    "\n",
    "        self.log(\"train_loss\", loss, on_step=True, on_epoch=True, prog_bar=True)\n",
    "        return loss        \n",
    "\n",
    "    def validation_step(self, batch, batch_idx):\n",
    "        image, target = batch     \n",
    "        y_pred = self(image)\n",
    "        val_loss = self.loss_function(y_pred, target)\n",
    "        self.log(\"val_loss\", val_loss, on_step=True, on_epoch=True, logger=True, prog_bar=True)\n",
    "        \n",
    "        return {\"val_loss\": val_loss, \"logits\": y_pred, \"targets\": target}\n",
    "    \n",
    "    def train_dataloader(self):\n",
    "        return self._train_dataloader \n",
    "    \n",
    "    def validation_dataloader(self):\n",
    "        return self._validation_dataloader\n",
    "    \n",
    "    def on_validation_batch_end(self, outputs, batch, batch_idx, dataloader_idx=0):\n",
    "        if batch_idx == 0:\n",
    "            self._logits = []\n",
    "            self._targets = []\n",
    "            self._val_loss = []\n",
    "\n",
    "        self._logits.append(outputs[\"logits\"])\n",
    "        self._targets.append(outputs[\"targets\"])\n",
    "        self._val_loss.append(outputs[\"val_loss\"])\n",
    "\n",
    "    def on_validation_epoch_end(self):\n",
    "        output_val = torch.cat(self._logits, dim=0).cpu().detach().numpy()\n",
    "        target_val = torch.cat(self._targets, dim=0).cpu().detach().numpy()\n",
    "        avg_loss = torch.stack(self._val_loss).mean()\n",
    "\n",
    "        # print(output_val.shape)\n",
    "        val_df = pd.DataFrame(target_val, columns = birds)\n",
    "        pred_df = pd.DataFrame(output_val, columns = birds)\n",
    "        \n",
    "        # avg_score = padded_cmap(val_df, pred_df, padding_factor = 5)\n",
    "        # avg_score2 = padded_cmap(val_df, pred_df, padding_factor = 3)\n",
    "\n",
    "        if len(target_val.shape) > 1:\n",
    "            target_val = np.argmax(target_val, axis=1)\n",
    "\n",
    "        output_val = np.argmax(output_val, axis=1)\n",
    "        avg_score3 = sklearn.metrics.accuracy_score(target_val,output_val)\n",
    "        avg_score4 = sklearn.metrics.f1_score(target_val, output_val, average = 'weighted')\n",
    "        \n",
    "        print(f'epoch {self.current_epoch} validation loss {avg_loss}')\n",
    "        # print(f'epoch {self.current_epoch} validation C-MAP score pad 5 {avg_score}')\n",
    "        # print(f'epoch {self.current_epoch} validation C-MAP score pad 3 {avg_score2}')\n",
    "        print(f'epoch {self.current_epoch} validation accuracy score {avg_score3}')\n",
    "        print(f'epoch {self.current_epoch} validation F1 score {avg_score4}')\n",
    "        \n",
    "        return {'val_loss': avg_loss,'val_accuracy':avg_score3}"
   ]
  },
  {
   "cell_type": "code",
   "execution_count": 52,
   "id": "42ea95d8-421c-4757-b3f8-0c9ff520fd26",
   "metadata": {},
   "outputs": [],
   "source": [
    "from pytorch_lightning.loggers import WandbLogger\n",
    "import gc\n",
    "\n",
    "def run_training():\n",
    "    print(f\"Running training...\")\n",
    "    logger = None\n",
    "    \n",
    "    dl_train, dl_test, ds_train, ds_test = get_fold_dls(df_train, df_test)\n",
    "    \n",
    "    audio_model = BirdClefModel()\n",
    "\n",
    "    early_stop_callback = EarlyStopping(monitor=\"val_loss\", min_delta=0.00, patience=Config.PATIENCE, verbose= True, mode=\"min\")\n",
    "    checkpoint_callback = ModelCheckpoint(monitor='val_loss',\n",
    "                                      dirpath= \"exp1/\",\n",
    "                                      save_top_k=1,\n",
    "                                      save_last= True,\n",
    "                                      save_weights_only=True,\n",
    "                                      filename= f'./{Config.model}_loss',\n",
    "                                      verbose= True,\n",
    "                                      mode='min')\n",
    "    \n",
    "    callbacks_to_use = [checkpoint_callback,early_stop_callback]\n",
    "\n",
    "\n",
    "    trainer = pl.Trainer(\n",
    "        val_check_interval=0.5,\n",
    "        deterministic=True,\n",
    "        max_epochs=Config.epochs,\n",
    "        logger=logger,\n",
    "        callbacks=callbacks_to_use,\n",
    "        precision=Config.PRECISION, accelerator=\"gpu\"\n",
    "    )\n",
    "\n",
    "    print(\"Running trainer.fit\")\n",
    "    trainer.fit(audio_model, train_dataloaders = dl_train, val_dataloaders = dl_test)                \n",
    "\n",
    "    gc.collect()"
   ]
  },
  {
   "cell_type": "code",
   "execution_count": 57,
   "id": "19057772-c27b-4f8d-acd3-c6d112f68abc",
   "metadata": {
    "scrolled": true
   },
   "outputs": [
    {
     "name": "stderr",
     "output_type": "stream",
     "text": [
      "Using 16bit Automatic Mixed Precision (AMP)\n"
     ]
    },
    {
     "name": "stdout",
     "output_type": "stream",
     "text": [
      "Running training...\n"
     ]
    },
    {
     "name": "stderr",
     "output_type": "stream",
     "text": [
      "GPU available: True (cuda), used: True\n",
      "TPU available: False, using: 0 TPU cores\n",
      "HPU available: False, using: 0 HPUs\n",
      "You are using a CUDA device ('NVIDIA GeForce RTX 4060 Laptop GPU') that has Tensor Cores. To properly utilize them, you should set `torch.set_float32_matmul_precision('medium' | 'high')` which will trade-off precision for performance. For more details, read https://pytorch.org/docs/stable/generated/torch.set_float32_matmul_precision.html#torch.set_float32_matmul_precision\n",
      "LOCAL_RANK: 0 - CUDA_VISIBLE_DEVICES: [0]\n"
     ]
    },
    {
     "name": "stdout",
     "output_type": "stream",
     "text": [
      "Running trainer.fit\n"
     ]
    },
    {
     "name": "stderr",
     "output_type": "stream",
     "text": [
      "\n",
      "  | Name          | Type             | Params | Mode \n",
      "-----------------------------------------------------------\n",
      "0 | backbone      | EfficientNet     | 4.1 M  | train\n",
      "1 | loss_function | CrossEntropyLoss | 0      | train\n",
      "-----------------------------------------------------------\n",
      "4.1 M     Trainable params\n",
      "0         Non-trainable params\n",
      "4.1 M     Total params\n",
      "16.486    Total estimated model params size (MB)\n",
      "339       Modules in train mode\n",
      "0         Modules in eval mode\n"
     ]
    },
    {
     "data": {
      "application/vnd.jupyter.widget-view+json": {
       "model_id": "060c39d52224481d93c211fcfb308243",
       "version_major": 2,
       "version_minor": 0
      },
      "text/plain": [
       "Sanity Checking: |                                                                               | 0/? [00:00<…"
      ]
     },
     "metadata": {},
     "output_type": "display_data"
    },
    {
     "name": "stdout",
     "output_type": "stream",
     "text": [
      "epoch 0 validation loss 4.6808624267578125\n",
      "epoch 0 validation accuracy score 0.015625\n",
      "epoch 0 validation F1 score 0.002178485576923077\n"
     ]
    },
    {
     "data": {
      "application/vnd.jupyter.widget-view+json": {
       "model_id": "f51a1b43b14f49f6999de42a82744db9",
       "version_major": 2,
       "version_minor": 0
      },
      "text/plain": [
       "Training: |                                                                                      | 0/? [00:00<…"
      ]
     },
     "metadata": {},
     "output_type": "display_data"
    },
    {
     "data": {
      "application/vnd.jupyter.widget-view+json": {
       "model_id": "9c50597c82764241a6fd482dddcaf358",
       "version_major": 2,
       "version_minor": 0
      },
      "text/plain": [
       "Validation: |                                                                                    | 0/? [00:00<…"
      ]
     },
     "metadata": {},
     "output_type": "display_data"
    },
    {
     "name": "stderr",
     "output_type": "stream",
     "text": [
      "Metric val_loss improved. New best score: 3.860\n",
      "Epoch 0, global step 58: 'val_loss' reached 3.86014 (best 3.86014), saving model to 'C:\\\\Users\\\\chase\\\\Desktop\\\\Georgia Tech\\\\CSE 6740\\\\Project\\\\exp1\\\\./tf_efficientnet_b0_ns_loss.ckpt' as top 1\n"
     ]
    },
    {
     "name": "stdout",
     "output_type": "stream",
     "text": [
      "epoch 0 validation loss 3.8638527393341064\n",
      "epoch 0 validation accuracy score 0.2706766917293233\n",
      "epoch 0 validation F1 score 0.21929333172457574\n"
     ]
    },
    {
     "data": {
      "application/vnd.jupyter.widget-view+json": {
       "model_id": "c4b713f9c7124f48add7d2e5b3ded8fe",
       "version_major": 2,
       "version_minor": 0
      },
      "text/plain": [
       "Validation: |                                                                                    | 0/? [00:00<…"
      ]
     },
     "metadata": {},
     "output_type": "display_data"
    },
    {
     "name": "stderr",
     "output_type": "stream",
     "text": [
      "Metric val_loss improved by 1.115 >= min_delta = 0.0. New best score: 2.745\n",
      "Epoch 0, global step 116: 'val_loss' reached 2.74540 (best 2.74540), saving model to 'C:\\\\Users\\\\chase\\\\Desktop\\\\Georgia Tech\\\\CSE 6740\\\\Project\\\\exp1\\\\./tf_efficientnet_b0_ns_loss.ckpt' as top 1\n"
     ]
    },
    {
     "name": "stdout",
     "output_type": "stream",
     "text": [
      "epoch 0 validation loss 2.752807140350342\n",
      "epoch 0 validation accuracy score 0.50859291084855\n",
      "epoch 0 validation F1 score 0.4719919114215763\n"
     ]
    },
    {
     "data": {
      "application/vnd.jupyter.widget-view+json": {
       "model_id": "d3dc3c1bc61d4307aa51adc419495644",
       "version_major": 2,
       "version_minor": 0
      },
      "text/plain": [
       "Validation: |                                                                                    | 0/? [00:00<…"
      ]
     },
     "metadata": {},
     "output_type": "display_data"
    },
    {
     "name": "stderr",
     "output_type": "stream",
     "text": [
      "Metric val_loss improved by 0.435 >= min_delta = 0.0. New best score: 2.310\n",
      "Epoch 1, global step 175: 'val_loss' reached 2.31033 (best 2.31033), saving model to 'C:\\\\Users\\\\chase\\\\Desktop\\\\Georgia Tech\\\\CSE 6740\\\\Project\\\\exp1\\\\./tf_efficientnet_b0_ns_loss.ckpt' as top 1\n"
     ]
    },
    {
     "name": "stdout",
     "output_type": "stream",
     "text": [
      "epoch 1 validation loss 2.362027168273926\n",
      "epoch 1 validation accuracy score 0.592373791621912\n",
      "epoch 1 validation F1 score 0.5645293855052754\n"
     ]
    },
    {
     "data": {
      "application/vnd.jupyter.widget-view+json": {
       "model_id": "3794ec1dfe634d3f90e1dbf4daa042a0",
       "version_major": 2,
       "version_minor": 0
      },
      "text/plain": [
       "Validation: |                                                                                    | 0/? [00:00<…"
      ]
     },
     "metadata": {},
     "output_type": "display_data"
    },
    {
     "name": "stderr",
     "output_type": "stream",
     "text": [
      "Metric val_loss improved by 0.272 >= min_delta = 0.0. New best score: 2.038\n",
      "Epoch 1, global step 233: 'val_loss' reached 2.03800 (best 2.03800), saving model to 'C:\\\\Users\\\\chase\\\\Desktop\\\\Georgia Tech\\\\CSE 6740\\\\Project\\\\exp1\\\\./tf_efficientnet_b0_ns_loss.ckpt' as top 1\n"
     ]
    },
    {
     "name": "stdout",
     "output_type": "stream",
     "text": [
      "epoch 1 validation loss 2.0652756690979004\n",
      "epoch 1 validation accuracy score 0.6396348012889366\n",
      "epoch 1 validation F1 score 0.614948693501262\n"
     ]
    },
    {
     "data": {
      "application/vnd.jupyter.widget-view+json": {
       "model_id": "e8dc22d2647f417d8ffd4fef06ddf9c2",
       "version_major": 2,
       "version_minor": 0
      },
      "text/plain": [
       "Validation: |                                                                                    | 0/? [00:00<…"
      ]
     },
     "metadata": {},
     "output_type": "display_data"
    },
    {
     "name": "stderr",
     "output_type": "stream",
     "text": [
      "Metric val_loss improved by 0.223 >= min_delta = 0.0. New best score: 1.815\n",
      "Epoch 2, global step 292: 'val_loss' reached 1.81546 (best 1.81546), saving model to 'C:\\\\Users\\\\chase\\\\Desktop\\\\Georgia Tech\\\\CSE 6740\\\\Project\\\\exp1\\\\./tf_efficientnet_b0_ns_loss.ckpt' as top 1\n"
     ]
    },
    {
     "name": "stdout",
     "output_type": "stream",
     "text": [
      "epoch 2 validation loss 1.8366366624832153\n",
      "epoch 2 validation accuracy score 0.6740064446831364\n",
      "epoch 2 validation F1 score 0.6646288780653282\n"
     ]
    },
    {
     "data": {
      "application/vnd.jupyter.widget-view+json": {
       "model_id": "18a44474fe9e4d0e879bc4c57d599a1a",
       "version_major": 2,
       "version_minor": 0
      },
      "text/plain": [
       "Validation: |                                                                                    | 0/? [00:00<…"
      ]
     },
     "metadata": {},
     "output_type": "display_data"
    },
    {
     "name": "stderr",
     "output_type": "stream",
     "text": [
      "Metric val_loss improved by 0.169 >= min_delta = 0.0. New best score: 1.646\n",
      "Epoch 2, global step 350: 'val_loss' reached 1.64604 (best 1.64604), saving model to 'C:\\\\Users\\\\chase\\\\Desktop\\\\Georgia Tech\\\\CSE 6740\\\\Project\\\\exp1\\\\./tf_efficientnet_b0_ns_loss.ckpt' as top 1\n"
     ]
    },
    {
     "name": "stdout",
     "output_type": "stream",
     "text": [
      "epoch 2 validation loss 1.6652833223342896\n",
      "epoch 2 validation accuracy score 0.686358754027927\n",
      "epoch 2 validation F1 score 0.6871723903786976\n"
     ]
    },
    {
     "data": {
      "application/vnd.jupyter.widget-view+json": {
       "model_id": "a2a771f75feb473a937d5085853720b6",
       "version_major": 2,
       "version_minor": 0
      },
      "text/plain": [
       "Validation: |                                                                                    | 0/? [00:00<…"
      ]
     },
     "metadata": {},
     "output_type": "display_data"
    },
    {
     "name": "stderr",
     "output_type": "stream",
     "text": [
      "Metric val_loss improved by 0.090 >= min_delta = 0.0. New best score: 1.556\n",
      "Epoch 3, global step 409: 'val_loss' reached 1.55606 (best 1.55606), saving model to 'C:\\\\Users\\\\chase\\\\Desktop\\\\Georgia Tech\\\\CSE 6740\\\\Project\\\\exp1\\\\./tf_efficientnet_b0_ns_loss.ckpt' as top 1\n"
     ]
    },
    {
     "name": "stdout",
     "output_type": "stream",
     "text": [
      "epoch 3 validation loss 1.5937528610229492\n",
      "epoch 3 validation accuracy score 0.7212674543501612\n",
      "epoch 3 validation F1 score 0.7161404918994352\n"
     ]
    },
    {
     "data": {
      "application/vnd.jupyter.widget-view+json": {
       "model_id": "e675621f039e4672a3ce67a3c0c2358c",
       "version_major": 2,
       "version_minor": 0
      },
      "text/plain": [
       "Validation: |                                                                                    | 0/? [00:00<…"
      ]
     },
     "metadata": {},
     "output_type": "display_data"
    },
    {
     "name": "stderr",
     "output_type": "stream",
     "text": [
      "Metric val_loss improved by 0.065 >= min_delta = 0.0. New best score: 1.491\n",
      "Epoch 3, global step 467: 'val_loss' reached 1.49064 (best 1.49064), saving model to 'C:\\\\Users\\\\chase\\\\Desktop\\\\Georgia Tech\\\\CSE 6740\\\\Project\\\\exp1\\\\./tf_efficientnet_b0_ns_loss.ckpt' as top 1\n"
     ]
    },
    {
     "name": "stdout",
     "output_type": "stream",
     "text": [
      "epoch 3 validation loss 1.5173425674438477\n",
      "epoch 3 validation accuracy score 0.7250268528464017\n",
      "epoch 3 validation F1 score 0.7199148197456274\n"
     ]
    },
    {
     "data": {
      "application/vnd.jupyter.widget-view+json": {
       "model_id": "ed9e7c13367546b393bb1d60d3352e8e",
       "version_major": 2,
       "version_minor": 0
      },
      "text/plain": [
       "Validation: |                                                                                    | 0/? [00:00<…"
      ]
     },
     "metadata": {},
     "output_type": "display_data"
    },
    {
     "name": "stderr",
     "output_type": "stream",
     "text": [
      "Metric val_loss improved by 0.095 >= min_delta = 0.0. New best score: 1.396\n",
      "Epoch 4, global step 526: 'val_loss' reached 1.39589 (best 1.39589), saving model to 'C:\\\\Users\\\\chase\\\\Desktop\\\\Georgia Tech\\\\CSE 6740\\\\Project\\\\exp1\\\\./tf_efficientnet_b0_ns_loss.ckpt' as top 1\n"
     ]
    },
    {
     "name": "stdout",
     "output_type": "stream",
     "text": [
      "epoch 4 validation loss 1.45952570438385\n",
      "epoch 4 validation accuracy score 0.7422126745435016\n",
      "epoch 4 validation F1 score 0.7378782584485218\n"
     ]
    },
    {
     "data": {
      "application/vnd.jupyter.widget-view+json": {
       "model_id": "a822fd50893948a0b25043b01aa20d4c",
       "version_major": 2,
       "version_minor": 0
      },
      "text/plain": [
       "Validation: |                                                                                    | 0/? [00:00<…"
      ]
     },
     "metadata": {},
     "output_type": "display_data"
    },
    {
     "name": "stderr",
     "output_type": "stream",
     "text": [
      "Metric val_loss improved by 0.059 >= min_delta = 0.0. New best score: 1.337\n",
      "Epoch 4, global step 584: 'val_loss' reached 1.33668 (best 1.33668), saving model to 'C:\\\\Users\\\\chase\\\\Desktop\\\\Georgia Tech\\\\CSE 6740\\\\Project\\\\exp1\\\\./tf_efficientnet_b0_ns_loss.ckpt' as top 1\n"
     ]
    },
    {
     "name": "stdout",
     "output_type": "stream",
     "text": [
      "epoch 4 validation loss 1.382025957107544\n",
      "epoch 4 validation accuracy score 0.7432867883995704\n",
      "epoch 4 validation F1 score 0.7397046066690608\n"
     ]
    },
    {
     "data": {
      "application/vnd.jupyter.widget-view+json": {
       "model_id": "4435076e6e0d4d39beddb6daca392d19",
       "version_major": 2,
       "version_minor": 0
      },
      "text/plain": [
       "Validation: |                                                                                    | 0/? [00:00<…"
      ]
     },
     "metadata": {},
     "output_type": "display_data"
    },
    {
     "name": "stderr",
     "output_type": "stream",
     "text": [
      "Metric val_loss improved by 0.038 >= min_delta = 0.0. New best score: 1.299\n",
      "Epoch 5, global step 643: 'val_loss' reached 1.29867 (best 1.29867), saving model to 'C:\\\\Users\\\\chase\\\\Desktop\\\\Georgia Tech\\\\CSE 6740\\\\Project\\\\exp1\\\\./tf_efficientnet_b0_ns_loss.ckpt' as top 1\n"
     ]
    },
    {
     "name": "stdout",
     "output_type": "stream",
     "text": [
      "epoch 5 validation loss 1.3454327583312988\n",
      "epoch 5 validation accuracy score 0.7540279269602578\n",
      "epoch 5 validation F1 score 0.7522435585712423\n"
     ]
    },
    {
     "data": {
      "application/vnd.jupyter.widget-view+json": {
       "model_id": "510e9615fd714caba4621d645dd16655",
       "version_major": 2,
       "version_minor": 0
      },
      "text/plain": [
       "Validation: |                                                                                    | 0/? [00:00<…"
      ]
     },
     "metadata": {},
     "output_type": "display_data"
    },
    {
     "name": "stderr",
     "output_type": "stream",
     "text": [
      "Metric val_loss improved by 0.041 >= min_delta = 0.0. New best score: 1.258\n",
      "Epoch 5, global step 701: 'val_loss' reached 1.25757 (best 1.25757), saving model to 'C:\\\\Users\\\\chase\\\\Desktop\\\\Georgia Tech\\\\CSE 6740\\\\Project\\\\exp1\\\\./tf_efficientnet_b0_ns_loss.ckpt' as top 1\n"
     ]
    },
    {
     "name": "stdout",
     "output_type": "stream",
     "text": [
      "epoch 5 validation loss 1.3100965023040771\n",
      "epoch 5 validation accuracy score 0.757250268528464\n",
      "epoch 5 validation F1 score 0.7564086790399392\n"
     ]
    },
    {
     "data": {
      "application/vnd.jupyter.widget-view+json": {
       "model_id": "154ebe91f4fb47c1bc3861e081072f64",
       "version_major": 2,
       "version_minor": 0
      },
      "text/plain": [
       "Validation: |                                                                                    | 0/? [00:00<…"
      ]
     },
     "metadata": {},
     "output_type": "display_data"
    },
    {
     "name": "stderr",
     "output_type": "stream",
     "text": [
      "Epoch 6, global step 760: 'val_loss' was not in top 1\n"
     ]
    },
    {
     "name": "stdout",
     "output_type": "stream",
     "text": [
      "epoch 6 validation loss 1.3265063762664795\n",
      "epoch 6 validation accuracy score 0.7744360902255639\n",
      "epoch 6 validation F1 score 0.7716612057138913\n"
     ]
    },
    {
     "data": {
      "application/vnd.jupyter.widget-view+json": {
       "model_id": "e959513d76c94c28a8afbe2c6732b1d3",
       "version_major": 2,
       "version_minor": 0
      },
      "text/plain": [
       "Validation: |                                                                                    | 0/? [00:00<…"
      ]
     },
     "metadata": {},
     "output_type": "display_data"
    },
    {
     "name": "stderr",
     "output_type": "stream",
     "text": [
      "Metric val_loss improved by 0.009 >= min_delta = 0.0. New best score: 1.248\n",
      "Epoch 6, global step 818: 'val_loss' reached 1.24830 (best 1.24830), saving model to 'C:\\\\Users\\\\chase\\\\Desktop\\\\Georgia Tech\\\\CSE 6740\\\\Project\\\\exp1\\\\./tf_efficientnet_b0_ns_loss.ckpt' as top 1\n"
     ]
    },
    {
     "name": "stdout",
     "output_type": "stream",
     "text": [
      "epoch 6 validation loss 1.2625027894973755\n",
      "epoch 6 validation accuracy score 0.7744360902255639\n",
      "epoch 6 validation F1 score 0.7704826875059252\n"
     ]
    },
    {
     "data": {
      "application/vnd.jupyter.widget-view+json": {
       "model_id": "6b8a1d74ebf6454c9f2e661742cb4d24",
       "version_major": 2,
       "version_minor": 0
      },
      "text/plain": [
       "Validation: |                                                                                    | 0/? [00:00<…"
      ]
     },
     "metadata": {},
     "output_type": "display_data"
    },
    {
     "name": "stderr",
     "output_type": "stream",
     "text": [
      "Metric val_loss improved by 0.024 >= min_delta = 0.0. New best score: 1.225\n",
      "Epoch 7, global step 877: 'val_loss' reached 1.22477 (best 1.22477), saving model to 'C:\\\\Users\\\\chase\\\\Desktop\\\\Georgia Tech\\\\CSE 6740\\\\Project\\\\exp1\\\\./tf_efficientnet_b0_ns_loss.ckpt' as top 1\n"
     ]
    },
    {
     "name": "stdout",
     "output_type": "stream",
     "text": [
      "epoch 7 validation loss 1.251800298690796\n",
      "epoch 7 validation accuracy score 0.7755102040816326\n",
      "epoch 7 validation F1 score 0.770881473373145\n"
     ]
    },
    {
     "data": {
      "application/vnd.jupyter.widget-view+json": {
       "model_id": "e4b4e5ffad9c4b019a0e802b08c473b9",
       "version_major": 2,
       "version_minor": 0
      },
      "text/plain": [
       "Validation: |                                                                                    | 0/? [00:00<…"
      ]
     },
     "metadata": {},
     "output_type": "display_data"
    },
    {
     "name": "stderr",
     "output_type": "stream",
     "text": [
      "Epoch 7, global step 935: 'val_loss' was not in top 1\n"
     ]
    },
    {
     "name": "stdout",
     "output_type": "stream",
     "text": [
      "epoch 7 validation loss 1.2761391401290894\n",
      "epoch 7 validation accuracy score 0.7712137486573577\n",
      "epoch 7 validation F1 score 0.7664040473315934\n"
     ]
    },
    {
     "data": {
      "application/vnd.jupyter.widget-view+json": {
       "model_id": "67d717eb166549c8b0c42875f120c221",
       "version_major": 2,
       "version_minor": 0
      },
      "text/plain": [
       "Validation: |                                                                                    | 0/? [00:00<…"
      ]
     },
     "metadata": {},
     "output_type": "display_data"
    },
    {
     "name": "stderr",
     "output_type": "stream",
     "text": [
      "Metric val_loss improved by 0.004 >= min_delta = 0.0. New best score: 1.221\n",
      "Epoch 8, global step 994: 'val_loss' reached 1.22107 (best 1.22107), saving model to 'C:\\\\Users\\\\chase\\\\Desktop\\\\Georgia Tech\\\\CSE 6740\\\\Project\\\\exp1\\\\./tf_efficientnet_b0_ns_loss.ckpt' as top 1\n"
     ]
    },
    {
     "name": "stdout",
     "output_type": "stream",
     "text": [
      "epoch 8 validation loss 1.278743028640747\n",
      "epoch 8 validation accuracy score 0.7841031149301826\n",
      "epoch 8 validation F1 score 0.780806338589174\n"
     ]
    },
    {
     "data": {
      "application/vnd.jupyter.widget-view+json": {
       "model_id": "a848615843494a8a804006b5d0c9c02c",
       "version_major": 2,
       "version_minor": 0
      },
      "text/plain": [
       "Validation: |                                                                                    | 0/? [00:00<…"
      ]
     },
     "metadata": {},
     "output_type": "display_data"
    },
    {
     "name": "stderr",
     "output_type": "stream",
     "text": [
      "Metric val_loss improved by 0.013 >= min_delta = 0.0. New best score: 1.209\n",
      "Epoch 8, global step 1052: 'val_loss' reached 1.20854 (best 1.20854), saving model to 'C:\\\\Users\\\\chase\\\\Desktop\\\\Georgia Tech\\\\CSE 6740\\\\Project\\\\exp1\\\\./tf_efficientnet_b0_ns_loss.ckpt' as top 1\n"
     ]
    },
    {
     "name": "stdout",
     "output_type": "stream",
     "text": [
      "epoch 8 validation loss 1.2291903495788574\n",
      "epoch 8 validation accuracy score 0.7610096670247046\n",
      "epoch 8 validation F1 score 0.7606715760975795\n"
     ]
    },
    {
     "data": {
      "application/vnd.jupyter.widget-view+json": {
       "model_id": "1adf86d5b476465c9210749fdcf9e137",
       "version_major": 2,
       "version_minor": 0
      },
      "text/plain": [
       "Validation: |                                                                                    | 0/? [00:00<…"
      ]
     },
     "metadata": {},
     "output_type": "display_data"
    },
    {
     "name": "stderr",
     "output_type": "stream",
     "text": [
      "Metric val_loss improved by 0.076 >= min_delta = 0.0. New best score: 1.132\n",
      "Epoch 9, global step 1111: 'val_loss' reached 1.13223 (best 1.13223), saving model to 'C:\\\\Users\\\\chase\\\\Desktop\\\\Georgia Tech\\\\CSE 6740\\\\Project\\\\exp1\\\\./tf_efficientnet_b0_ns_loss.ckpt' as top 1\n"
     ]
    },
    {
     "name": "stdout",
     "output_type": "stream",
     "text": [
      "epoch 9 validation loss 1.1695811748504639\n",
      "epoch 9 validation accuracy score 0.7841031149301826\n",
      "epoch 9 validation F1 score 0.7827126584085363\n"
     ]
    },
    {
     "data": {
      "application/vnd.jupyter.widget-view+json": {
       "model_id": "374c52c6fed44a778017d92aeb8c74ce",
       "version_major": 2,
       "version_minor": 0
      },
      "text/plain": [
       "Validation: |                                                                                    | 0/? [00:00<…"
      ]
     },
     "metadata": {},
     "output_type": "display_data"
    },
    {
     "name": "stderr",
     "output_type": "stream",
     "text": [
      "Epoch 9, global step 1169: 'val_loss' was not in top 1\n"
     ]
    },
    {
     "name": "stdout",
     "output_type": "stream",
     "text": [
      "epoch 9 validation loss 1.236701250076294\n",
      "epoch 9 validation accuracy score 0.784640171858217\n",
      "epoch 9 validation F1 score 0.7810211541812341\n"
     ]
    },
    {
     "data": {
      "application/vnd.jupyter.widget-view+json": {
       "model_id": "a736ad70ad254f4f907076900831a075",
       "version_major": 2,
       "version_minor": 0
      },
      "text/plain": [
       "Validation: |                                                                                    | 0/? [00:00<…"
      ]
     },
     "metadata": {},
     "output_type": "display_data"
    },
    {
     "name": "stderr",
     "output_type": "stream",
     "text": [
      "Metric val_loss improved by 0.005 >= min_delta = 0.0. New best score: 1.127\n",
      "Epoch 10, global step 1228: 'val_loss' reached 1.12679 (best 1.12679), saving model to 'C:\\\\Users\\\\chase\\\\Desktop\\\\Georgia Tech\\\\CSE 6740\\\\Project\\\\exp1\\\\./tf_efficientnet_b0_ns_loss.ckpt' as top 1\n"
     ]
    },
    {
     "name": "stdout",
     "output_type": "stream",
     "text": [
      "epoch 10 validation loss 1.1789718866348267\n",
      "epoch 10 validation accuracy score 0.7996777658431794\n",
      "epoch 10 validation F1 score 0.7964638920140488\n"
     ]
    },
    {
     "data": {
      "application/vnd.jupyter.widget-view+json": {
       "model_id": "277059fa577548b1a2e4031c3b467d59",
       "version_major": 2,
       "version_minor": 0
      },
      "text/plain": [
       "Validation: |                                                                                    | 0/? [00:00<…"
      ]
     },
     "metadata": {},
     "output_type": "display_data"
    },
    {
     "name": "stderr",
     "output_type": "stream",
     "text": [
      "Epoch 10, global step 1286: 'val_loss' was not in top 1\n"
     ]
    },
    {
     "name": "stdout",
     "output_type": "stream",
     "text": [
      "epoch 10 validation loss 1.190858244895935\n",
      "epoch 10 validation accuracy score 0.7943071965628357\n",
      "epoch 10 validation F1 score 0.7900074635023125\n"
     ]
    },
    {
     "data": {
      "application/vnd.jupyter.widget-view+json": {
       "model_id": "1c5e4003272d42109ed28edbdeb86a52",
       "version_major": 2,
       "version_minor": 0
      },
      "text/plain": [
       "Validation: |                                                                                    | 0/? [00:00<…"
      ]
     },
     "metadata": {},
     "output_type": "display_data"
    },
    {
     "name": "stderr",
     "output_type": "stream",
     "text": [
      "Metric val_loss improved by 0.034 >= min_delta = 0.0. New best score: 1.093\n",
      "Epoch 11, global step 1345: 'val_loss' reached 1.09288 (best 1.09288), saving model to 'C:\\\\Users\\\\chase\\\\Desktop\\\\Georgia Tech\\\\CSE 6740\\\\Project\\\\exp1\\\\./tf_efficientnet_b0_ns_loss.ckpt' as top 1\n"
     ]
    },
    {
     "name": "stdout",
     "output_type": "stream",
     "text": [
      "epoch 11 validation loss 1.1529972553253174\n",
      "epoch 11 validation accuracy score 0.7964554242749732\n",
      "epoch 11 validation F1 score 0.7929236391671612\n"
     ]
    },
    {
     "data": {
      "application/vnd.jupyter.widget-view+json": {
       "model_id": "5e620f0b2a764c8c866f104a952d8c30",
       "version_major": 2,
       "version_minor": 0
      },
      "text/plain": [
       "Validation: |                                                                                    | 0/? [00:00<…"
      ]
     },
     "metadata": {},
     "output_type": "display_data"
    },
    {
     "name": "stderr",
     "output_type": "stream",
     "text": [
      "Metric val_loss improved by 0.004 >= min_delta = 0.0. New best score: 1.088\n",
      "Epoch 11, global step 1403: 'val_loss' reached 1.08839 (best 1.08839), saving model to 'C:\\\\Users\\\\chase\\\\Desktop\\\\Georgia Tech\\\\CSE 6740\\\\Project\\\\exp1\\\\./tf_efficientnet_b0_ns_loss.ckpt' as top 1\n"
     ]
    },
    {
     "name": "stdout",
     "output_type": "stream",
     "text": [
      "epoch 11 validation loss 1.1368777751922607\n",
      "epoch 11 validation accuracy score 0.7975295381310419\n",
      "epoch 11 validation F1 score 0.7970043708663084\n"
     ]
    },
    {
     "data": {
      "application/vnd.jupyter.widget-view+json": {
       "model_id": "241a8b4dc3be4ed391ef893351f86a7d",
       "version_major": 2,
       "version_minor": 0
      },
      "text/plain": [
       "Validation: |                                                                                    | 0/? [00:00<…"
      ]
     },
     "metadata": {},
     "output_type": "display_data"
    },
    {
     "name": "stderr",
     "output_type": "stream",
     "text": [
      "Epoch 12, global step 1462: 'val_loss' was not in top 1\n"
     ]
    },
    {
     "name": "stdout",
     "output_type": "stream",
     "text": [
      "epoch 12 validation loss 1.1728739738464355\n",
      "epoch 12 validation accuracy score 0.7969924812030075\n",
      "epoch 12 validation F1 score 0.7932033753252873\n"
     ]
    },
    {
     "data": {
      "application/vnd.jupyter.widget-view+json": {
       "model_id": "1bef7e1417754421a88e891fe786e65c",
       "version_major": 2,
       "version_minor": 0
      },
      "text/plain": [
       "Validation: |                                                                                    | 0/? [00:00<…"
      ]
     },
     "metadata": {},
     "output_type": "display_data"
    },
    {
     "name": "stderr",
     "output_type": "stream",
     "text": [
      "Epoch 12, global step 1520: 'val_loss' was not in top 1\n"
     ]
    },
    {
     "name": "stdout",
     "output_type": "stream",
     "text": [
      "epoch 12 validation loss 1.1991636753082275\n",
      "epoch 12 validation accuracy score 0.8050483351235231\n",
      "epoch 12 validation F1 score 0.7998248647131461\n"
     ]
    },
    {
     "data": {
      "application/vnd.jupyter.widget-view+json": {
       "model_id": "fec36d40d4244019b6a5bac8ab57fe7f",
       "version_major": 2,
       "version_minor": 0
      },
      "text/plain": [
       "Validation: |                                                                                    | 0/? [00:00<…"
      ]
     },
     "metadata": {},
     "output_type": "display_data"
    },
    {
     "name": "stderr",
     "output_type": "stream",
     "text": [
      "Metric val_loss improved by 0.044 >= min_delta = 0.0. New best score: 1.044\n",
      "Epoch 13, global step 1579: 'val_loss' reached 1.04442 (best 1.04442), saving model to 'C:\\\\Users\\\\chase\\\\Desktop\\\\Georgia Tech\\\\CSE 6740\\\\Project\\\\exp1\\\\./tf_efficientnet_b0_ns_loss.ckpt' as top 1\n"
     ]
    },
    {
     "name": "stdout",
     "output_type": "stream",
     "text": [
      "epoch 13 validation loss 1.112978219985962\n",
      "epoch 13 validation accuracy score 0.8120300751879699\n",
      "epoch 13 validation F1 score 0.8087231539628437\n"
     ]
    },
    {
     "data": {
      "application/vnd.jupyter.widget-view+json": {
       "model_id": "e08c6a36196b41c0ac6347480b0d9962",
       "version_major": 2,
       "version_minor": 0
      },
      "text/plain": [
       "Validation: |                                                                                    | 0/? [00:00<…"
      ]
     },
     "metadata": {},
     "output_type": "display_data"
    },
    {
     "name": "stderr",
     "output_type": "stream",
     "text": [
      "Epoch 13, global step 1637: 'val_loss' was not in top 1\n"
     ]
    },
    {
     "name": "stdout",
     "output_type": "stream",
     "text": [
      "epoch 13 validation loss 1.1017473936080933\n",
      "epoch 13 validation accuracy score 0.8120300751879699\n",
      "epoch 13 validation F1 score 0.8082502821809681\n"
     ]
    },
    {
     "data": {
      "application/vnd.jupyter.widget-view+json": {
       "model_id": "3ea342d22ac147088b3042090d3142a0",
       "version_major": 2,
       "version_minor": 0
      },
      "text/plain": [
       "Validation: |                                                                                    | 0/? [00:00<…"
      ]
     },
     "metadata": {},
     "output_type": "display_data"
    },
    {
     "name": "stderr",
     "output_type": "stream",
     "text": [
      "Metric val_loss improved by 0.003 >= min_delta = 0.0. New best score: 1.041\n",
      "Epoch 14, global step 1696: 'val_loss' reached 1.04135 (best 1.04135), saving model to 'C:\\\\Users\\\\chase\\\\Desktop\\\\Georgia Tech\\\\CSE 6740\\\\Project\\\\exp1\\\\./tf_efficientnet_b0_ns_loss.ckpt' as top 1\n"
     ]
    },
    {
     "name": "stdout",
     "output_type": "stream",
     "text": [
      "epoch 14 validation loss 1.0902698040008545\n",
      "epoch 14 validation accuracy score 0.8125671321160043\n",
      "epoch 14 validation F1 score 0.8091316133725219\n"
     ]
    },
    {
     "data": {
      "application/vnd.jupyter.widget-view+json": {
       "model_id": "ae1278beef3c4f1bb684c2c33d671f75",
       "version_major": 2,
       "version_minor": 0
      },
      "text/plain": [
       "Validation: |                                                                                    | 0/? [00:00<…"
      ]
     },
     "metadata": {},
     "output_type": "display_data"
    },
    {
     "name": "stderr",
     "output_type": "stream",
     "text": [
      "Metric val_loss improved by 0.023 >= min_delta = 0.0. New best score: 1.018\n",
      "Epoch 14, global step 1754: 'val_loss' reached 1.01833 (best 1.01833), saving model to 'C:\\\\Users\\\\chase\\\\Desktop\\\\Georgia Tech\\\\CSE 6740\\\\Project\\\\exp1\\\\./tf_efficientnet_b0_ns_loss.ckpt' as top 1\n"
     ]
    },
    {
     "name": "stdout",
     "output_type": "stream",
     "text": [
      "epoch 14 validation loss 1.0716780424118042\n",
      "epoch 14 validation accuracy score 0.8163265306122449\n",
      "epoch 14 validation F1 score 0.8124363051831316\n"
     ]
    },
    {
     "data": {
      "application/vnd.jupyter.widget-view+json": {
       "model_id": "a4fe2e94474c4d7b8493e15051d699a0",
       "version_major": 2,
       "version_minor": 0
      },
      "text/plain": [
       "Validation: |                                                                                    | 0/? [00:00<…"
      ]
     },
     "metadata": {},
     "output_type": "display_data"
    },
    {
     "name": "stderr",
     "output_type": "stream",
     "text": [
      "Epoch 15, global step 1813: 'val_loss' was not in top 1\n"
     ]
    },
    {
     "name": "stdout",
     "output_type": "stream",
     "text": [
      "epoch 15 validation loss 1.0816832780838013\n",
      "epoch 15 validation accuracy score 0.8141783029001074\n",
      "epoch 15 validation F1 score 0.8113039672586584\n"
     ]
    },
    {
     "data": {
      "application/vnd.jupyter.widget-view+json": {
       "model_id": "6f21a0a758224575973122cac9041150",
       "version_major": 2,
       "version_minor": 0
      },
      "text/plain": [
       "Validation: |                                                                                    | 0/? [00:00<…"
      ]
     },
     "metadata": {},
     "output_type": "display_data"
    },
    {
     "name": "stderr",
     "output_type": "stream",
     "text": [
      "Metric val_loss improved by 0.004 >= min_delta = 0.0. New best score: 1.015\n",
      "Epoch 15, global step 1871: 'val_loss' reached 1.01459 (best 1.01459), saving model to 'C:\\\\Users\\\\chase\\\\Desktop\\\\Georgia Tech\\\\CSE 6740\\\\Project\\\\exp1\\\\./tf_efficientnet_b0_ns_loss.ckpt' as top 1\n"
     ]
    },
    {
     "name": "stdout",
     "output_type": "stream",
     "text": [
      "epoch 15 validation loss 1.0701115131378174\n",
      "epoch 15 validation accuracy score 0.822234156820623\n",
      "epoch 15 validation F1 score 0.8191505023238997\n"
     ]
    },
    {
     "data": {
      "application/vnd.jupyter.widget-view+json": {
       "model_id": "a17b927916734da98af61ee08b7a51d1",
       "version_major": 2,
       "version_minor": 0
      },
      "text/plain": [
       "Validation: |                                                                                    | 0/? [00:00<…"
      ]
     },
     "metadata": {},
     "output_type": "display_data"
    },
    {
     "name": "stderr",
     "output_type": "stream",
     "text": [
      "Epoch 16, global step 1930: 'val_loss' was not in top 1\n"
     ]
    },
    {
     "name": "stdout",
     "output_type": "stream",
     "text": [
      "epoch 16 validation loss 1.1000036001205444\n",
      "epoch 16 validation accuracy score 0.8157894736842105\n",
      "epoch 16 validation F1 score 0.8130289906161849\n"
     ]
    },
    {
     "data": {
      "application/vnd.jupyter.widget-view+json": {
       "model_id": "db0a3540f98541fd84b7b765f2f1e5e3",
       "version_major": 2,
       "version_minor": 0
      },
      "text/plain": [
       "Validation: |                                                                                    | 0/? [00:00<…"
      ]
     },
     "metadata": {},
     "output_type": "display_data"
    },
    {
     "name": "stderr",
     "output_type": "stream",
     "text": [
      "Epoch 16, global step 1988: 'val_loss' was not in top 1\n"
     ]
    },
    {
     "name": "stdout",
     "output_type": "stream",
     "text": [
      "epoch 16 validation loss 1.0961980819702148\n",
      "epoch 16 validation accuracy score 0.8141783029001074\n",
      "epoch 16 validation F1 score 0.8108414950197157\n"
     ]
    },
    {
     "data": {
      "application/vnd.jupyter.widget-view+json": {
       "model_id": "362c4a471643435e97d4bb5cfd7554f3",
       "version_major": 2,
       "version_minor": 0
      },
      "text/plain": [
       "Validation: |                                                                                    | 0/? [00:00<…"
      ]
     },
     "metadata": {},
     "output_type": "display_data"
    },
    {
     "name": "stderr",
     "output_type": "stream",
     "text": [
      "Epoch 17, global step 2047: 'val_loss' was not in top 1\n"
     ]
    },
    {
     "name": "stdout",
     "output_type": "stream",
     "text": [
      "epoch 17 validation loss 1.1435927152633667\n",
      "epoch 17 validation accuracy score 0.817937701396348\n",
      "epoch 17 validation F1 score 0.8150888306216936\n"
     ]
    },
    {
     "data": {
      "application/vnd.jupyter.widget-view+json": {
       "model_id": "7307cbc492194b22ab46a3d5b45e29f6",
       "version_major": 2,
       "version_minor": 0
      },
      "text/plain": [
       "Validation: |                                                                                    | 0/? [00:00<…"
      ]
     },
     "metadata": {},
     "output_type": "display_data"
    },
    {
     "name": "stderr",
     "output_type": "stream",
     "text": [
      "Epoch 17, global step 2105: 'val_loss' was not in top 1\n"
     ]
    },
    {
     "name": "stdout",
     "output_type": "stream",
     "text": [
      "epoch 17 validation loss 1.0838598012924194\n",
      "epoch 17 validation accuracy score 0.8227712137486574\n",
      "epoch 17 validation F1 score 0.8200063441996313\n"
     ]
    },
    {
     "data": {
      "application/vnd.jupyter.widget-view+json": {
       "model_id": "bc909c49171e4b0cbef35b381af9335a",
       "version_major": 2,
       "version_minor": 0
      },
      "text/plain": [
       "Validation: |                                                                                    | 0/? [00:00<…"
      ]
     },
     "metadata": {},
     "output_type": "display_data"
    },
    {
     "name": "stderr",
     "output_type": "stream",
     "text": [
      "Epoch 18, global step 2164: 'val_loss' was not in top 1\n"
     ]
    },
    {
     "name": "stdout",
     "output_type": "stream",
     "text": [
      "epoch 18 validation loss 1.1677006483078003\n",
      "epoch 18 validation accuracy score 0.813641245972073\n",
      "epoch 18 validation F1 score 0.8102470973832718\n"
     ]
    },
    {
     "data": {
      "application/vnd.jupyter.widget-view+json": {
       "model_id": "9b90ab8076794b3b9ab6c73f27d860c8",
       "version_major": 2,
       "version_minor": 0
      },
      "text/plain": [
       "Validation: |                                                                                    | 0/? [00:00<…"
      ]
     },
     "metadata": {},
     "output_type": "display_data"
    },
    {
     "name": "stderr",
     "output_type": "stream",
     "text": [
      "Epoch 18, global step 2222: 'val_loss' was not in top 1\n"
     ]
    },
    {
     "name": "stdout",
     "output_type": "stream",
     "text": [
      "epoch 18 validation loss 1.0985251665115356\n",
      "epoch 18 validation accuracy score 0.8200859291084855\n",
      "epoch 18 validation F1 score 0.8171164883451626\n"
     ]
    },
    {
     "data": {
      "application/vnd.jupyter.widget-view+json": {
       "model_id": "edf47466e2444f04ae92a69305561adc",
       "version_major": 2,
       "version_minor": 0
      },
      "text/plain": [
       "Validation: |                                                                                    | 0/? [00:00<…"
      ]
     },
     "metadata": {},
     "output_type": "display_data"
    },
    {
     "name": "stderr",
     "output_type": "stream",
     "text": [
      "Epoch 19, global step 2281: 'val_loss' was not in top 1\n"
     ]
    },
    {
     "name": "stdout",
     "output_type": "stream",
     "text": [
      "epoch 19 validation loss 1.092903971672058\n",
      "epoch 19 validation accuracy score 0.8195488721804511\n",
      "epoch 19 validation F1 score 0.8165062984141246\n"
     ]
    },
    {
     "data": {
      "application/vnd.jupyter.widget-view+json": {
       "model_id": "c9a5b02184f540cb8b5be6c51a8e8f76",
       "version_major": 2,
       "version_minor": 0
      },
      "text/plain": [
       "Validation: |                                                                                    | 0/? [00:00<…"
      ]
     },
     "metadata": {},
     "output_type": "display_data"
    },
    {
     "name": "stderr",
     "output_type": "stream",
     "text": [
      "Metric val_loss improved by 0.020 >= min_delta = 0.0. New best score: 0.995\n",
      "Epoch 19, global step 2339: 'val_loss' reached 0.99489 (best 0.99489), saving model to 'C:\\\\Users\\\\chase\\\\Desktop\\\\Georgia Tech\\\\CSE 6740\\\\Project\\\\exp1\\\\./tf_efficientnet_b0_ns_loss.ckpt' as top 1\n"
     ]
    },
    {
     "name": "stdout",
     "output_type": "stream",
     "text": [
      "epoch 19 validation loss 1.056201696395874\n",
      "epoch 19 validation accuracy score 0.8249194414607949\n",
      "epoch 19 validation F1 score 0.8214762616273198\n"
     ]
    },
    {
     "name": "stderr",
     "output_type": "stream",
     "text": [
      "`Trainer.fit` stopped: `max_epochs=20` reached.\n"
     ]
    }
   ],
   "source": [
    "run_training()"
   ]
  },
  {
   "cell_type": "code",
   "execution_count": 143,
   "id": "4759baa7-7eb0-404f-acdf-00a87b182608",
   "metadata": {},
   "outputs": [
    {
     "name": "stdout",
     "output_type": "stream",
     "text": [
      "F1 Score : 0.7810593843460083\n"
     ]
    }
   ],
   "source": [
    "from torchmetrics import F1Score\n",
    "\n",
    "model = BirdClefModel.load_from_checkpoint('seungjun-Spectrogram/exp5/tf_efficientnet_b0_ns_loss.ckpt')\n",
    "\n",
    "model.eval()\n",
    "\n",
    "# For GPU usage, ensure the model is on the correct device\n",
    "device = torch.device(\"cuda\" if torch.cuda.is_available() else \"cpu\")\n",
    "model.to(device)\n",
    "\n",
    "f1 = F1Score(task=\"multiclass\", num_classes=len(df_train.primary_label.unique()), average='macro').to(device)\n",
    "\n",
    "all_preds = []\n",
    "all_labels = []\n",
    "\n",
    "with torch.no_grad():\n",
    "    for inputs, labels in dl_test:\n",
    "        inputs, labels = inputs.to(device), labels.to(device)\n",
    "        outputs = model(inputs)\n",
    "        preds = torch.argmax(outputs, dim=1)\n",
    "        all_preds.append(preds.to(device))\n",
    "        all_labels.append(labels.to(device))\n",
    "\n",
    "# Concatenate predictions and labels\n",
    "all_preds = torch.cat(all_preds).to(device)\n",
    "all_labels = torch.cat(all_labels).to(device)\n",
    "all_labels = torch.argmax(all_labels, dim=1)\n",
    "\n",
    "# Compute F1 score using torchmetrics\n",
    "f1_score_value = f1(all_preds, all_labels)\n",
    "print(f\"F1 Score : {f1_score_value.item()}\")"
   ]
  },
  {
   "cell_type": "code",
   "execution_count": 147,
   "id": "4a97f55e-3276-4621-8894-e54124125f67",
   "metadata": {},
   "outputs": [],
   "source": [
    "from sklearn.metrics import confusion_matrix\n",
    "conf_matrix = confusion_matrix(all_labels.cpu().numpy(), all_preds.cpu().numpy())"
   ]
  },
  {
   "cell_type": "code",
   "execution_count": 171,
   "id": "d9fa4881-3f92-4fbe-b39e-4dc09f89adea",
   "metadata": {},
   "outputs": [
    {
     "data": {
      "image/png": "[encoded data removed]",
      "text/plain": [
       "<Figure size 2000x2000 with 2 Axes>"
      ]
     },
     "metadata": {},
     "output_type": "display_data"
    }
   ],
   "source": [
    "import seaborn as sns\n",
    "\n",
    "plt.figure(figsize=(20, 20))\n",
    "sns.heatmap(conf_matrix, annot=True, fmt='d', cmap='Blues', xticklabels=True, yticklabels=True)\n",
    "\n",
    "plt.xlabel('Predicted Labels')\n",
    "plt.ylabel('True Labels')\n",
    "plt.title('Normalized Confusion Matrix')\n",
    "plt.show()"
   ]
  },
  {
   "cell_type": "code",
   "execution_count": 184,
   "id": "251c6fae-d4cc-4b67-919f-ce1e726cb4d2",
   "metadata": {},
   "outputs": [
    {
     "data": {
      "text/plain": [
       "array([0.16666667, 0.42857143, 0.66666667, 0.875     , 0.93478261,\n",
       "       0.94339623, 0.80769231, 0.94545455, 0.66666667, 1.        ,\n",
       "       0.76923077, 0.92307692, 0.55555556, 1.        , 0.64285714,\n",
       "       0.22222222, 0.57142857, 0.71428571, 0.75      , 0.96      ,\n",
       "       0.625     , 0.9516129 , 0.88888889, 0.57142857, 0.66666667,\n",
       "       0.82352941, 0.93877551, 0.85      , 0.77777778, 0.82352941,\n",
       "       0.97959184, 0.94736842, 0.86206897, 0.61538462, 0.44444444,\n",
       "       0.78181818, 0.7       , 0.55555556, 0.71794872, 0.88888889,\n",
       "       0.8       , 0.59090909, 0.98      , 0.90909091, 0.625     ,\n",
       "       1.        , 0.97297297, 1.        , 0.72727273, 0.66666667,\n",
       "       0.83333333, 0.85714286, 1.        , 1.        , 1.        ,\n",
       "       0.75      , 0.86206897, 0.85714286, 0.90909091, 0.72      ,\n",
       "       0.825     , 0.5       , 0.88888889, 0.625     , 0.66666667,\n",
       "       0.66666667, 0.78571429, 0.42857143, 0.66666667, 0.57142857,\n",
       "       1.        , 0.90909091, 0.76190476, 0.9       , 0.5       ,\n",
       "       0.75      , 0.90909091, 0.92307692, 0.5       , 0.66666667,\n",
       "       0.84615385, 0.66666667, 0.82758621, 0.61538462, 0.77777778,\n",
       "       0.81818182, 0.9375    , 0.84444444, 0.96666667])"
      ]
     },
     "execution_count": 184,
     "metadata": {},
     "output_type": "execute_result"
    }
   ],
   "source": [
    "conf_matrix_normalized = conf_matrix.astype('float') / conf_matrix.sum(axis=1)[:, np.newaxis]\n",
    "conf_matrix_normalized.diagonal()"
   ]
  },
  {
   "cell_type": "code",
   "execution_count": 196,
   "id": "22333761-972a-4500-9eca-c21485c9264e",
   "metadata": {},
   "outputs": [],
   "source": [
    "class_accuracy = pd.DataFrame([df.primary_label.unique(), conf_matrix_normalized.diagonal()]).T\n",
    "class_accuracy.to_csv(\"class_accuracy.csv\")"
   ]
  },
  {
   "cell_type": "code",
   "execution_count": 214,
   "id": "89d8daba-803c-41ed-bed1-00a8be71e277",
   "metadata": {},
   "outputs": [
    {
     "name": "stdout",
     "output_type": "stream",
     "text": [
      "              precision    recall  f1-score   support\n",
      "\n",
      "      asbfly     1.0000    0.1667    0.2857         6\n",
      "     ashdro1     0.4286    0.4286    0.4286         7\n",
      "     ashpri1     0.8000    0.6667    0.7273         6\n",
      "     asikoe2     0.8750    0.8750    0.8750        16\n",
      "      barswa     0.8600    0.9348    0.8958        46\n",
      "      bcnher     0.8475    0.9434    0.8929        53\n",
      "     bkskit1     0.9545    0.8077    0.8750        26\n",
      "      bkwsti     0.8966    0.9455    0.9204        55\n",
      "     bladro1     0.4615    0.6667    0.5455         9\n",
      "     blakit1     0.8182    1.0000    0.9000        27\n",
      "     blhori1     0.6250    0.7692    0.6897        13\n",
      "     blnmon1     0.9231    0.9231    0.9231        13\n",
      "     blrwar1     0.8333    0.5556    0.6667         9\n",
      "     brnhao1     0.8333    1.0000    0.9091        10\n",
      "      brnshr     0.6923    0.6429    0.6667        14\n",
      "     brodro1     0.5000    0.2222    0.3077         9\n",
      "     brwowl1     1.0000    0.5714    0.7273         7\n",
      "      categr     0.7143    0.7143    0.7143        21\n",
      "     cohcuc1     0.7500    0.7500    0.7500         8\n",
      "      comgre     0.9600    0.9600    0.9600        50\n",
      "     comior1     0.7143    0.6250    0.6667        16\n",
      "     comkin1     0.8429    0.9516    0.8939        62\n",
      "     commoo3     0.8571    0.8889    0.8727        54\n",
      "      commyn     0.8000    0.5714    0.6667        21\n",
      "      compea     0.8000    0.6667    0.7273         6\n",
      "      comros     0.8750    0.8235    0.8485        17\n",
      "      comsan     0.8519    0.9388    0.8932        49\n",
      "     comtai1     0.8095    0.8500    0.8293        20\n",
      "     copbar1     0.8750    0.7778    0.8235         9\n",
      "     crseag1     0.9333    0.8235    0.8750        17\n",
      "     eaywag1     0.9231    0.9796    0.9505        49\n",
      "      eucdov     0.8571    0.9474    0.9000        19\n",
      "      eurcoo     0.7937    0.8621    0.8264        58\n",
      "      gargan     1.0000    0.6154    0.7619        13\n",
      "      gloibi     0.6667    0.4444    0.5333         9\n",
      "     graher1     0.8113    0.7818    0.7963        55\n",
      "     grbeat1     0.7778    0.7000    0.7368        10\n",
      "     grecou1     0.8333    0.5556    0.6667         9\n",
      "      greegr     0.7368    0.7179    0.7273        39\n",
      "     grefla1     0.8889    0.8889    0.8889         9\n",
      "     grejun2     1.0000    0.8000    0.8889         5\n",
      "     grewar3     0.8125    0.5909    0.6842        22\n",
      "      grnsan     0.9245    0.9800    0.9515        50\n",
      "     grnwar1     0.6250    0.9091    0.7407        11\n",
      "     grtdro1     0.6818    0.6250    0.6522        24\n",
      "      gryfra     1.0000    1.0000    1.0000         6\n",
      "      grywag     0.9000    0.9730    0.9351        37\n",
      "     gybpri1     0.8000    1.0000    0.8889         8\n",
      "     gyhcaf1     0.7273    0.7273    0.7273        11\n",
      "      hoopoe     0.7368    0.6667    0.7000        21\n",
      "     houcro1     0.6818    0.8333    0.7500        18\n",
      "      houspa     0.9000    0.8571    0.8780        42\n",
      "     indpit1     0.8000    1.0000    0.8889         8\n",
      "     insbab1     0.8571    1.0000    0.9231         6\n",
      "     junowl1     1.0000    1.0000    1.0000         6\n",
      "     kenplo1     0.8824    0.7500    0.8108        20\n",
      "     labcro1     0.8621    0.8621    0.8621        29\n",
      "     lblwar1     0.7500    0.8571    0.8000         7\n",
      "      lirplo     0.8889    0.9091    0.8989        44\n",
      "      litegr     0.6429    0.7200    0.6792        50\n",
      "     litgre1     0.8049    0.8250    0.8148        40\n",
      "     litspi1     0.7500    0.5000    0.6000        12\n",
      "     litswi1     0.8889    0.8889    0.8889         9\n",
      "      marsan     1.0000    0.6250    0.7692         8\n",
      "      nutman     0.8000    0.6667    0.7273        12\n",
      "     oripip1     0.8000    0.6667    0.7273         6\n",
      "     piekin1     0.5789    0.7857    0.6667        14\n",
      "     plapri1     0.4286    0.4286    0.4286         7\n",
      "     purher1     0.5714    0.6667    0.6154        24\n",
      "     pursun3     0.6667    0.5714    0.6154         7\n",
      "     pursun4     0.9091    1.0000    0.9524        10\n",
      "     putbab1     0.7143    0.9091    0.8000        11\n",
      "     rerswa1     0.7619    0.7619    0.7619        21\n",
      "      revbul     0.6923    0.9000    0.7826        10\n",
      "      rewbul     0.5455    0.5000    0.5217        12\n",
      "     rewlap1     0.9231    0.7500    0.8276        16\n",
      "      rocpig     0.9091    0.9091    0.9091        11\n",
      "      rorpar     0.8889    0.9231    0.9057        52\n",
      "     ruftre2     0.6364    0.5000    0.5600        14\n",
      "     shikra1     0.8000    0.6667    0.7273        12\n",
      "     stbkin1     1.0000    0.8462    0.9167        13\n",
      "     tibfly3     1.0000    0.6667    0.8000         6\n",
      "     wemhar1     0.8571    0.8276    0.8421        29\n",
      "     whbwat1     0.8000    0.6154    0.6957        13\n",
      "     whbwoo2     0.7778    0.7778    0.7778         9\n",
      "     whiter2     0.9000    0.8182    0.8571        22\n",
      "     whtkin2     1.0000    0.9375    0.9677        16\n",
      "      woosan     0.9268    0.8444    0.8837        45\n",
      "     zitcis1     0.9667    0.9667    0.9667        30\n",
      "\n",
      "    accuracy                         0.8249      1862\n",
      "   macro avg     0.8111    0.7726    0.7811      1862\n",
      "weighted avg     0.8288    0.8249    0.8215      1862\n",
      "\n"
     ]
    }
   ],
   "source": [
    "from sklearn.metrics import classification_report\n",
    "\n",
    "print(classification_report(all_labels.cpu().numpy(), all_preds.cpu().numpy(), target_names=df.primary_label.unique(), digits=4))"
   ]
  }
 ],
 "metadata": {
  "kernelspec": {
   "display_name": "birdclef",
   "language": "python",
   "name": "birdclef"
  },
  "language_info": {
   "codemirror_mode": {
    "name": "ipython",
    "version": 3
   },
   "file_extension": ".py",
   "mimetype": "text/x-python",
   "name": "python",
   "nbconvert_exporter": "python",
   "pygments_lexer": "ipython3",
   "version": "3.12.7"
  }
 },
 "nbformat": 4,
 "nbformat_minor": 5
}
