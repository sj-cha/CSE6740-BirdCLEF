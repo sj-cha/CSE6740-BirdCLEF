{
 "cells": [
  {
   "cell_type": "code",
   "execution_count": 60,
   "id": "d882a31c-9b20-4522-848c-b04450b64ce6",
   "metadata": {},
   "outputs": [],
   "source": [
    "import numpy as np\n",
    "import pandas as pd\n",
    "import librosa as lb\n",
    "import librosa.display as lbd\n",
    "import soundfile as sf\n",
    "from soundfile import SoundFile\n",
    "import pandas as pd\n",
    "from IPython.display import Audio\n",
    "from pathlib import Path\n",
    "\n",
    "import matplotlib.pyplot as plt\n",
    "\n",
    "from tqdm import tqdm\n",
    "\n",
    "import joblib, json, re\n",
    "import noisereduce as nr"
   ]
  },
  {
   "cell_type": "code",
   "execution_count": 61,
   "id": "6e2eaaed-d770-48e0-9787-686316bde3e7",
   "metadata": {},
   "outputs": [],
   "source": [
    "import torch\n",
    "import os\n",
    "import pytorch_lightning as pl\n",
    "from torch.utils.data import Dataset, DataLoader\n",
    "from sklearn import model_selection\n",
    "import torchvision.transforms as transforms\n",
    "import torchvision.io \n",
    "import librosa\n",
    "from PIL import Image\n",
    "import torch.multiprocessing as mp\n",
    "import warnings\n",
    "from pytorch_lightning.callbacks import ModelCheckpoint, BackboneFinetuning, EarlyStopping\n",
    "from torch.optim.lr_scheduler import CosineAnnealingLR, CosineAnnealingWarmRestarts, ReduceLROnPlateau, OneCycleLR\n",
    "from torchtoolbox.tools import mixup_data, mixup_criterion\n",
    "import torch.nn as nn\n",
    "from torch.nn.functional import cross_entropy\n",
    "import torchmetrics\n",
    "import timm\n",
    "from pytorch_lightning.loggers import WandbLogger\n",
    "import gc\n",
    "\n",
    "warnings.filterwarnings('ignore')"
   ]
  },
  {
   "cell_type": "code",
   "execution_count": 62,
   "id": "3c49c88b-24df-47b7-8686-e74be02c677e",
   "metadata": {},
   "outputs": [],
   "source": [
    "PATH = r'./kaggle/input/birdclef-2024/'"
   ]
  },
  {
   "cell_type": "markdown",
   "id": "596051ae-1365-4642-b700-2eab946734d1",
   "metadata": {},
   "source": [
    "## Import Data"
   ]
  },
  {
   "cell_type": "code",
   "execution_count": 63,
   "id": "f52c095f-f992-4dd8-8f2b-c2017d8f910a",
   "metadata": {},
   "outputs": [
    {
     "data": {
      "text/html": [
       "<div>\n",
       "<style scoped>\n",
       "    .dataframe tbody tr th:only-of-type {\n",
       "        vertical-align: middle;\n",
       "    }\n",
       "\n",
       "    .dataframe tbody tr th {\n",
       "        vertical-align: top;\n",
       "    }\n",
       "\n",
       "    .dataframe thead th {\n",
       "        text-align: right;\n",
       "    }\n",
       "</style>\n",
       "<table border=\"1\" class=\"dataframe\">\n",
       "  <thead>\n",
       "    <tr style=\"text-align: right;\">\n",
       "      <th></th>\n",
       "      <th>primary_label</th>\n",
       "      <th>secondary_labels</th>\n",
       "      <th>type</th>\n",
       "      <th>latitude</th>\n",
       "      <th>longitude</th>\n",
       "      <th>scientific_name</th>\n",
       "      <th>common_name</th>\n",
       "      <th>author</th>\n",
       "      <th>license</th>\n",
       "      <th>rating</th>\n",
       "      <th>url</th>\n",
       "      <th>filename</th>\n",
       "    </tr>\n",
       "  </thead>\n",
       "  <tbody>\n",
       "    <tr>\n",
       "      <th>0</th>\n",
       "      <td>asbfly</td>\n",
       "      <td>[]</td>\n",
       "      <td>['call']</td>\n",
       "      <td>39.2297</td>\n",
       "      <td>118.1987</td>\n",
       "      <td>Muscicapa dauurica</td>\n",
       "      <td>Asian Brown Flycatcher</td>\n",
       "      <td>Matt Slaymaker</td>\n",
       "      <td>Creative Commons Attribution-NonCommercial-Sha...</td>\n",
       "      <td>5.0</td>\n",
       "      <td>https://www.xeno-canto.org/134896</td>\n",
       "      <td>asbfly/XC134896.ogg</td>\n",
       "    </tr>\n",
       "    <tr>\n",
       "      <th>1</th>\n",
       "      <td>asbfly</td>\n",
       "      <td>[]</td>\n",
       "      <td>['song']</td>\n",
       "      <td>51.4030</td>\n",
       "      <td>104.6401</td>\n",
       "      <td>Muscicapa dauurica</td>\n",
       "      <td>Asian Brown Flycatcher</td>\n",
       "      <td>Magnus Hellström</td>\n",
       "      <td>Creative Commons Attribution-NonCommercial-Sha...</td>\n",
       "      <td>2.5</td>\n",
       "      <td>https://www.xeno-canto.org/164848</td>\n",
       "      <td>asbfly/XC164848.ogg</td>\n",
       "    </tr>\n",
       "    <tr>\n",
       "      <th>2</th>\n",
       "      <td>asbfly</td>\n",
       "      <td>[]</td>\n",
       "      <td>['song']</td>\n",
       "      <td>36.3319</td>\n",
       "      <td>127.3555</td>\n",
       "      <td>Muscicapa dauurica</td>\n",
       "      <td>Asian Brown Flycatcher</td>\n",
       "      <td>Stuart Fisher</td>\n",
       "      <td>Creative Commons Attribution-NonCommercial-Sha...</td>\n",
       "      <td>2.5</td>\n",
       "      <td>https://www.xeno-canto.org/175797</td>\n",
       "      <td>asbfly/XC175797.ogg</td>\n",
       "    </tr>\n",
       "    <tr>\n",
       "      <th>3</th>\n",
       "      <td>asbfly</td>\n",
       "      <td>[]</td>\n",
       "      <td>['call']</td>\n",
       "      <td>21.1697</td>\n",
       "      <td>70.6005</td>\n",
       "      <td>Muscicapa dauurica</td>\n",
       "      <td>Asian Brown Flycatcher</td>\n",
       "      <td>vir joshi</td>\n",
       "      <td>Creative Commons Attribution-NonCommercial-Sha...</td>\n",
       "      <td>4.0</td>\n",
       "      <td>https://www.xeno-canto.org/207738</td>\n",
       "      <td>asbfly/XC207738.ogg</td>\n",
       "    </tr>\n",
       "    <tr>\n",
       "      <th>4</th>\n",
       "      <td>asbfly</td>\n",
       "      <td>[]</td>\n",
       "      <td>['call']</td>\n",
       "      <td>15.5442</td>\n",
       "      <td>73.7733</td>\n",
       "      <td>Muscicapa dauurica</td>\n",
       "      <td>Asian Brown Flycatcher</td>\n",
       "      <td>Albert Lastukhin &amp; Sergei Karpeev</td>\n",
       "      <td>Creative Commons Attribution-NonCommercial-Sha...</td>\n",
       "      <td>4.0</td>\n",
       "      <td>https://www.xeno-canto.org/209218</td>\n",
       "      <td>asbfly/XC209218.ogg</td>\n",
       "    </tr>\n",
       "  </tbody>\n",
       "</table>\n",
       "</div>"
      ],
      "text/plain": [
       "  primary_label secondary_labels      type  latitude  longitude  \\\n",
       "0        asbfly               []  ['call']   39.2297   118.1987   \n",
       "1        asbfly               []  ['song']   51.4030   104.6401   \n",
       "2        asbfly               []  ['song']   36.3319   127.3555   \n",
       "3        asbfly               []  ['call']   21.1697    70.6005   \n",
       "4        asbfly               []  ['call']   15.5442    73.7733   \n",
       "\n",
       "      scientific_name             common_name  \\\n",
       "0  Muscicapa dauurica  Asian Brown Flycatcher   \n",
       "1  Muscicapa dauurica  Asian Brown Flycatcher   \n",
       "2  Muscicapa dauurica  Asian Brown Flycatcher   \n",
       "3  Muscicapa dauurica  Asian Brown Flycatcher   \n",
       "4  Muscicapa dauurica  Asian Brown Flycatcher   \n",
       "\n",
       "                              author  \\\n",
       "0                     Matt Slaymaker   \n",
       "1                   Magnus Hellström   \n",
       "2                      Stuart Fisher   \n",
       "3                          vir joshi   \n",
       "4  Albert Lastukhin & Sergei Karpeev   \n",
       "\n",
       "                                             license  rating  \\\n",
       "0  Creative Commons Attribution-NonCommercial-Sha...     5.0   \n",
       "1  Creative Commons Attribution-NonCommercial-Sha...     2.5   \n",
       "2  Creative Commons Attribution-NonCommercial-Sha...     2.5   \n",
       "3  Creative Commons Attribution-NonCommercial-Sha...     4.0   \n",
       "4  Creative Commons Attribution-NonCommercial-Sha...     4.0   \n",
       "\n",
       "                                 url             filename  \n",
       "0  https://www.xeno-canto.org/134896  asbfly/XC134896.ogg  \n",
       "1  https://www.xeno-canto.org/164848  asbfly/XC164848.ogg  \n",
       "2  https://www.xeno-canto.org/175797  asbfly/XC175797.ogg  \n",
       "3  https://www.xeno-canto.org/207738  asbfly/XC207738.ogg  \n",
       "4  https://www.xeno-canto.org/209218  asbfly/XC209218.ogg  "
      ]
     },
     "execution_count": 63,
     "metadata": {},
     "output_type": "execute_result"
    }
   ],
   "source": [
    "df = pd.read_csv(fr'{PATH}/train_metadata.csv')\n",
    "df.head()"
   ]
  },
  {
   "cell_type": "code",
   "execution_count": 64,
   "id": "729856ba-e4a6-440b-ac6d-547c0a188673",
   "metadata": {},
   "outputs": [
    {
     "data": {
      "text/plain": [
       "array([500, 420, 405, 302, 278, 276, 275, 274, 273, 271, 268, 237, 235,\n",
       "       231, 226, 224, 219, 217, 210, 201, 198, 189, 185, 173, 167, 163,\n",
       "       155, 153, 150, 142, 141, 139, 137, 135, 127, 125, 124, 123, 122,\n",
       "       115, 114, 113, 109, 107, 105, 104, 102, 101,  96,  92,  90,  89,\n",
       "        86,  79,  77,  76,  75,  71,  70,  67,  63,  61,  60,  59,  58,\n",
       "        57,  56,  53,  52,  51,  49,  47,  46,  45,  44,  42,  41,  40,\n",
       "        39,  38,  37,  36,  35,  34,  33,  32,  31,  30,  29,  28,  27,\n",
       "        26,  25,  24,  22,  21,  20,  19,  17,  16,  15,  14,  13,  12,\n",
       "        10,   9,   8,   7,   6,   5])"
      ]
     },
     "execution_count": 64,
     "metadata": {},
     "output_type": "execute_result"
    }
   ],
   "source": [
    "df['primary_label'].value_counts().unique()"
   ]
  },
  {
   "cell_type": "code",
   "execution_count": 65,
   "id": "7a8af8d2-601b-443c-90d0-9550dac5a60f",
   "metadata": {},
   "outputs": [
    {
     "name": "stdout",
     "output_type": "stream",
     "text": [
      "182 182\n",
      "19567 4892\n"
     ]
    }
   ],
   "source": [
    "from sklearn.model_selection import train_test_split\n",
    "df_train, df_test = train_test_split(df, test_size=0.2, stratify=df['primary_label'], random_state=42)\n",
    "\n",
    "print(len(df_train['primary_label'].unique()), len(df_train['primary_label'].unique()))\n",
    "print(len(df_train), len(df_test))"
   ]
  },
  {
   "cell_type": "markdown",
   "id": "92d1f7fa-0925-47b4-8c71-5a9049eee761",
   "metadata": {},
   "source": [
    "## Audio to Image"
   ]
  },
  {
   "cell_type": "code",
   "execution_count": null,
   "id": "db90c96b-d71d-4472-b080-462389ae2972",
   "metadata": {},
   "outputs": [],
   "source": [
    "class Config:\n",
    "    audios_path = Path(fr\"{PATH}/train_audio\")\n",
    "    sampling_rate = 32000\n",
    "    duration = 15\n",
    "    fmin = 20\n",
    "    fmax = 16000\n",
    "    # Output path\n",
    "    train_path = Path(fr\"{PATH}/train\")\n",
    "    test_path = Path(fr\"{PATH}test\")\n",
    "\n",
    "Config.train_path.mkdir(exist_ok=True, parents=True)\n",
    "Config.test_path.mkdir(exist_ok=True, parents=True)"
   ]
  },
  {
   "cell_type": "code",
   "execution_count": 67,
   "id": "9910ca74-d75c-43b9-b2a0-ffb9ad6ef091",
   "metadata": {},
   "outputs": [],
   "source": [
    "def get_audio_info(filepath):\n",
    "    with SoundFile(filepath) as f:\n",
    "        sr = f.samplerate\n",
    "        frames = f.frames\n",
    "        duration = float(frames)/sr\n",
    "    return {\"frames\": frames, \"sr\": sr, \"duration\": duration}"
   ]
  },
  {
   "cell_type": "code",
   "execution_count": 68,
   "id": "df89b5f0-30b2-4396-92f3-e5a3383b04ac",
   "metadata": {},
   "outputs": [],
   "source": [
    "def add_path_df(df):\n",
    "    \n",
    "    df[\"path\"] = [str(Config.audios_path/filename) for filename in df.filename]\n",
    "    df = df.reset_index(drop=True)\n",
    "    pool = joblib.Parallel(2)\n",
    "    mapper = joblib.delayed(get_audio_info)\n",
    "    tasks = [mapper(filepath) for filepath in df.path]\n",
    "    df2 =  pd.DataFrame(pool(tqdm(tasks))).reset_index(drop=True)\n",
    "    df = pd.concat([df,df2], axis=1).reset_index(drop=True)\n",
    "\n",
    "    return df"
   ]
  },
  {
   "cell_type": "code",
   "execution_count": 69,
   "id": "c6e0d557-5d1a-45e2-b8c8-a1b44ffbe33c",
   "metadata": {},
   "outputs": [],
   "source": [
    "# df_train = add_path_df(df_train)\n",
    "# df_train.to_csv(fr\"{PATH}/df_train.csv\", index=False)"
   ]
  },
  {
   "cell_type": "code",
   "execution_count": 70,
   "id": "d267f62c-d717-44e6-9756-494b433130f0",
   "metadata": {},
   "outputs": [],
   "source": [
    "# df_test = add_path_df(df_test)\n",
    "# df_test.to_csv(fr\"{PATH}/df_test.csv\", index=False)"
   ]
  },
  {
   "cell_type": "code",
   "execution_count": 71,
   "id": "fb3ec4e1-e3e6-4ce8-ad13-e0e53f213088",
   "metadata": {},
   "outputs": [],
   "source": [
    "def compute_melspec(y, sr, n_mels, fmin, fmax):\n",
    "    melspec = lb.feature.melspectrogram(\n",
    "        y=y, sr=sr, n_mels=n_mels, fmin=fmin, fmax=fmax,\n",
    "    )\n",
    "\n",
    "    melspec = lb.power_to_db(melspec).astype(np.float32)\n",
    "    return melspec\n",
    "\n",
    "def mono_to_color(X, eps=1e-6, mean=None, std=None):\n",
    "    mean = mean or X.mean()\n",
    "    std = std or X.std()\n",
    "    X = (X - mean) / (std + eps)\n",
    "    \n",
    "    _min, _max = X.min(), X.max()\n",
    "\n",
    "    if (_max - _min) > eps:\n",
    "        V = np.clip(X, _min, _max)\n",
    "        V = 255 * (V - _min) / (_max - _min)\n",
    "        V = V.astype(np.uint8)\n",
    "    else:\n",
    "        V = np.zeros_like(X, dtype=np.uint8)\n",
    "\n",
    "    return V\n",
    "\n",
    "def crop_or_pad(y, length, is_train=True, start=None):\n",
    "    if len(y) < length:\n",
    "        y = np.concatenate([y, np.zeros(length - len(y))])\n",
    "        \n",
    "        n_repeats = length // len(y)\n",
    "        epsilon = length % len(y)\n",
    "        \n",
    "        y = np.concatenate([y]*n_repeats + [y[:epsilon]])\n",
    "        \n",
    "    elif len(y) > length:\n",
    "        if not is_train:\n",
    "            start = start or 0\n",
    "        else:\n",
    "            start = start or np.random.randint(len(y) - length)\n",
    "\n",
    "        y = y[start:start + length]\n",
    "\n",
    "    return y"
   ]
  },
  {
   "cell_type": "code",
   "execution_count": 72,
   "id": "3a851c46-c138-4fa9-8538-633526a4c759",
   "metadata": {},
   "outputs": [],
   "source": [
    "class AudioToImage:\n",
    "    def __init__(self, sr=Config.sampling_rate, n_mels=128, fmin=Config.fmin, fmax=Config.fmax, duration=Config.duration, step=None, res_type=\"kaiser_fast\", resample=True, train = True):\n",
    "\n",
    "        self.sr = sr\n",
    "        self.n_mels = n_mels\n",
    "        self.fmin = fmin\n",
    "        self.fmax = fmax or self.sr//2\n",
    "\n",
    "        self.duration = duration\n",
    "        self.audio_length = self.duration*self.sr\n",
    "        self.step = step or self.audio_length\n",
    "        \n",
    "        self.res_type = res_type\n",
    "        self.resample = resample\n",
    "\n",
    "        self.train = train\n",
    "    def audio_to_image(self, audio):\n",
    "        melspec = compute_melspec(audio, self.sr, self.n_mels, self.fmin, self.fmax ) \n",
    "        image = mono_to_color(melspec)\n",
    "#         compute_melspec(y, sr, n_mels, fmin, fmax)\n",
    "        return image\n",
    "\n",
    "    def __call__(self, row, save=True):\n",
    "\n",
    "      y, orig_sr = lb.load(row.path)\n",
    "      audio = nr.reduce_noise(y=y, sr=orig_sr)\n",
    "        \n",
    "      if self.resample and orig_sr != self.sr:\n",
    "          audio = lb.resample(y = audio, orig_sr = orig_sr, target_sr = self.sr, res_type=self.res_type)\n",
    "    \n",
    "      audios = [audio[i:i+self.audio_length] for i in range(0, max(1, len(audio) - self.audio_length + 1), self.step)]\n",
    "      audios[-1] = crop_or_pad(audios[-1] , length=self.audio_length)\n",
    "      images = [self.audio_to_image(audio) for audio in audios]\n",
    "      images = np.stack(images)\n",
    "        \n",
    "      if save:\n",
    "        if self.train:\n",
    "            path = Config.train_path/f\"{row.filename}.npy\"\n",
    "        else:\n",
    "            path = Config.test_path/f\"{row.filename}.npy\"\n",
    "            \n",
    "        path.parent.mkdir(exist_ok=True, parents=True)\n",
    "        np.save(str(path), images)\n",
    "      else:\n",
    "        return  row.filename, images"
   ]
  },
  {
   "cell_type": "code",
   "execution_count": 73,
   "id": "a2b64177-f367-4d05-b448-bc94144daae9",
   "metadata": {},
   "outputs": [],
   "source": [
    "tqdm.pandas()"
   ]
  },
  {
   "cell_type": "code",
   "execution_count": 74,
   "id": "39063201-6a9d-4625-8ca0-82d94a747b6f",
   "metadata": {},
   "outputs": [],
   "source": [
    "def get_audios_as_images(df, train = True):\n",
    "    pool = joblib.Parallel(2)\n",
    "    \n",
    "    converter = AudioToImage(step=int(Config.duration*0.666*Config.sampling_rate),train=train)\n",
    "    mapper = joblib.delayed(converter)\n",
    "    tasks = [mapper(row) for row in df.itertuples(False)]\n",
    "    pool(tqdm(tasks))"
   ]
  },
  {
   "cell_type": "code",
   "execution_count": 75,
   "id": "325771c1-46c1-4c47-8dcc-86819c8c4d83",
   "metadata": {
    "scrolled": true
   },
   "outputs": [],
   "source": [
    "# get_audios_as_images(df_train, train = True)\n",
    "# get_audios_as_images(df_test, train = False)"
   ]
  },
  {
   "cell_type": "markdown",
   "id": "4a282fbb-7ba4-4c21-bca2-3377b16809da",
   "metadata": {},
   "source": [
    "## Training"
   ]
  },
  {
   "cell_type": "code",
   "execution_count": 76,
   "id": "623957e6-ffc0-495b-940e-d70cbf16ce26",
   "metadata": {},
   "outputs": [],
   "source": [
    "class Config:\n",
    "    use_aug = False\n",
    "    num_classes = len(df_train.primary_label.unique())\n",
    "    batch_size = 64\n",
    "    epochs = 10\n",
    "    PRECISION = 16    \n",
    "    PATIENCE = 8    \n",
    "    seed = 42\n",
    "    model = \"tf_efficientnet_b0_ns\"\n",
    "    pretrained = True            \n",
    "    weight_decay = 1e-3\n",
    "    use_mixup = True\n",
    "    mixup_alpha = 0.2   \n",
    "    DEVICE = torch.device('cuda' if torch.cuda.is_available() else 'cpu')    \n",
    "\n",
    "    train_images = PATH+\"/train/\"\n",
    "    valid_images = PATH + \"/test/\"\n",
    "    train_path = PATH+\"/df_train.csv\"\n",
    "    test_path = PATH+\"/df_test.csv\"\n",
    "    \n",
    "    \n",
    "    SR = 32000\n",
    "    DURATION = 10\n",
    "    MAX_READ_SAMPLES = 5\n",
    "    LR = 5e-4"
   ]
  },
  {
   "cell_type": "code",
   "execution_count": 77,
   "id": "63a6cf70-df03-4e95-8a9e-81fb586b14e1",
   "metadata": {},
   "outputs": [
    {
     "name": "stderr",
     "output_type": "stream",
     "text": [
      "Seed set to 42\n"
     ]
    },
    {
     "data": {
      "text/plain": [
       "42"
      ]
     },
     "execution_count": 77,
     "metadata": {},
     "output_type": "execute_result"
    }
   ],
   "source": [
    "pl.seed_everything(Config.seed, workers=True)"
   ]
  },
  {
   "cell_type": "code",
   "execution_count": 78,
   "id": "821a1cfa-3721-44e9-9f59-d7c299c30577",
   "metadata": {},
   "outputs": [],
   "source": [
    "def config_to_dict(cfg):\n",
    "    return dict((name, getattr(cfg, name)) for name in dir(cfg) if not name.startswith('__'))"
   ]
  },
  {
   "cell_type": "code",
   "execution_count": 79,
   "id": "f9a08975-a86e-4055-aa7b-ba247aeb96ce",
   "metadata": {},
   "outputs": [],
   "source": [
    "df_train = pd.read_csv(Config.train_path)\n",
    "df_test = pd.read_csv(Config.test_path)\n",
    "df_train = pd.concat([df_train, pd.get_dummies(df_train['primary_label'])], axis=1)\n",
    "df_test = pd.concat([df_test, pd.get_dummies(df_test['primary_label'])], axis=1)"
   ]
  },
  {
   "cell_type": "code",
   "execution_count": 80,
   "id": "e34ab232-4fac-4ce9-8af2-2c044cf08a9d",
   "metadata": {},
   "outputs": [],
   "source": [
    "class BirdDataset(torch.utils.data.Dataset):\n",
    "\n",
    "    def __init__(self, df, sr = Config.SR, duration = Config.DURATION, augmentations = None, train = True):\n",
    "\n",
    "        self.df = df\n",
    "        self.sr = sr \n",
    "        self.train = train\n",
    "        self.duration = duration\n",
    "        self.augmentations = augmentations\n",
    "        if train:\n",
    "            self.img_dir = Config.train_images\n",
    "        else:\n",
    "            self.img_dir = Config.valid_images\n",
    "\n",
    "    def __len__(self):\n",
    "        return len(self.df)\n",
    "\n",
    "    @staticmethod\n",
    "    def normalize(image):\n",
    "        image = image / 255.0\n",
    "        #image = torch.stack([image, image, image])\n",
    "        return image\n",
    "\n",
    "    def __getitem__(self, idx):\n",
    "\n",
    "        row = self.df.iloc[idx]\n",
    "        impath = self.img_dir + f\"{row.filename}.npy\"\n",
    "\n",
    "        image = np.load(str(impath))[:Config.MAX_READ_SAMPLES]\n",
    "        \n",
    "        ########## RANDOM SAMPLING ################\n",
    "        if self.train:\n",
    "            image = image[np.random.choice(len(image))]\n",
    "        else:\n",
    "            image = image[0]\n",
    "            \n",
    "        #####################################################################\n",
    "        \n",
    "        image = torch.tensor(image).float()\n",
    "\n",
    "        if self.augmentations:\n",
    "            image = self.augmentations(image.unsqueeze(0)).squeeze()\n",
    "            \n",
    "        image.size()\n",
    "        \n",
    "        image = torch.stack([image, image, image])\n",
    "\n",
    "        image = self.normalize(image)\n",
    "\n",
    "\n",
    "        return image, torch.tensor(row[16:]).float()"
   ]
  },
  {
   "cell_type": "code",
   "execution_count": 81,
   "id": "85e9165b-f619-4e57-b72e-17e8b98f0629",
   "metadata": {},
   "outputs": [],
   "source": [
    "def get_fold_dls(df_train, df_test):\n",
    "\n",
    "    ds_train = BirdDataset(\n",
    "        df_train, \n",
    "        sr = Config.SR,\n",
    "        duration = Config.DURATION,\n",
    "        train = True\n",
    "    )\n",
    "    ds_test = BirdDataset(\n",
    "        df_test, \n",
    "        sr = Config.SR,\n",
    "        duration = Config.DURATION,\n",
    "        train = False\n",
    "    )\n",
    "    dl_train = DataLoader(ds_train, batch_size=Config.batch_size , shuffle=True, num_workers = 2)    \n",
    "    dl_test = DataLoader(ds_test, batch_size=Config.batch_size, num_workers = 2)\n",
    "    return dl_train, dl_test, ds_train, ds_test"
   ]
  },
  {
   "cell_type": "code",
   "execution_count": 82,
   "id": "6cb45501-29ce-41f0-a38d-70f5f88d93d2",
   "metadata": {},
   "outputs": [],
   "source": [
    "def show_batch(img_ds, num_items, num_rows, num_cols, predict_arr=None):\n",
    "    fig = plt.figure(figsize=(12, 6))    \n",
    "    img_index = np.random.randint(0, len(img_ds)-1, num_items)\n",
    "    for index, img_index in enumerate(img_index):  # list first 9 images\n",
    "        img, lb = img_ds[img_index]        \n",
    "        ax = fig.add_subplot(num_rows, num_cols, index + 1, xticks=[], yticks=[])\n",
    "        if isinstance(img, torch.Tensor):\n",
    "            img = img.detach().numpy()\n",
    "        if isinstance(img, np.ndarray):\n",
    "            img = img.transpose(1, 2, 0)\n",
    "            ax.imshow(img)        \n",
    "            \n",
    "        title = f\"Spec\"\n",
    "        ax.set_title(title)  "
   ]
  },
  {
   "cell_type": "code",
   "execution_count": 83,
   "id": "f18f8548-099a-44b4-adf6-244d90313d2c",
   "metadata": {},
   "outputs": [
    {
     "data": {
      "image/png": "[encoded data removed]",
      "text/plain": [
       "<Figure size 1200x600 with 8 Axes>"
      ]
     },
     "metadata": {},
     "output_type": "display_data"
    }
   ],
   "source": [
    "dl_train, dl_test, ds_train, ds_test = get_fold_dls(df_train, df_test)\n",
    "show_batch(ds_test, 8, 2, 4)"
   ]
  },
  {
   "cell_type": "code",
   "execution_count": 84,
   "id": "f1aed6b5-739e-437c-abb8-0546c34e475d",
   "metadata": {},
   "outputs": [],
   "source": [
    "def get_optimizer(lr, params):\n",
    "    model_optimizer = torch.optim.Adam(\n",
    "            filter(lambda p: p.requires_grad, params), \n",
    "            lr=lr,\n",
    "            weight_decay=Config.weight_decay\n",
    "        )\n",
    "    interval = \"epoch\"\n",
    "    \n",
    "    lr_scheduler = CosineAnnealingWarmRestarts(\n",
    "                            model_optimizer, \n",
    "                            T_0=Config.epochs, \n",
    "                            T_mult=1, \n",
    "                            eta_min=1e-6, \n",
    "                            last_epoch=-1\n",
    "                        )\n",
    "\n",
    "    return {\n",
    "        \"optimizer\": model_optimizer, \n",
    "        \"lr_scheduler\": {\n",
    "            \"scheduler\": lr_scheduler,\n",
    "            \"interval\": interval,\n",
    "            \"monitor\": \"val_loss\",\n",
    "            \"frequency\": 1\n",
    "        }\n",
    "    }"
   ]
  },
  {
   "cell_type": "code",
   "execution_count": 85,
   "id": "0b92ab86-d17f-49f7-8116-5ae2d503b408",
   "metadata": {},
   "outputs": [],
   "source": [
    "import sklearn.metrics\n",
    "\n",
    "def padded_cmap(solution, submission, padding_factor=5):\n",
    "    solution = solution#.drop(['row_id'], axis=1, errors='ignore')\n",
    "    submission = submission#.drop(['row_id'], axis=1, errors='ignore')\n",
    "    new_rows = []\n",
    "    for i in range(padding_factor):\n",
    "        new_rows.append([1 for i in range(len(solution.columns))])\n",
    "    new_rows = pd.DataFrame(new_rows)\n",
    "    new_rows.columns = solution.columns\n",
    "    padded_solution = pd.concat([solution, new_rows]).reset_index(drop=True).copy()\n",
    "    padded_submission = pd.concat([submission, new_rows]).reset_index(drop=True).copy()\n",
    "    score = sklearn.metrics.average_precision_score(\n",
    "        padded_solution.values,\n",
    "        padded_submission.values,\n",
    "        average='macro',\n",
    "    )\n",
    "    return score"
   ]
  },
  {
   "cell_type": "code",
   "execution_count": 91,
   "id": "5b9d9948",
   "metadata": {},
   "outputs": [],
   "source": [
    "birds = list(df_train.primary_label.unique())"
   ]
  },
  {
   "cell_type": "code",
   "execution_count": 93,
   "id": "a7ae31e1-5f10-4d7e-8881-9c266f9ec4ba",
   "metadata": {},
   "outputs": [],
   "source": [
    "class BirdClefModel(pl.LightningModule):\n",
    "    def __init__(self, model_name=Config.model, num_classes = Config.num_classes, pretrained = Config.pretrained):\n",
    "        super().__init__()\n",
    "        self.num_classes = num_classes\n",
    "\n",
    "        self.backbone = timm.create_model(model_name, pretrained=pretrained)\n",
    "\n",
    "        if 'res' in model_name:\n",
    "            self.in_features = self.backbone.fc.in_features\n",
    "            self.backbone.fc = nn.Linear(self.in_features, num_classes)\n",
    "        elif 'dense' in model_name:\n",
    "            self.in_features = self.backbone.classifier.in_features\n",
    "            self.backbone.classifier = nn.Linear(self.in_features, num_classes)\n",
    "        elif 'efficientnet' in model_name:\n",
    "            self.in_features = self.backbone.classifier.in_features\n",
    "            self.backbone.classifier = nn.Sequential(\n",
    "                nn.Linear(self.in_features, num_classes)\n",
    "            )\n",
    "        \n",
    "        self.loss_function = nn.BCEWithLogitsLoss() \n",
    "\n",
    "    def forward(self,images):\n",
    "        logits = self.backbone(images)\n",
    "        return logits\n",
    "        \n",
    "    def configure_optimizers(self):\n",
    "        return get_optimizer(lr=Config.LR, params=self.parameters())\n",
    "\n",
    "    def train_with_mixup(self, X, y):\n",
    "        X, y_a, y_b, lam = mixup_data(X, y, alpha=Config.mixup_alpha)\n",
    "        y_pred = self(X)\n",
    "        loss_mixup = mixup_criterion(cross_entropy, y_pred, y_a, y_b, lam)\n",
    "        return loss_mixup\n",
    "\n",
    "    def training_step(self, batch, batch_idx):\n",
    "        image, target = batch        \n",
    "        if Config.use_mixup:\n",
    "            loss = self.train_with_mixup(image, target)\n",
    "        else:\n",
    "            y_pred = self(image)\n",
    "            loss = self.loss_function(y_pred,target)\n",
    "\n",
    "        self.log(\"train_loss\", loss, on_step=True, on_epoch=True, prog_bar=True)\n",
    "        return loss        \n",
    "\n",
    "    def validation_step(self, batch, batch_idx):\n",
    "        image, target = batch     \n",
    "        y_pred = self(image)\n",
    "        val_loss = self.loss_function(y_pred, target)\n",
    "        self.log(\"val_loss\", val_loss, on_step=True, on_epoch=True, logger=True, prog_bar=True)\n",
    "        \n",
    "        return {\"val_loss\": val_loss, \"logits\": y_pred, \"targets\": target}\n",
    "    \n",
    "    def train_dataloader(self):\n",
    "        return self._train_dataloader \n",
    "    \n",
    "    def validation_dataloader(self):\n",
    "        return self._validation_dataloader\n",
    "    \n",
    "    def on_validation_batch_end(self, outputs, batch, batch_idx, dataloader_idx=0):\n",
    "        if batch_idx == 0:\n",
    "            self._logits = []\n",
    "            self._targets = []\n",
    "            self._val_loss = []\n",
    "\n",
    "        self._logits.append(outputs[\"logits\"])\n",
    "        self._targets.append(outputs[\"targets\"])\n",
    "        self._val_loss.append(outputs[\"val_loss\"])\n",
    "\n",
    "    def on_validation_epoch_end(self):\n",
    "        output_val = torch.cat(self._logits, dim=0).sigmoid().cpu().detach().numpy()\n",
    "        target_val = torch.cat(self._targets, dim=0).cpu().detach().numpy()\n",
    "        avg_loss = torch.stack(self._val_loss).mean()\n",
    "\n",
    "        # print(output_val.shape)\n",
    "        val_df = pd.DataFrame(target_val, columns = birds)\n",
    "        pred_df = pd.DataFrame(output_val, columns = birds)\n",
    "        \n",
    "        avg_score = padded_cmap(val_df, pred_df, padding_factor = 5)\n",
    "        avg_score2 = padded_cmap(val_df, pred_df, padding_factor = 3)\n",
    "        avg_score3 = sklearn.metrics.label_ranking_average_precision_score(target_val,output_val)\n",
    "        \n",
    "#         competition_metrics(output_val,target_val)\n",
    "        print(f'epoch {self.current_epoch} validation loss {avg_loss}')\n",
    "        print(f'epoch {self.current_epoch} validation C-MAP score pad 5 {avg_score}')\n",
    "        print(f'epoch {self.current_epoch} validation C-MAP score pad 3 {avg_score2}')\n",
    "        print(f'epoch {self.current_epoch} validation AP score {avg_score3}')\n",
    "        \n",
    "        \n",
    "        val_df.to_pickle('val_df.pkl')\n",
    "        pred_df.to_pickle('pred_df.pkl')\n",
    "        \n",
    "        \n",
    "        return {'val_loss': avg_loss,'val_cmap':avg_score}"
   ]
  },
  {
   "cell_type": "code",
   "execution_count": 94,
   "id": "42ea95d8-421c-4757-b3f8-0c9ff520fd26",
   "metadata": {},
   "outputs": [],
   "source": [
    "def run_training():\n",
    "    print(f\"Running training...\")\n",
    "    logger = None\n",
    "    \n",
    "    dl_train, dl_test, ds_train, ds_test = get_fold_dls(df_train, df_test)\n",
    "    \n",
    "    audio_model = BirdClefModel()\n",
    "\n",
    "    early_stop_callback = EarlyStopping(monitor=\"val_loss\", min_delta=0.00, patience=Config.PATIENCE, verbose= True, mode=\"min\")\n",
    "    checkpoint_callback = ModelCheckpoint(monitor='val_loss',\n",
    "                                      dirpath= \"exp1/\",\n",
    "                                      save_top_k=1,\n",
    "                                      save_last= True,\n",
    "                                      save_weights_only=True,\n",
    "                                      filename= f'./{Config.model}_loss',\n",
    "                                      verbose= True,\n",
    "                                      mode='min')\n",
    "    \n",
    "    callbacks_to_use = [checkpoint_callback,early_stop_callback]\n",
    "\n",
    "\n",
    "    trainer = pl.Trainer(\n",
    "        val_check_interval=0.5,\n",
    "        deterministic=True,\n",
    "        max_epochs=Config.epochs,\n",
    "        logger=logger,\n",
    "        callbacks=callbacks_to_use,\n",
    "        precision=Config.PRECISION\n",
    "    )\n",
    "\n",
    "    print(\"Running trainer.fit\")\n",
    "    trainer.fit(audio_model, train_dataloaders = dl_train, val_dataloaders = dl_test)                \n",
    "\n",
    "    gc.collect()"
   ]
  },
  {
   "cell_type": "code",
   "execution_count": 88,
   "id": "52766b4b",
   "metadata": {},
   "outputs": [],
   "source": [
    "torch.set_float32_matmul_precision('medium')"
   ]
  },
  {
   "cell_type": "code",
   "execution_count": 95,
   "id": "19057772-c27b-4f8d-acd3-c6d112f68abc",
   "metadata": {},
   "outputs": [
    {
     "name": "stdout",
     "output_type": "stream",
     "text": [
      "Running training...\n"
     ]
    },
    {
     "name": "stderr",
     "output_type": "stream",
     "text": [
      "Using 16bit Automatic Mixed Precision (AMP)\n",
      "GPU available: True (cuda), used: True\n",
      "TPU available: False, using: 0 TPU cores\n",
      "HPU available: False, using: 0 HPUs\n",
      "LOCAL_RANK: 0 - CUDA_VISIBLE_DEVICES: [0]\n",
      "\n",
      "  | Name          | Type              | Params | Mode \n",
      "------------------------------------------------------------\n",
      "0 | backbone      | EfficientNet      | 4.2 M  | train\n",
      "1 | loss_function | BCEWithLogitsLoss | 0      | train\n",
      "------------------------------------------------------------\n",
      "4.2 M     Trainable params\n",
      "0         Non-trainable params\n",
      "4.2 M     Total params\n",
      "16.963    Total estimated model params size (MB)\n",
      "339       Modules in train mode\n",
      "0         Modules in eval mode\n"
     ]
    },
    {
     "name": "stdout",
     "output_type": "stream",
     "text": [
      "Running trainer.fit\n"
     ]
    },
    {
     "data": {
      "application/vnd.jupyter.widget-view+json": {
       "model_id": "14083d7ce4864ebdab59e45a74771a51",
       "version_major": 2,
       "version_minor": 0
      },
      "text/plain": [
       "Sanity Checking: |          | 0/? [00:00<?, ?it/s]"
      ]
     },
     "metadata": {},
     "output_type": "display_data"
    },
    {
     "name": "stdout",
     "output_type": "stream",
     "text": [
      "epoch 0 validation loss 0.7005347013473511\n",
      "epoch 0 validation C-MAP score pad 5 0.9195504627901405\n",
      "epoch 0 validation C-MAP score pad 3 0.88350206329535\n",
      "epoch 0 validation AP score 0.019142698667147552\n"
     ]
    },
    {
     "data": {
      "application/vnd.jupyter.widget-view+json": {
       "model_id": "6d12cfc6bb6e4fe89dd2f9b7721f71a0",
       "version_major": 2,
       "version_minor": 0
      },
      "text/plain": [
       "Training: |          | 0/? [00:00<?, ?it/s]"
      ]
     },
     "metadata": {},
     "output_type": "display_data"
    },
    {
     "data": {
      "application/vnd.jupyter.widget-view+json": {
       "model_id": "7ac786ee77bf452aa6482e41ba5c2c1a",
       "version_major": 2,
       "version_minor": 0
      },
      "text/plain": [
       "Validation: |          | 0/? [00:00<?, ?it/s]"
      ]
     },
     "metadata": {},
     "output_type": "display_data"
    },
    {
     "name": "stderr",
     "output_type": "stream",
     "text": [
      "Metric val_loss improved. New best score: 0.454\n",
      "Epoch 0, global step 153: 'val_loss' reached 0.45392 (best 0.45392), saving model to '/home/rma86/CSE6740-BirdCLEF/exp1/./tf_efficientnet_b0_ns_loss.ckpt' as top 1\n"
     ]
    },
    {
     "name": "stdout",
     "output_type": "stream",
     "text": [
      "epoch 0 validation loss 0.4540197551250458\n",
      "epoch 0 validation C-MAP score pad 5 0.5489266844872995\n",
      "epoch 0 validation C-MAP score pad 3 0.4714390016520112\n",
      "epoch 0 validation AP score 0.6000766903743902\n"
     ]
    },
    {
     "data": {
      "application/vnd.jupyter.widget-view+json": {
       "model_id": "15ed85fb921d47e0839615c3f9d04ec3",
       "version_major": 2,
       "version_minor": 0
      },
      "text/plain": [
       "Validation: |          | 0/? [00:00<?, ?it/s]"
      ]
     },
     "metadata": {},
     "output_type": "display_data"
    },
    {
     "name": "stderr",
     "output_type": "stream",
     "text": [
      "Metric val_loss improved by 0.025 >= min_delta = 0.0. New best score: 0.429\n",
      "Epoch 0, global step 306: 'val_loss' reached 0.42905 (best 0.42905), saving model to '/home/rma86/CSE6740-BirdCLEF/exp1/./tf_efficientnet_b0_ns_loss.ckpt' as top 1\n"
     ]
    },
    {
     "name": "stdout",
     "output_type": "stream",
     "text": [
      "epoch 0 validation loss 0.42895251512527466\n",
      "epoch 0 validation C-MAP score pad 5 0.6370116334832628\n",
      "epoch 0 validation C-MAP score pad 3 0.5676138503140622\n",
      "epoch 0 validation AP score 0.678786409108399\n"
     ]
    },
    {
     "data": {
      "application/vnd.jupyter.widget-view+json": {
       "model_id": "67d20143ffdb41fda9a8cf9d4528949d",
       "version_major": 2,
       "version_minor": 0
      },
      "text/plain": [
       "Validation: |          | 0/? [00:00<?, ?it/s]"
      ]
     },
     "metadata": {},
     "output_type": "display_data"
    },
    {
     "name": "stderr",
     "output_type": "stream",
     "text": [
      "Metric val_loss improved by 0.034 >= min_delta = 0.0. New best score: 0.395\n",
      "Epoch 1, global step 459: 'val_loss' reached 0.39485 (best 0.39485), saving model to '/home/rma86/CSE6740-BirdCLEF/exp1/./tf_efficientnet_b0_ns_loss.ckpt' as top 1\n"
     ]
    },
    {
     "name": "stdout",
     "output_type": "stream",
     "text": [
      "epoch 1 validation loss 0.394847571849823\n",
      "epoch 1 validation C-MAP score pad 5 0.6945534278717985\n",
      "epoch 1 validation C-MAP score pad 3 0.634066121856229\n",
      "epoch 1 validation AP score 0.7471019057828175\n"
     ]
    },
    {
     "data": {
      "application/vnd.jupyter.widget-view+json": {
       "model_id": "6510c980a9f44445b917516804006c36",
       "version_major": 2,
       "version_minor": 0
      },
      "text/plain": [
       "Validation: |          | 0/? [00:00<?, ?it/s]"
      ]
     },
     "metadata": {},
     "output_type": "display_data"
    },
    {
     "name": "stderr",
     "output_type": "stream",
     "text": [
      "Epoch 1, global step 612: 'val_loss' was not in top 1\n"
     ]
    },
    {
     "name": "stdout",
     "output_type": "stream",
     "text": [
      "epoch 1 validation loss 0.3953010141849518\n",
      "epoch 1 validation C-MAP score pad 5 0.7120320359488129\n",
      "epoch 1 validation C-MAP score pad 3 0.6534432337351015\n",
      "epoch 1 validation AP score 0.7627596569257328\n"
     ]
    },
    {
     "data": {
      "application/vnd.jupyter.widget-view+json": {
       "model_id": "d3ed9c62b4e74b26aa555bc39e4054d1",
       "version_major": 2,
       "version_minor": 0
      },
      "text/plain": [
       "Validation: |          | 0/? [00:00<?, ?it/s]"
      ]
     },
     "metadata": {},
     "output_type": "display_data"
    },
    {
     "name": "stderr",
     "output_type": "stream",
     "text": [
      "Epoch 2, global step 765: 'val_loss' was not in top 1\n"
     ]
    },
    {
     "name": "stdout",
     "output_type": "stream",
     "text": [
      "epoch 2 validation loss 0.39956343173980713\n",
      "epoch 2 validation C-MAP score pad 5 0.7268648600541319\n",
      "epoch 2 validation C-MAP score pad 3 0.6695320008162555\n",
      "epoch 2 validation AP score 0.766133177853313\n"
     ]
    },
    {
     "data": {
      "application/vnd.jupyter.widget-view+json": {
       "model_id": "5913456a234a4339bf7eccd587dd06a0",
       "version_major": 2,
       "version_minor": 0
      },
      "text/plain": [
       "Validation: |          | 0/? [00:00<?, ?it/s]"
      ]
     },
     "metadata": {},
     "output_type": "display_data"
    },
    {
     "name": "stderr",
     "output_type": "stream",
     "text": [
      "Epoch 2, global step 918: 'val_loss' was not in top 1\n"
     ]
    },
    {
     "name": "stdout",
     "output_type": "stream",
     "text": [
      "epoch 2 validation loss 0.4560239315032959\n",
      "epoch 2 validation C-MAP score pad 5 0.7425002993430808\n",
      "epoch 2 validation C-MAP score pad 3 0.6890355914804749\n",
      "epoch 2 validation AP score 0.7812322906231391\n"
     ]
    },
    {
     "data": {
      "application/vnd.jupyter.widget-view+json": {
       "model_id": "29be0c06004b436c8cf5a8d0741fe9b9",
       "version_major": 2,
       "version_minor": 0
      },
      "text/plain": [
       "Validation: |          | 0/? [00:00<?, ?it/s]"
      ]
     },
     "metadata": {},
     "output_type": "display_data"
    },
    {
     "name": "stderr",
     "output_type": "stream",
     "text": [
      "Epoch 3, global step 1071: 'val_loss' was not in top 1\n"
     ]
    },
    {
     "name": "stdout",
     "output_type": "stream",
     "text": [
      "epoch 3 validation loss 0.4648967683315277\n",
      "epoch 3 validation C-MAP score pad 5 0.7593433944411473\n",
      "epoch 3 validation C-MAP score pad 3 0.7082025711689648\n",
      "epoch 3 validation AP score 0.8022883259095154\n"
     ]
    },
    {
     "data": {
      "application/vnd.jupyter.widget-view+json": {
       "model_id": "e951df616e924f958e6dd7a9dbcee184",
       "version_major": 2,
       "version_minor": 0
      },
      "text/plain": [
       "Validation: |          | 0/? [00:00<?, ?it/s]"
      ]
     },
     "metadata": {},
     "output_type": "display_data"
    },
    {
     "name": "stderr",
     "output_type": "stream",
     "text": [
      "Epoch 3, global step 1224: 'val_loss' was not in top 1\n"
     ]
    },
    {
     "name": "stdout",
     "output_type": "stream",
     "text": [
      "epoch 3 validation loss 0.47687649726867676\n",
      "epoch 3 validation C-MAP score pad 5 0.7668550843786902\n",
      "epoch 3 validation C-MAP score pad 3 0.7185344032828899\n",
      "epoch 3 validation AP score 0.8069547605542835\n"
     ]
    },
    {
     "data": {
      "application/vnd.jupyter.widget-view+json": {
       "model_id": "c6bb1cfe661245e1ac3c4462a1f5605c",
       "version_major": 2,
       "version_minor": 0
      },
      "text/plain": [
       "Validation: |          | 0/? [00:00<?, ?it/s]"
      ]
     },
     "metadata": {},
     "output_type": "display_data"
    },
    {
     "name": "stderr",
     "output_type": "stream",
     "text": [
      "Epoch 4, global step 1377: 'val_loss' was not in top 1\n"
     ]
    },
    {
     "name": "stdout",
     "output_type": "stream",
     "text": [
      "epoch 4 validation loss 0.49540790915489197\n",
      "epoch 4 validation C-MAP score pad 5 0.778233137376284\n",
      "epoch 4 validation C-MAP score pad 3 0.73152599084912\n",
      "epoch 4 validation AP score 0.8140216028435499\n"
     ]
    },
    {
     "data": {
      "application/vnd.jupyter.widget-view+json": {
       "model_id": "accca3afbbaf4379b66b0b85d00291e8",
       "version_major": 2,
       "version_minor": 0
      },
      "text/plain": [
       "Validation: |          | 0/? [00:00<?, ?it/s]"
      ]
     },
     "metadata": {},
     "output_type": "display_data"
    },
    {
     "name": "stderr",
     "output_type": "stream",
     "text": [
      "Epoch 4, global step 1530: 'val_loss' was not in top 1\n"
     ]
    },
    {
     "name": "stdout",
     "output_type": "stream",
     "text": [
      "epoch 4 validation loss 0.5151873230934143\n",
      "epoch 4 validation C-MAP score pad 5 0.781496556535065\n",
      "epoch 4 validation C-MAP score pad 3 0.7353426026955933\n",
      "epoch 4 validation AP score 0.8274639483671528\n"
     ]
    },
    {
     "data": {
      "application/vnd.jupyter.widget-view+json": {
       "model_id": "a04003f8407440b48e75ec90230a9af4",
       "version_major": 2,
       "version_minor": 0
      },
      "text/plain": [
       "Validation: |          | 0/? [00:00<?, ?it/s]"
      ]
     },
     "metadata": {},
     "output_type": "display_data"
    },
    {
     "name": "stderr",
     "output_type": "stream",
     "text": [
      "Monitored metric val_loss did not improve in the last 8 records. Best score: 0.395. Signaling Trainer to stop.\n",
      "Epoch 5, global step 1683: 'val_loss' was not in top 1\n"
     ]
    },
    {
     "name": "stdout",
     "output_type": "stream",
     "text": [
      "epoch 5 validation loss 0.5602079033851624\n",
      "epoch 5 validation C-MAP score pad 5 0.7940003151936366\n",
      "epoch 5 validation C-MAP score pad 3 0.7496786981292644\n",
      "epoch 5 validation AP score 0.8390537247514859\n"
     ]
    },
    {
     "name": "stderr",
     "output_type": "stream",
     "text": [
      "  0%|          | 0/19567 [12:12:17<?, ?it/s]\n"
     ]
    }
   ],
   "source": [
    "run_training()"
   ]
  }
 ],
 "metadata": {
  "kernelspec": {
   "display_name": "cse6740-birdclef-1wfYQEHU-py3.11",
   "language": "python",
   "name": "python3"
  },
  "language_info": {
   "codemirror_mode": {
    "name": "ipython",
    "version": 3
   },
   "file_extension": ".py",
   "mimetype": "text/x-python",
   "name": "python",
   "nbconvert_exporter": "python",
   "pygments_lexer": "ipython3",
   "version": "3.11.2"
  }
 },
 "nbformat": 4,
 "nbformat_minor": 5
}
